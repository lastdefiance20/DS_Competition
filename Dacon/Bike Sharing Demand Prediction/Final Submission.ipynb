{
  "cells": [
    {
      "cell_type": "code",
      "execution_count": null,
      "metadata": {
        "colab": {
          "base_uri": "https://localhost:8080/"
        },
        "id": "DN_tfdTwHQjT",
        "outputId": "8e3cdd90-ddf6-4183-ebd7-bd900b3bdfdd"
      },
      "outputs": [
        {
          "name": "stdout",
          "output_type": "stream",
          "text": [
            "Mounted at /content/drive\n"
          ]
        }
      ],
      "source": [
        "from google.colab import drive\n",
        "drive.mount('/content/drive')"
      ]
    },
    {
      "cell_type": "code",
      "execution_count": null,
      "metadata": {
        "id": "EMb-Noc6Ho4I"
      },
      "outputs": [],
      "source": [
        "from matplotlib import pyplot as plt\n",
        "import pandas as pd\n",
        "import numpy as np\n",
        "import seaborn as sns\n",
        "%matplotlib inline\n",
        "\n",
        "pd.set_option('mode.chained_assignment',  None) # <==== 경고를 끈다\n",
        "\n",
        "filename = '/content/drive/My Drive/bicycle_data/train.csv'\n",
        "\n",
        "data_train = pd.read_csv(filename)\n",
        "\n",
        "filename = '/content/drive/My Drive/bicycle_data/test.csv'\n",
        "\n",
        "data_test = pd.read_csv(filename)"
      ]
    },
    {
      "cell_type": "code",
      "execution_count": null,
      "metadata": {
        "colab": {
          "base_uri": "https://localhost:8080/",
          "height": 457
        },
        "id": "tZPunz-jkz-y",
        "outputId": "3d863790-2f4f-4906-d31d-3c8569977e2e"
      },
      "outputs": [
        {
          "data": {
            "text/html": [
              "\n",
              "  <div id=\"df-db01d874-108f-4dc8-9c4d-be93ac583a4b\">\n",
              "    <div class=\"colab-df-container\">\n",
              "      <div>\n",
              "<style scoped>\n",
              "    .dataframe tbody tr th:only-of-type {\n",
              "        vertical-align: middle;\n",
              "    }\n",
              "\n",
              "    .dataframe tbody tr th {\n",
              "        vertical-align: top;\n",
              "    }\n",
              "\n",
              "    .dataframe thead th {\n",
              "        text-align: right;\n",
              "    }\n",
              "</style>\n",
              "<table border=\"1\" class=\"dataframe\">\n",
              "  <thead>\n",
              "    <tr style=\"text-align: right;\">\n",
              "      <th></th>\n",
              "      <th>0</th>\n",
              "      <th>1</th>\n",
              "      <th>2</th>\n",
              "      <th>3</th>\n",
              "      <th>4</th>\n",
              "    </tr>\n",
              "  </thead>\n",
              "  <tbody>\n",
              "    <tr>\n",
              "      <th>date</th>\n",
              "      <td>2018-01-01</td>\n",
              "      <td>2018-01-02</td>\n",
              "      <td>2018-01-03</td>\n",
              "      <td>2018-01-04</td>\n",
              "      <td>2018-01-05</td>\n",
              "    </tr>\n",
              "    <tr>\n",
              "      <th>precipitation</th>\n",
              "      <td>NaN</td>\n",
              "      <td>NaN</td>\n",
              "      <td>NaN</td>\n",
              "      <td>NaN</td>\n",
              "      <td>NaN</td>\n",
              "    </tr>\n",
              "    <tr>\n",
              "      <th>temp_mean</th>\n",
              "      <td>-1.3</td>\n",
              "      <td>-1.8</td>\n",
              "      <td>-4.7</td>\n",
              "      <td>-4.7</td>\n",
              "      <td>-3.0</td>\n",
              "    </tr>\n",
              "    <tr>\n",
              "      <th>temp_highest</th>\n",
              "      <td>3.8</td>\n",
              "      <td>1.8</td>\n",
              "      <td>-0.4</td>\n",
              "      <td>-0.7</td>\n",
              "      <td>1.6</td>\n",
              "    </tr>\n",
              "    <tr>\n",
              "      <th>temp_lowest</th>\n",
              "      <td>-5.1</td>\n",
              "      <td>-4.3</td>\n",
              "      <td>-7.1</td>\n",
              "      <td>-8.7</td>\n",
              "      <td>-5.6</td>\n",
              "    </tr>\n",
              "    <tr>\n",
              "      <th>PM10</th>\n",
              "      <td>34.0</td>\n",
              "      <td>36.0</td>\n",
              "      <td>31.0</td>\n",
              "      <td>39.0</td>\n",
              "      <td>51.0</td>\n",
              "    </tr>\n",
              "    <tr>\n",
              "      <th>PM2.5</th>\n",
              "      <td>17.0</td>\n",
              "      <td>22.0</td>\n",
              "      <td>19.0</td>\n",
              "      <td>24.0</td>\n",
              "      <td>35.0</td>\n",
              "    </tr>\n",
              "    <tr>\n",
              "      <th>humidity</th>\n",
              "      <td>39.1</td>\n",
              "      <td>42.0</td>\n",
              "      <td>42.3</td>\n",
              "      <td>43.0</td>\n",
              "      <td>48.4</td>\n",
              "    </tr>\n",
              "    <tr>\n",
              "      <th>sunshine_sum</th>\n",
              "      <td>8.3</td>\n",
              "      <td>7.9</td>\n",
              "      <td>8.6</td>\n",
              "      <td>6.2</td>\n",
              "      <td>8.2</td>\n",
              "    </tr>\n",
              "    <tr>\n",
              "      <th>sunshine_rate</th>\n",
              "      <td>86.5</td>\n",
              "      <td>82.3</td>\n",
              "      <td>88.7</td>\n",
              "      <td>63.9</td>\n",
              "      <td>84.5</td>\n",
              "    </tr>\n",
              "    <tr>\n",
              "      <th>wind_mean</th>\n",
              "      <td>1.4</td>\n",
              "      <td>1.8</td>\n",
              "      <td>2.2</td>\n",
              "      <td>1.4</td>\n",
              "      <td>1.7</td>\n",
              "    </tr>\n",
              "    <tr>\n",
              "      <th>wind_max</th>\n",
              "      <td>3.8</td>\n",
              "      <td>4.9</td>\n",
              "      <td>3.5</td>\n",
              "      <td>3.5</td>\n",
              "      <td>3.6</td>\n",
              "    </tr>\n",
              "    <tr>\n",
              "      <th>rental</th>\n",
              "      <td>4950</td>\n",
              "      <td>7136</td>\n",
              "      <td>7156</td>\n",
              "      <td>7102</td>\n",
              "      <td>7705</td>\n",
              "    </tr>\n",
              "  </tbody>\n",
              "</table>\n",
              "</div>\n",
              "      <button class=\"colab-df-convert\" onclick=\"convertToInteractive('df-db01d874-108f-4dc8-9c4d-be93ac583a4b')\"\n",
              "              title=\"Convert this dataframe to an interactive table.\"\n",
              "              style=\"display:none;\">\n",
              "        \n",
              "  <svg xmlns=\"http://www.w3.org/2000/svg\" height=\"24px\"viewBox=\"0 0 24 24\"\n",
              "       width=\"24px\">\n",
              "    <path d=\"M0 0h24v24H0V0z\" fill=\"none\"/>\n",
              "    <path d=\"M18.56 5.44l.94 2.06.94-2.06 2.06-.94-2.06-.94-.94-2.06-.94 2.06-2.06.94zm-11 1L8.5 8.5l.94-2.06 2.06-.94-2.06-.94L8.5 2.5l-.94 2.06-2.06.94zm10 10l.94 2.06.94-2.06 2.06-.94-2.06-.94-.94-2.06-.94 2.06-2.06.94z\"/><path d=\"M17.41 7.96l-1.37-1.37c-.4-.4-.92-.59-1.43-.59-.52 0-1.04.2-1.43.59L10.3 9.45l-7.72 7.72c-.78.78-.78 2.05 0 2.83L4 21.41c.39.39.9.59 1.41.59.51 0 1.02-.2 1.41-.59l7.78-7.78 2.81-2.81c.8-.78.8-2.07 0-2.86zM5.41 20L4 18.59l7.72-7.72 1.47 1.35L5.41 20z\"/>\n",
              "  </svg>\n",
              "      </button>\n",
              "      \n",
              "  <style>\n",
              "    .colab-df-container {\n",
              "      display:flex;\n",
              "      flex-wrap:wrap;\n",
              "      gap: 12px;\n",
              "    }\n",
              "\n",
              "    .colab-df-convert {\n",
              "      background-color: #E8F0FE;\n",
              "      border: none;\n",
              "      border-radius: 50%;\n",
              "      cursor: pointer;\n",
              "      display: none;\n",
              "      fill: #1967D2;\n",
              "      height: 32px;\n",
              "      padding: 0 0 0 0;\n",
              "      width: 32px;\n",
              "    }\n",
              "\n",
              "    .colab-df-convert:hover {\n",
              "      background-color: #E2EBFA;\n",
              "      box-shadow: 0px 1px 2px rgba(60, 64, 67, 0.3), 0px 1px 3px 1px rgba(60, 64, 67, 0.15);\n",
              "      fill: #174EA6;\n",
              "    }\n",
              "\n",
              "    [theme=dark] .colab-df-convert {\n",
              "      background-color: #3B4455;\n",
              "      fill: #D2E3FC;\n",
              "    }\n",
              "\n",
              "    [theme=dark] .colab-df-convert:hover {\n",
              "      background-color: #434B5C;\n",
              "      box-shadow: 0px 1px 3px 1px rgba(0, 0, 0, 0.15);\n",
              "      filter: drop-shadow(0px 1px 2px rgba(0, 0, 0, 0.3));\n",
              "      fill: #FFFFFF;\n",
              "    }\n",
              "  </style>\n",
              "\n",
              "      <script>\n",
              "        const buttonEl =\n",
              "          document.querySelector('#df-db01d874-108f-4dc8-9c4d-be93ac583a4b button.colab-df-convert');\n",
              "        buttonEl.style.display =\n",
              "          google.colab.kernel.accessAllowed ? 'block' : 'none';\n",
              "\n",
              "        async function convertToInteractive(key) {\n",
              "          const element = document.querySelector('#df-db01d874-108f-4dc8-9c4d-be93ac583a4b');\n",
              "          const dataTable =\n",
              "            await google.colab.kernel.invokeFunction('convertToInteractive',\n",
              "                                                     [key], {});\n",
              "          if (!dataTable) return;\n",
              "\n",
              "          const docLinkHtml = 'Like what you see? Visit the ' +\n",
              "            '<a target=\"_blank\" href=https://colab.research.google.com/notebooks/data_table.ipynb>data table notebook</a>'\n",
              "            + ' to learn more about interactive tables.';\n",
              "          element.innerHTML = '';\n",
              "          dataTable['output_type'] = 'display_data';\n",
              "          await google.colab.output.renderOutput(dataTable, element);\n",
              "          const docLink = document.createElement('div');\n",
              "          docLink.innerHTML = docLinkHtml;\n",
              "          element.appendChild(docLink);\n",
              "        }\n",
              "      </script>\n",
              "    </div>\n",
              "  </div>\n",
              "  "
            ],
            "text/plain": [
              "                        0           1           2           3           4\n",
              "date           2018-01-01  2018-01-02  2018-01-03  2018-01-04  2018-01-05\n",
              "precipitation         NaN         NaN         NaN         NaN         NaN\n",
              "temp_mean            -1.3        -1.8        -4.7        -4.7        -3.0\n",
              "temp_highest          3.8         1.8        -0.4        -0.7         1.6\n",
              "temp_lowest          -5.1        -4.3        -7.1        -8.7        -5.6\n",
              "PM10                 34.0        36.0        31.0        39.0        51.0\n",
              "PM2.5                17.0        22.0        19.0        24.0        35.0\n",
              "humidity             39.1        42.0        42.3        43.0        48.4\n",
              "sunshine_sum          8.3         7.9         8.6         6.2         8.2\n",
              "sunshine_rate        86.5        82.3        88.7        63.9        84.5\n",
              "wind_mean             1.4         1.8         2.2         1.4         1.7\n",
              "wind_max              3.8         4.9         3.5         3.5         3.6\n",
              "rental               4950        7136        7156        7102        7705"
            ]
          },
          "execution_count": 339,
          "metadata": {},
          "output_type": "execute_result"
        }
      ],
      "source": [
        "data_train.head(5).transpose()"
      ]
    },
    {
      "cell_type": "code",
      "execution_count": null,
      "metadata": {
        "colab": {
          "base_uri": "https://localhost:8080/",
          "height": 426
        },
        "id": "HyhBIpnXlZ6y",
        "outputId": "c034fa3c-e1be-4f5a-e1a2-1cbc2b476c48"
      },
      "outputs": [
        {
          "data": {
            "text/html": [
              "\n",
              "  <div id=\"df-29aea740-942c-465d-a590-645bdf42974e\">\n",
              "    <div class=\"colab-df-container\">\n",
              "      <div>\n",
              "<style scoped>\n",
              "    .dataframe tbody tr th:only-of-type {\n",
              "        vertical-align: middle;\n",
              "    }\n",
              "\n",
              "    .dataframe tbody tr th {\n",
              "        vertical-align: top;\n",
              "    }\n",
              "\n",
              "    .dataframe thead th {\n",
              "        text-align: right;\n",
              "    }\n",
              "</style>\n",
              "<table border=\"1\" class=\"dataframe\">\n",
              "  <thead>\n",
              "    <tr style=\"text-align: right;\">\n",
              "      <th></th>\n",
              "      <th>0</th>\n",
              "      <th>1</th>\n",
              "      <th>2</th>\n",
              "      <th>3</th>\n",
              "      <th>4</th>\n",
              "    </tr>\n",
              "  </thead>\n",
              "  <tbody>\n",
              "    <tr>\n",
              "      <th>date</th>\n",
              "      <td>2021-01-01</td>\n",
              "      <td>2021-01-02</td>\n",
              "      <td>2021-01-03</td>\n",
              "      <td>2021-01-04</td>\n",
              "      <td>2021-01-05</td>\n",
              "    </tr>\n",
              "    <tr>\n",
              "      <th>precipitation</th>\n",
              "      <td>NaN</td>\n",
              "      <td>NaN</td>\n",
              "      <td>NaN</td>\n",
              "      <td>0.0</td>\n",
              "      <td>0.0</td>\n",
              "    </tr>\n",
              "    <tr>\n",
              "      <th>temp_mean</th>\n",
              "      <td>-4.2</td>\n",
              "      <td>-5.0</td>\n",
              "      <td>-5.6</td>\n",
              "      <td>-3.5</td>\n",
              "      <td>-5.5</td>\n",
              "    </tr>\n",
              "    <tr>\n",
              "      <th>temp_highest</th>\n",
              "      <td>1.6</td>\n",
              "      <td>-1.4</td>\n",
              "      <td>-2.0</td>\n",
              "      <td>0.3</td>\n",
              "      <td>-2.1</td>\n",
              "    </tr>\n",
              "    <tr>\n",
              "      <th>temp_lowest</th>\n",
              "      <td>-9.8</td>\n",
              "      <td>-8.4</td>\n",
              "      <td>-9.1</td>\n",
              "      <td>-8.4</td>\n",
              "      <td>-9.9</td>\n",
              "    </tr>\n",
              "    <tr>\n",
              "      <th>PM10</th>\n",
              "      <td>30.0</td>\n",
              "      <td>34.0</td>\n",
              "      <td>39.0</td>\n",
              "      <td>40.0</td>\n",
              "      <td>30.0</td>\n",
              "    </tr>\n",
              "    <tr>\n",
              "      <th>PM2.5</th>\n",
              "      <td>17.0</td>\n",
              "      <td>12.0</td>\n",
              "      <td>14.0</td>\n",
              "      <td>23.0</td>\n",
              "      <td>17.0</td>\n",
              "    </tr>\n",
              "    <tr>\n",
              "      <th>humidity</th>\n",
              "      <td>64.0</td>\n",
              "      <td>38.5</td>\n",
              "      <td>45.0</td>\n",
              "      <td>51.4</td>\n",
              "      <td>52.8</td>\n",
              "    </tr>\n",
              "    <tr>\n",
              "      <th>sunshine_sum</th>\n",
              "      <td>6.5</td>\n",
              "      <td>9.0</td>\n",
              "      <td>5.5</td>\n",
              "      <td>4.6</td>\n",
              "      <td>8.6</td>\n",
              "    </tr>\n",
              "    <tr>\n",
              "      <th>sunshine_rate</th>\n",
              "      <td>67.7</td>\n",
              "      <td>93.8</td>\n",
              "      <td>56.7</td>\n",
              "      <td>47.4</td>\n",
              "      <td>88.7</td>\n",
              "    </tr>\n",
              "    <tr>\n",
              "      <th>wind_mean</th>\n",
              "      <td>2.0</td>\n",
              "      <td>2.6</td>\n",
              "      <td>2.0</td>\n",
              "      <td>1.7</td>\n",
              "      <td>2.9</td>\n",
              "    </tr>\n",
              "    <tr>\n",
              "      <th>wind_max</th>\n",
              "      <td>4.1</td>\n",
              "      <td>5.4</td>\n",
              "      <td>4.5</td>\n",
              "      <td>3.2</td>\n",
              "      <td>5.7</td>\n",
              "    </tr>\n",
              "  </tbody>\n",
              "</table>\n",
              "</div>\n",
              "      <button class=\"colab-df-convert\" onclick=\"convertToInteractive('df-29aea740-942c-465d-a590-645bdf42974e')\"\n",
              "              title=\"Convert this dataframe to an interactive table.\"\n",
              "              style=\"display:none;\">\n",
              "        \n",
              "  <svg xmlns=\"http://www.w3.org/2000/svg\" height=\"24px\"viewBox=\"0 0 24 24\"\n",
              "       width=\"24px\">\n",
              "    <path d=\"M0 0h24v24H0V0z\" fill=\"none\"/>\n",
              "    <path d=\"M18.56 5.44l.94 2.06.94-2.06 2.06-.94-2.06-.94-.94-2.06-.94 2.06-2.06.94zm-11 1L8.5 8.5l.94-2.06 2.06-.94-2.06-.94L8.5 2.5l-.94 2.06-2.06.94zm10 10l.94 2.06.94-2.06 2.06-.94-2.06-.94-.94-2.06-.94 2.06-2.06.94z\"/><path d=\"M17.41 7.96l-1.37-1.37c-.4-.4-.92-.59-1.43-.59-.52 0-1.04.2-1.43.59L10.3 9.45l-7.72 7.72c-.78.78-.78 2.05 0 2.83L4 21.41c.39.39.9.59 1.41.59.51 0 1.02-.2 1.41-.59l7.78-7.78 2.81-2.81c.8-.78.8-2.07 0-2.86zM5.41 20L4 18.59l7.72-7.72 1.47 1.35L5.41 20z\"/>\n",
              "  </svg>\n",
              "      </button>\n",
              "      \n",
              "  <style>\n",
              "    .colab-df-container {\n",
              "      display:flex;\n",
              "      flex-wrap:wrap;\n",
              "      gap: 12px;\n",
              "    }\n",
              "\n",
              "    .colab-df-convert {\n",
              "      background-color: #E8F0FE;\n",
              "      border: none;\n",
              "      border-radius: 50%;\n",
              "      cursor: pointer;\n",
              "      display: none;\n",
              "      fill: #1967D2;\n",
              "      height: 32px;\n",
              "      padding: 0 0 0 0;\n",
              "      width: 32px;\n",
              "    }\n",
              "\n",
              "    .colab-df-convert:hover {\n",
              "      background-color: #E2EBFA;\n",
              "      box-shadow: 0px 1px 2px rgba(60, 64, 67, 0.3), 0px 1px 3px 1px rgba(60, 64, 67, 0.15);\n",
              "      fill: #174EA6;\n",
              "    }\n",
              "\n",
              "    [theme=dark] .colab-df-convert {\n",
              "      background-color: #3B4455;\n",
              "      fill: #D2E3FC;\n",
              "    }\n",
              "\n",
              "    [theme=dark] .colab-df-convert:hover {\n",
              "      background-color: #434B5C;\n",
              "      box-shadow: 0px 1px 3px 1px rgba(0, 0, 0, 0.15);\n",
              "      filter: drop-shadow(0px 1px 2px rgba(0, 0, 0, 0.3));\n",
              "      fill: #FFFFFF;\n",
              "    }\n",
              "  </style>\n",
              "\n",
              "      <script>\n",
              "        const buttonEl =\n",
              "          document.querySelector('#df-29aea740-942c-465d-a590-645bdf42974e button.colab-df-convert');\n",
              "        buttonEl.style.display =\n",
              "          google.colab.kernel.accessAllowed ? 'block' : 'none';\n",
              "\n",
              "        async function convertToInteractive(key) {\n",
              "          const element = document.querySelector('#df-29aea740-942c-465d-a590-645bdf42974e');\n",
              "          const dataTable =\n",
              "            await google.colab.kernel.invokeFunction('convertToInteractive',\n",
              "                                                     [key], {});\n",
              "          if (!dataTable) return;\n",
              "\n",
              "          const docLinkHtml = 'Like what you see? Visit the ' +\n",
              "            '<a target=\"_blank\" href=https://colab.research.google.com/notebooks/data_table.ipynb>data table notebook</a>'\n",
              "            + ' to learn more about interactive tables.';\n",
              "          element.innerHTML = '';\n",
              "          dataTable['output_type'] = 'display_data';\n",
              "          await google.colab.output.renderOutput(dataTable, element);\n",
              "          const docLink = document.createElement('div');\n",
              "          docLink.innerHTML = docLinkHtml;\n",
              "          element.appendChild(docLink);\n",
              "        }\n",
              "      </script>\n",
              "    </div>\n",
              "  </div>\n",
              "  "
            ],
            "text/plain": [
              "                        0           1           2           3           4\n",
              "date           2021-01-01  2021-01-02  2021-01-03  2021-01-04  2021-01-05\n",
              "precipitation         NaN         NaN         NaN         0.0         0.0\n",
              "temp_mean            -4.2        -5.0        -5.6        -3.5        -5.5\n",
              "temp_highest          1.6        -1.4        -2.0         0.3        -2.1\n",
              "temp_lowest          -9.8        -8.4        -9.1        -8.4        -9.9\n",
              "PM10                 30.0        34.0        39.0        40.0        30.0\n",
              "PM2.5                17.0        12.0        14.0        23.0        17.0\n",
              "humidity             64.0        38.5        45.0        51.4        52.8\n",
              "sunshine_sum          6.5         9.0         5.5         4.6         8.6\n",
              "sunshine_rate        67.7        93.8        56.7        47.4        88.7\n",
              "wind_mean             2.0         2.6         2.0         1.7         2.9\n",
              "wind_max              4.1         5.4         4.5         3.2         5.7"
            ]
          },
          "execution_count": 340,
          "metadata": {},
          "output_type": "execute_result"
        }
      ],
      "source": [
        "data_test.head(5).transpose()"
      ]
    },
    {
      "cell_type": "markdown",
      "metadata": {
        "id": "A1jmfXRRIUu8"
      },
      "source": [
        "## Feature 설명\n",
        "\n",
        "-  date: 날짜\n",
        "-  precipitation: 강수량(mm)\n",
        "-  temp_mean: 평균 기온(℃)\n",
        "-  temp_highest: 최고 기온(℃)\n",
        "-  temp_lowest: 최저 기온(℃)\n",
        "-  PM10: 미세먼지(㎍/㎥)\n",
        "-  PM2.5: 초미세먼지(㎍/㎥)\n",
        "-  humidity: 습도(%rh)\n",
        "-  sunshine_sum: 일조합\n",
        "-  sunshine_rate: 일조율\n",
        "-  wind_mean: 평균 풍속(m/s)\n",
        "-  wind_max: 최대 풍속(m/s)\n",
        "-  rentals : 따릉이 대여량"
      ]
    },
    {
      "cell_type": "code",
      "execution_count": null,
      "metadata": {
        "colab": {
          "base_uri": "https://localhost:8080/"
        },
        "id": "XNbSP3OvJR24",
        "outputId": "cc97d920-1aab-40a0-cda6-29700e5e713e"
      },
      "outputs": [
        {
          "data": {
            "text/plain": [
              "(1095, 13)"
            ]
          },
          "execution_count": 341,
          "metadata": {},
          "output_type": "execute_result"
        }
      ],
      "source": [
        "data_train.shape"
      ]
    },
    {
      "cell_type": "code",
      "execution_count": null,
      "metadata": {
        "colab": {
          "base_uri": "https://localhost:8080/"
        },
        "id": "hZF5emWlM_yG",
        "outputId": "9d919e0f-34cf-4d00-e864-e10ac4fc6e1a"
      },
      "outputs": [
        {
          "data": {
            "text/plain": [
              "date               0\n",
              "precipitation    678\n",
              "temp_mean          0\n",
              "temp_highest       0\n",
              "temp_lowest        0\n",
              "PM10              67\n",
              "PM2.5             68\n",
              "humidity           0\n",
              "sunshine_sum       5\n",
              "sunshine_rate      0\n",
              "wind_mean          0\n",
              "wind_max           0\n",
              "rental             0\n",
              "dtype: int64"
            ]
          },
          "execution_count": 342,
          "metadata": {},
          "output_type": "execute_result"
        }
      ],
      "source": [
        "data_train.isnull().sum()"
      ]
    },
    {
      "cell_type": "code",
      "execution_count": null,
      "metadata": {
        "colab": {
          "base_uri": "https://localhost:8080/"
        },
        "id": "K-l_X5u8k8wM",
        "outputId": "17ef4198-b1dc-49d2-dbbc-b42d2a23df90"
      },
      "outputs": [
        {
          "data": {
            "text/plain": [
              "date               0\n",
              "precipitation    205\n",
              "temp_mean          0\n",
              "temp_highest       0\n",
              "temp_lowest        0\n",
              "PM10               0\n",
              "PM2.5              0\n",
              "humidity           0\n",
              "sunshine_sum       1\n",
              "sunshine_rate      0\n",
              "wind_mean          0\n",
              "wind_max           0\n",
              "dtype: int64"
            ]
          },
          "execution_count": 343,
          "metadata": {},
          "output_type": "execute_result"
        }
      ],
      "source": [
        "data_test.isnull().sum()"
      ]
    },
    {
      "cell_type": "code",
      "execution_count": null,
      "metadata": {
        "colab": {
          "base_uri": "https://localhost:8080/",
          "height": 297
        },
        "id": "mPwbw3RlNQlG",
        "outputId": "889798f5-bc02-4acb-b5c6-b2239601b6cc"
      },
      "outputs": [
        {
          "data": {
            "text/plain": [
              "<matplotlib.axes._subplots.AxesSubplot at 0x7f5f92940b90>"
            ]
          },
          "execution_count": 344,
          "metadata": {},
          "output_type": "execute_result"
        },
        {
          "data": {
            "image/png": "[encoded data removed]",
            "text/plain": [
              "<Figure size 432x288 with 1 Axes>"
            ]
          },
          "metadata": {
            "needs_background": "light"
          },
          "output_type": "display_data"
        }
      ],
      "source": [
        "sns.histplot(data_train['rental'])"
      ]
    },
    {
      "cell_type": "code",
      "execution_count": null,
      "metadata": {
        "id": "tW3RKP_glGtx"
      },
      "outputs": [],
      "source": [
        "data_list = [data_train, data_test]"
      ]
    },
    {
      "cell_type": "markdown",
      "metadata": {
        "id": "i0TsxZpHInpU"
      },
      "source": [
        "# Data preprocessing"
      ]
    },
    {
      "cell_type": "markdown",
      "metadata": {
        "id": "hGEPRl18Mvrx"
      },
      "source": [
        "### NAN값 replace\n"
      ]
    },
    {
      "cell_type": "markdown",
      "metadata": {
        "id": "vAM3NmoVoMYf"
      },
      "source": [
        "#### precipitation nan값 대체\n",
        "\n",
        "precipitation == NAN이면 비가 아예 오지 않았다는 뜻이다."
      ]
    },
    {
      "cell_type": "code",
      "execution_count": null,
      "metadata": {
        "id": "OMwiC8b3h0IG"
      },
      "outputs": [],
      "source": [
        "for data_df in data_list:\n",
        "  israin = []\n",
        "\n",
        "  for i in range(data_df.shape[0]):\n",
        "    precipitation = data_df[\"precipitation\"].iloc[i]\n",
        "    if np.isnan(precipitation):\n",
        "      israin.append(0)\n",
        "    else:\n",
        "      israin.append(1)\n",
        "\n",
        "  data_df[\"israin\"] = israin"
      ]
    },
    {
      "cell_type": "code",
      "execution_count": null,
      "metadata": {
        "id": "nfuVP-XHMySy"
      },
      "outputs": [],
      "source": [
        "for data_df in data_list:\n",
        "  data_df[\"precipitation\"] = data_df[\"precipitation\"].replace(np.nan, -0.1) #비가 아예 오지 않음 = 0"
      ]
    },
    {
      "cell_type": "code",
      "execution_count": null,
      "metadata": {
        "colab": {
          "base_uri": "https://localhost:8080/",
          "height": 297
        },
        "id": "KjZraqBuiR5N",
        "outputId": "a8989a76-94ff-4315-bffa-15676eeea56e"
      },
      "outputs": [
        {
          "data": {
            "text/plain": [
              "<matplotlib.axes._subplots.AxesSubplot at 0x7f5f85db5810>"
            ]
          },
          "execution_count": 348,
          "metadata": {},
          "output_type": "execute_result"
        },
        {
          "data": {
            "image/png": "[encoded data removed]",
            "text/plain": [
              "<Figure size 432x288 with 1 Axes>"
            ]
          },
          "metadata": {
            "needs_background": "light"
          },
          "output_type": "display_data"
        }
      ],
      "source": [
        "sns.barplot(x = data_train[\"israin\"], y = data_train[\"rental\"])"
      ]
    },
    {
      "cell_type": "markdown",
      "metadata": {
        "id": "m4pVlaN-od0j"
      },
      "source": [
        "#### PM10, PM2.5값 대체"
      ]
    },
    {
      "cell_type": "code",
      "execution_count": null,
      "metadata": {
        "id": "cBEZT-CJo13t"
      },
      "outputs": [],
      "source": [
        "for data_df in data_list:\n",
        "  data_df[\"PM10\"] = data_df[\"PM10\"].fillna(data_df[\"PM10\"].mean())\n",
        "  data_df[\"PM2.5\"] = data_df[\"PM2.5\"].fillna(data_df[\"PM2.5\"].mean())\n",
        "  data_df[\"sunshine_sum\"] = data_df[\"sunshine_sum\"].fillna(data_df[\"sunshine_sum\"].mean())"
      ]
    },
    {
      "cell_type": "code",
      "execution_count": null,
      "metadata": {
        "colab": {
          "base_uri": "https://localhost:8080/",
          "height": 297
        },
        "id": "lzDNWPpEoBVN",
        "outputId": "f6fb53da-9e80-41b0-85a3-805c16118633"
      },
      "outputs": [
        {
          "data": {
            "text/plain": [
              "<matplotlib.axes._subplots.AxesSubplot at 0x7f5f92632bd0>"
            ]
          },
          "execution_count": 350,
          "metadata": {},
          "output_type": "execute_result"
        },
        {
          "data": {
            "image/png": "[encoded data removed]",
            "text/plain": [
              "<Figure size 432x288 with 1 Axes>"
            ]
          },
          "metadata": {
            "needs_background": "light"
          },
          "output_type": "display_data"
        }
      ],
      "source": [
        "sns.barplot(x = data_train[\"israin\"], y = data_train[\"PM10\"])"
      ]
    },
    {
      "cell_type": "markdown",
      "metadata": {
        "id": "wjPZVw7XjCjm"
      },
      "source": [
        "### 년도를 이용한 데이터 scale up 추가"
      ]
    },
    {
      "cell_type": "code",
      "execution_count": null,
      "metadata": {
        "id": "DffIbLrIjEnb"
      },
      "outputs": [],
      "source": [
        "for data_df in data_list:\n",
        "  year_list = []\n",
        "  \n",
        "  for i in range(data_df.shape[0]):\n",
        "    timestamp = data_df[\"date\"].iloc[i]\n",
        "    year, month, day = map(int, timestamp.split(\"-\"))\n",
        "    if year == 2021:\n",
        "      year = 2020\n",
        "    year -= 2018\n",
        "    year_list.append(year)\n",
        "\n",
        "  data_df[\"year\"] = year_list"
      ]
    },
    {
      "cell_type": "code",
      "execution_count": null,
      "metadata": {
        "colab": {
          "base_uri": "https://localhost:8080/",
          "height": 298
        },
        "id": "nbob1jB2jPdo",
        "outputId": "b9604b48-3f4e-413e-d22e-b9c9ad65f7f7"
      },
      "outputs": [
        {
          "data": {
            "text/plain": [
              "<matplotlib.axes._subplots.AxesSubplot at 0x7f5f9283b310>"
            ]
          },
          "execution_count": 352,
          "metadata": {},
          "output_type": "execute_result"
        },
        {
          "data": {
            "image/png": "[encoded data removed]",
            "text/plain": [
              "<Figure size 432x288 with 1 Axes>"
            ]
          },
          "metadata": {
            "needs_background": "light"
          },
          "output_type": "display_data"
        }
      ],
      "source": [
        "sns.barplot(x = data_train[\"year\"], y = data_train[\"rental\"])"
      ]
    },
    {
      "cell_type": "markdown",
      "metadata": {
        "id": "jSr9zJ58kKXe"
      },
      "source": [
        "### 월 추가"
      ]
    },
    {
      "cell_type": "code",
      "execution_count": null,
      "metadata": {
        "id": "ldsxteGrkNWg"
      },
      "outputs": [],
      "source": [
        "for data_df in data_list:\n",
        "  month_list = []\n",
        "  \n",
        "  for i in range(data_df.shape[0]):\n",
        "    timestamp = data_df[\"date\"].iloc[i]\n",
        "    year, month, day = map(int, timestamp.split(\"-\"))\n",
        "    month_list.append(month)\n",
        "\n",
        "  data_df[\"month\"] = month_list"
      ]
    },
    {
      "cell_type": "code",
      "execution_count": null,
      "metadata": {
        "colab": {
          "base_uri": "https://localhost:8080/",
          "height": 297
        },
        "id": "0mOLmvzgkNWg",
        "outputId": "df4d48ec-0f80-4a94-93ad-54da02a93c09"
      },
      "outputs": [
        {
          "data": {
            "text/plain": [
              "<matplotlib.axes._subplots.AxesSubplot at 0x7f5f909e2b90>"
            ]
          },
          "execution_count": 360,
          "metadata": {},
          "output_type": "execute_result"
        },
        {
          "data": {
            "image/png": "[encoded data removed]",
            "text/plain": [
              "<Figure size 432x288 with 1 Axes>"
            ]
          },
          "metadata": {
            "needs_background": "light"
          },
          "output_type": "display_data"
        }
      ],
      "source": [
        "sns.barplot(x = data_train[\"month\"], y = data_train[\"rental\"])"
      ]
    },
    {
      "cell_type": "markdown",
      "metadata": {
        "id": "NIhI8aF9JvJl"
      },
      "source": [
        "### 주말 / 평일 추가"
      ]
    },
    {
      "cell_type": "code",
      "execution_count": null,
      "metadata": {
        "id": "Ub0-UCK3JuYI"
      },
      "outputs": [],
      "source": [
        "date_list = [\"Mon\", \"Tue\", \"Wed\", \"Thu\", \"Fri\", \"Sat\", \"Sun\"]\n",
        "\n",
        "import datetime\n",
        "\n",
        "for data_df in data_list:\n",
        "  freeday = []\n",
        "\n",
        "  # 2020-12-27 : 문자열 구성방식\n",
        "  \n",
        "  for i in range(data_df.shape[0]):\n",
        "    timestamp = data_df[\"date\"].iloc[i]\n",
        "    year, month, day = map(int, timestamp.split(\"-\"))\n",
        "\n",
        "    if datetime.date(year, month, day).weekday() > 4:\n",
        "      freeday.append(1)\n",
        "    else:\n",
        "      freeday.append(0)\n",
        "\n",
        "  data_df[\"freeday\"] = freeday"
      ]
    },
    {
      "cell_type": "code",
      "execution_count": null,
      "metadata": {
        "colab": {
          "base_uri": "https://localhost:8080/",
          "height": 297
        },
        "id": "XswCOzWoMGLo",
        "outputId": "880aab4e-bc6c-4a61-d759-fc87b6f103e6"
      },
      "outputs": [
        {
          "data": {
            "text/plain": [
              "<matplotlib.axes._subplots.AxesSubplot at 0x7f5f9220b210>"
            ]
          },
          "execution_count": 362,
          "metadata": {},
          "output_type": "execute_result"
        },
        {
          "data": {
            "image/png": "[encoded data removed]",
            "text/plain": [
              "<Figure size 432x288 with 1 Axes>"
            ]
          },
          "metadata": {
            "needs_background": "light"
          },
          "output_type": "display_data"
        }
      ],
      "source": [
        "sns.barplot(x = data_train[\"freeday\"], y = data_train[\"rental\"])"
      ]
    },
    {
      "cell_type": "markdown",
      "metadata": {
        "id": "xzOTShFzQCpx"
      },
      "source": [
        "### 공휴일 추가"
      ]
    },
    {
      "cell_type": "code",
      "execution_count": null,
      "metadata": {
        "colab": {
          "base_uri": "https://localhost:8080/"
        },
        "id": "0Nkkih70Y3Gu",
        "outputId": "657b69fa-063f-47cd-ae7a-869ae107372b"
      },
      "outputs": [
        {
          "name": "stdout",
          "output_type": "stream",
          "text": [
            "Looking in indexes: https://pypi.org/simple, https://us-python.pkg.dev/colab-wheels/public/simple/\n",
            "Requirement already satisfied: pytimekr in /usr/local/lib/python3.7/dist-packages (0.1.0)\n",
            "Requirement already satisfied: lunardate>=0.1.5 in /usr/local/lib/python3.7/dist-packages (from pytimekr) (0.2.0)\n"
          ]
        }
      ],
      "source": [
        "pip install pytimekr"
      ]
    },
    {
      "cell_type": "code",
      "execution_count": null,
      "metadata": {
        "id": "VFyV41TUI4Ur"
      },
      "outputs": [],
      "source": [
        "from pytimekr import pytimekr\n",
        "\n",
        "year_list = [2018, 2019, 2020, 2021]\n",
        "\n",
        "result_list = []\n",
        "\n",
        "for i in range(4):\n",
        "  holi_list = pytimekr.holidays(year = year_list[i]) #holidays메소드는 리스트 형태로 관련값 반환\n",
        "\n",
        "  for holiday in holi_list:\n",
        "      result_list.append(str(holiday))\n",
        "\n",
        "for data_df in data_list:\n",
        "  result = []\n",
        "\n",
        "  for i in range(data_df.shape[0]):\n",
        "    timestamp = data_df[\"date\"].iloc[i]\n",
        "    if timestamp in result_list:\n",
        "      result.append(1)\n",
        "    else:\n",
        "      result.append(0)\n",
        "\n",
        "  data_df[\"holiday\"] = result"
      ]
    },
    {
      "cell_type": "code",
      "execution_count": null,
      "metadata": {
        "colab": {
          "base_uri": "https://localhost:8080/",
          "height": 297
        },
        "id": "hG4FB80yagwI",
        "outputId": "f6aa9412-5337-4ad7-8717-5fc276ee2baf"
      },
      "outputs": [
        {
          "data": {
            "text/plain": [
              "<matplotlib.axes._subplots.AxesSubplot at 0x7f5f8dd67e90>"
            ]
          },
          "execution_count": 365,
          "metadata": {},
          "output_type": "execute_result"
        },
        {
          "data": {
            "image/png": "[encoded data removed]",
            "text/plain": [
              "<Figure size 432x288 with 1 Axes>"
            ]
          },
          "metadata": {
            "needs_background": "light"
          },
          "output_type": "display_data"
        }
      ],
      "source": [
        "sns.barplot(x = data_train[\"holiday\"], y = data_train[\"rental\"])"
      ]
    },
    {
      "cell_type": "markdown",
      "metadata": {
        "id": "nd-7QP8jEhZB"
      },
      "source": [
        "### humidity 나누기"
      ]
    },
    {
      "cell_type": "code",
      "execution_count": null,
      "metadata": {
        "id": "51n_iWyKuXL7"
      },
      "outputs": [],
      "source": [
        "for data_df in data_list:\n",
        "  data_df[\"humidity\"] = data_df[\"humidity\"]/100"
      ]
    },
    {
      "cell_type": "markdown",
      "metadata": {
        "id": "YvHqjkcvrMvs"
      },
      "source": [
        "### 불필요한 feature 버리기"
      ]
    },
    {
      "cell_type": "code",
      "execution_count": null,
      "metadata": {
        "id": "AAnkCMv3rME-"
      },
      "outputs": [],
      "source": [
        "data_train = data_train.drop([\"date\"], axis = 1)\n",
        "data_test = data_test.drop([\"date\"], axis = 1)"
      ]
    },
    {
      "cell_type": "markdown",
      "metadata": {
        "id": "ACuDSCtVrIU_"
      },
      "source": [
        "### 데이터셋 X, Y 나누고 스케일 조정하기"
      ]
    },
    {
      "cell_type": "code",
      "execution_count": null,
      "metadata": {
        "id": "iX4wTJSCrdoU"
      },
      "outputs": [],
      "source": [
        "data_train_X = data_train.drop([\"rental\"], axis = 1)\n",
        "data_train_y = data_train[\"rental\"]"
      ]
    },
    {
      "cell_type": "code",
      "execution_count": null,
      "metadata": {
        "id": "OqXn2kYy57hL"
      },
      "outputs": [],
      "source": [
        "df_scaled = data_train_X.copy()\n",
        "\n",
        "for column in df_scaled.columns:\n",
        "  data_train_X[column] = data_train_X[column] / df_scaled[column].abs().max()\n",
        "  data_test[column] = data_test[column] / df_scaled[column].abs().max()"
      ]
    },
    {
      "cell_type": "markdown",
      "metadata": {
        "id": "RxQsBVWcqj-g"
      },
      "source": [
        "# 모델 생성 및 학습하기"
      ]
    },
    {
      "cell_type": "code",
      "execution_count": null,
      "metadata": {
        "colab": {
          "base_uri": "https://localhost:8080/",
          "height": 270
        },
        "id": "IlBYbY4q4OP0",
        "outputId": "3a018104-3512-4dc3-fa63-c53a4a4784c4"
      },
      "outputs": [
        {
          "data": {
            "text/html": [
              "\n",
              "  <div id=\"df-5b79800b-c471-4d7f-9c8c-6eeb1dc8103b\">\n",
              "    <div class=\"colab-df-container\">\n",
              "      <div>\n",
              "<style scoped>\n",
              "    .dataframe tbody tr th:only-of-type {\n",
              "        vertical-align: middle;\n",
              "    }\n",
              "\n",
              "    .dataframe tbody tr th {\n",
              "        vertical-align: top;\n",
              "    }\n",
              "\n",
              "    .dataframe thead th {\n",
              "        text-align: right;\n",
              "    }\n",
              "</style>\n",
              "<table border=\"1\" class=\"dataframe\">\n",
              "  <thead>\n",
              "    <tr style=\"text-align: right;\">\n",
              "      <th></th>\n",
              "      <th>precipitation</th>\n",
              "      <th>temp_mean</th>\n",
              "      <th>temp_highest</th>\n",
              "      <th>temp_lowest</th>\n",
              "      <th>PM10</th>\n",
              "      <th>PM2.5</th>\n",
              "      <th>humidity</th>\n",
              "      <th>sunshine_sum</th>\n",
              "      <th>sunshine_rate</th>\n",
              "      <th>wind_mean</th>\n",
              "      <th>wind_max</th>\n",
              "      <th>israin</th>\n",
              "      <th>year</th>\n",
              "      <th>month</th>\n",
              "      <th>freeday</th>\n",
              "      <th>holiday</th>\n",
              "    </tr>\n",
              "  </thead>\n",
              "  <tbody>\n",
              "    <tr>\n",
              "      <th>0</th>\n",
              "      <td>-0.00097</td>\n",
              "      <td>-0.038576</td>\n",
              "      <td>0.095960</td>\n",
              "      <td>-0.168317</td>\n",
              "      <td>0.198830</td>\n",
              "      <td>0.137097</td>\n",
              "      <td>0.403093</td>\n",
              "      <td>0.610294</td>\n",
              "      <td>0.901981</td>\n",
              "      <td>0.291667</td>\n",
              "      <td>0.387755</td>\n",
              "      <td>0.0</td>\n",
              "      <td>0.0</td>\n",
              "      <td>0.083333</td>\n",
              "      <td>0.0</td>\n",
              "      <td>1.0</td>\n",
              "    </tr>\n",
              "    <tr>\n",
              "      <th>1</th>\n",
              "      <td>-0.00097</td>\n",
              "      <td>-0.053412</td>\n",
              "      <td>0.045455</td>\n",
              "      <td>-0.141914</td>\n",
              "      <td>0.210526</td>\n",
              "      <td>0.177419</td>\n",
              "      <td>0.432990</td>\n",
              "      <td>0.580882</td>\n",
              "      <td>0.858186</td>\n",
              "      <td>0.375000</td>\n",
              "      <td>0.500000</td>\n",
              "      <td>0.0</td>\n",
              "      <td>0.0</td>\n",
              "      <td>0.083333</td>\n",
              "      <td>0.0</td>\n",
              "      <td>0.0</td>\n",
              "    </tr>\n",
              "    <tr>\n",
              "      <th>2</th>\n",
              "      <td>-0.00097</td>\n",
              "      <td>-0.139466</td>\n",
              "      <td>-0.010101</td>\n",
              "      <td>-0.234323</td>\n",
              "      <td>0.181287</td>\n",
              "      <td>0.153226</td>\n",
              "      <td>0.436082</td>\n",
              "      <td>0.632353</td>\n",
              "      <td>0.924922</td>\n",
              "      <td>0.458333</td>\n",
              "      <td>0.357143</td>\n",
              "      <td>0.0</td>\n",
              "      <td>0.0</td>\n",
              "      <td>0.083333</td>\n",
              "      <td>0.0</td>\n",
              "      <td>0.0</td>\n",
              "    </tr>\n",
              "    <tr>\n",
              "      <th>3</th>\n",
              "      <td>-0.00097</td>\n",
              "      <td>-0.139466</td>\n",
              "      <td>-0.017677</td>\n",
              "      <td>-0.287129</td>\n",
              "      <td>0.228070</td>\n",
              "      <td>0.193548</td>\n",
              "      <td>0.443299</td>\n",
              "      <td>0.455882</td>\n",
              "      <td>0.666319</td>\n",
              "      <td>0.291667</td>\n",
              "      <td>0.357143</td>\n",
              "      <td>0.0</td>\n",
              "      <td>0.0</td>\n",
              "      <td>0.083333</td>\n",
              "      <td>0.0</td>\n",
              "      <td>0.0</td>\n",
              "    </tr>\n",
              "    <tr>\n",
              "      <th>4</th>\n",
              "      <td>-0.00097</td>\n",
              "      <td>-0.089021</td>\n",
              "      <td>0.040404</td>\n",
              "      <td>-0.184818</td>\n",
              "      <td>0.298246</td>\n",
              "      <td>0.282258</td>\n",
              "      <td>0.498969</td>\n",
              "      <td>0.602941</td>\n",
              "      <td>0.881126</td>\n",
              "      <td>0.354167</td>\n",
              "      <td>0.367347</td>\n",
              "      <td>0.0</td>\n",
              "      <td>0.0</td>\n",
              "      <td>0.083333</td>\n",
              "      <td>0.0</td>\n",
              "      <td>0.0</td>\n",
              "    </tr>\n",
              "  </tbody>\n",
              "</table>\n",
              "</div>\n",
              "      <button class=\"colab-df-convert\" onclick=\"convertToInteractive('df-5b79800b-c471-4d7f-9c8c-6eeb1dc8103b')\"\n",
              "              title=\"Convert this dataframe to an interactive table.\"\n",
              "              style=\"display:none;\">\n",
              "        \n",
              "  <svg xmlns=\"http://www.w3.org/2000/svg\" height=\"24px\"viewBox=\"0 0 24 24\"\n",
              "       width=\"24px\">\n",
              "    <path d=\"M0 0h24v24H0V0z\" fill=\"none\"/>\n",
              "    <path d=\"M18.56 5.44l.94 2.06.94-2.06 2.06-.94-2.06-.94-.94-2.06-.94 2.06-2.06.94zm-11 1L8.5 8.5l.94-2.06 2.06-.94-2.06-.94L8.5 2.5l-.94 2.06-2.06.94zm10 10l.94 2.06.94-2.06 2.06-.94-2.06-.94-.94-2.06-.94 2.06-2.06.94z\"/><path d=\"M17.41 7.96l-1.37-1.37c-.4-.4-.92-.59-1.43-.59-.52 0-1.04.2-1.43.59L10.3 9.45l-7.72 7.72c-.78.78-.78 2.05 0 2.83L4 21.41c.39.39.9.59 1.41.59.51 0 1.02-.2 1.41-.59l7.78-7.78 2.81-2.81c.8-.78.8-2.07 0-2.86zM5.41 20L4 18.59l7.72-7.72 1.47 1.35L5.41 20z\"/>\n",
              "  </svg>\n",
              "      </button>\n",
              "      \n",
              "  <style>\n",
              "    .colab-df-container {\n",
              "      display:flex;\n",
              "      flex-wrap:wrap;\n",
              "      gap: 12px;\n",
              "    }\n",
              "\n",
              "    .colab-df-convert {\n",
              "      background-color: #E8F0FE;\n",
              "      border: none;\n",
              "      border-radius: 50%;\n",
              "      cursor: pointer;\n",
              "      display: none;\n",
              "      fill: #1967D2;\n",
              "      height: 32px;\n",
              "      padding: 0 0 0 0;\n",
              "      width: 32px;\n",
              "    }\n",
              "\n",
              "    .colab-df-convert:hover {\n",
              "      background-color: #E2EBFA;\n",
              "      box-shadow: 0px 1px 2px rgba(60, 64, 67, 0.3), 0px 1px 3px 1px rgba(60, 64, 67, 0.15);\n",
              "      fill: #174EA6;\n",
              "    }\n",
              "\n",
              "    [theme=dark] .colab-df-convert {\n",
              "      background-color: #3B4455;\n",
              "      fill: #D2E3FC;\n",
              "    }\n",
              "\n",
              "    [theme=dark] .colab-df-convert:hover {\n",
              "      background-color: #434B5C;\n",
              "      box-shadow: 0px 1px 3px 1px rgba(0, 0, 0, 0.15);\n",
              "      filter: drop-shadow(0px 1px 2px rgba(0, 0, 0, 0.3));\n",
              "      fill: #FFFFFF;\n",
              "    }\n",
              "  </style>\n",
              "\n",
              "      <script>\n",
              "        const buttonEl =\n",
              "          document.querySelector('#df-5b79800b-c471-4d7f-9c8c-6eeb1dc8103b button.colab-df-convert');\n",
              "        buttonEl.style.display =\n",
              "          google.colab.kernel.accessAllowed ? 'block' : 'none';\n",
              "\n",
              "        async function convertToInteractive(key) {\n",
              "          const element = document.querySelector('#df-5b79800b-c471-4d7f-9c8c-6eeb1dc8103b');\n",
              "          const dataTable =\n",
              "            await google.colab.kernel.invokeFunction('convertToInteractive',\n",
              "                                                     [key], {});\n",
              "          if (!dataTable) return;\n",
              "\n",
              "          const docLinkHtml = 'Like what you see? Visit the ' +\n",
              "            '<a target=\"_blank\" href=https://colab.research.google.com/notebooks/data_table.ipynb>data table notebook</a>'\n",
              "            + ' to learn more about interactive tables.';\n",
              "          element.innerHTML = '';\n",
              "          dataTable['output_type'] = 'display_data';\n",
              "          await google.colab.output.renderOutput(dataTable, element);\n",
              "          const docLink = document.createElement('div');\n",
              "          docLink.innerHTML = docLinkHtml;\n",
              "          element.appendChild(docLink);\n",
              "        }\n",
              "      </script>\n",
              "    </div>\n",
              "  </div>\n",
              "  "
            ],
            "text/plain": [
              "   precipitation  temp_mean  temp_highest  temp_lowest      PM10     PM2.5  \\\n",
              "0       -0.00097  -0.038576      0.095960    -0.168317  0.198830  0.137097   \n",
              "1       -0.00097  -0.053412      0.045455    -0.141914  0.210526  0.177419   \n",
              "2       -0.00097  -0.139466     -0.010101    -0.234323  0.181287  0.153226   \n",
              "3       -0.00097  -0.139466     -0.017677    -0.287129  0.228070  0.193548   \n",
              "4       -0.00097  -0.089021      0.040404    -0.184818  0.298246  0.282258   \n",
              "\n",
              "   humidity  sunshine_sum  sunshine_rate  wind_mean  wind_max  israin  year  \\\n",
              "0  0.403093      0.610294       0.901981   0.291667  0.387755     0.0   0.0   \n",
              "1  0.432990      0.580882       0.858186   0.375000  0.500000     0.0   0.0   \n",
              "2  0.436082      0.632353       0.924922   0.458333  0.357143     0.0   0.0   \n",
              "3  0.443299      0.455882       0.666319   0.291667  0.357143     0.0   0.0   \n",
              "4  0.498969      0.602941       0.881126   0.354167  0.367347     0.0   0.0   \n",
              "\n",
              "      month  freeday  holiday  \n",
              "0  0.083333      0.0      1.0  \n",
              "1  0.083333      0.0      0.0  \n",
              "2  0.083333      0.0      0.0  \n",
              "3  0.083333      0.0      0.0  \n",
              "4  0.083333      0.0      0.0  "
            ]
          },
          "execution_count": 370,
          "metadata": {},
          "output_type": "execute_result"
        }
      ],
      "source": [
        "data_train_X.head()"
      ]
    },
    {
      "cell_type": "code",
      "execution_count": null,
      "metadata": {
        "colab": {
          "base_uri": "https://localhost:8080/",
          "height": 270
        },
        "id": "xG7LnXc8-J__",
        "outputId": "9bd72803-c7b9-4ea6-81d3-e5b696999088"
      },
      "outputs": [
        {
          "data": {
            "text/html": [
              "\n",
              "  <div id=\"df-00c09d76-6ce7-4fed-960b-3c781b7e1b05\">\n",
              "    <div class=\"colab-df-container\">\n",
              "      <div>\n",
              "<style scoped>\n",
              "    .dataframe tbody tr th:only-of-type {\n",
              "        vertical-align: middle;\n",
              "    }\n",
              "\n",
              "    .dataframe tbody tr th {\n",
              "        vertical-align: top;\n",
              "    }\n",
              "\n",
              "    .dataframe thead th {\n",
              "        text-align: right;\n",
              "    }\n",
              "</style>\n",
              "<table border=\"1\" class=\"dataframe\">\n",
              "  <thead>\n",
              "    <tr style=\"text-align: right;\">\n",
              "      <th></th>\n",
              "      <th>precipitation</th>\n",
              "      <th>temp_mean</th>\n",
              "      <th>temp_highest</th>\n",
              "      <th>temp_lowest</th>\n",
              "      <th>PM10</th>\n",
              "      <th>PM2.5</th>\n",
              "      <th>humidity</th>\n",
              "      <th>sunshine_sum</th>\n",
              "      <th>sunshine_rate</th>\n",
              "      <th>wind_mean</th>\n",
              "      <th>wind_max</th>\n",
              "      <th>israin</th>\n",
              "      <th>year</th>\n",
              "      <th>month</th>\n",
              "      <th>freeday</th>\n",
              "      <th>holiday</th>\n",
              "    </tr>\n",
              "  </thead>\n",
              "  <tbody>\n",
              "    <tr>\n",
              "      <th>0</th>\n",
              "      <td>-0.00097</td>\n",
              "      <td>-0.124629</td>\n",
              "      <td>0.040404</td>\n",
              "      <td>-0.323432</td>\n",
              "      <td>0.175439</td>\n",
              "      <td>0.137097</td>\n",
              "      <td>0.659794</td>\n",
              "      <td>0.477941</td>\n",
              "      <td>0.705944</td>\n",
              "      <td>0.416667</td>\n",
              "      <td>0.418367</td>\n",
              "      <td>0.0</td>\n",
              "      <td>1.0</td>\n",
              "      <td>0.083333</td>\n",
              "      <td>0.0</td>\n",
              "      <td>1.0</td>\n",
              "    </tr>\n",
              "    <tr>\n",
              "      <th>1</th>\n",
              "      <td>-0.00097</td>\n",
              "      <td>-0.148368</td>\n",
              "      <td>-0.035354</td>\n",
              "      <td>-0.277228</td>\n",
              "      <td>0.198830</td>\n",
              "      <td>0.096774</td>\n",
              "      <td>0.396907</td>\n",
              "      <td>0.661765</td>\n",
              "      <td>0.978102</td>\n",
              "      <td>0.541667</td>\n",
              "      <td>0.551020</td>\n",
              "      <td>0.0</td>\n",
              "      <td>1.0</td>\n",
              "      <td>0.083333</td>\n",
              "      <td>1.0</td>\n",
              "      <td>0.0</td>\n",
              "    </tr>\n",
              "    <tr>\n",
              "      <th>2</th>\n",
              "      <td>-0.00097</td>\n",
              "      <td>-0.166172</td>\n",
              "      <td>-0.050505</td>\n",
              "      <td>-0.300330</td>\n",
              "      <td>0.228070</td>\n",
              "      <td>0.112903</td>\n",
              "      <td>0.463918</td>\n",
              "      <td>0.404412</td>\n",
              "      <td>0.591241</td>\n",
              "      <td>0.416667</td>\n",
              "      <td>0.459184</td>\n",
              "      <td>0.0</td>\n",
              "      <td>1.0</td>\n",
              "      <td>0.083333</td>\n",
              "      <td>1.0</td>\n",
              "      <td>0.0</td>\n",
              "    </tr>\n",
              "    <tr>\n",
              "      <th>3</th>\n",
              "      <td>0.00000</td>\n",
              "      <td>-0.103858</td>\n",
              "      <td>0.007576</td>\n",
              "      <td>-0.277228</td>\n",
              "      <td>0.233918</td>\n",
              "      <td>0.185484</td>\n",
              "      <td>0.529897</td>\n",
              "      <td>0.338235</td>\n",
              "      <td>0.494265</td>\n",
              "      <td>0.354167</td>\n",
              "      <td>0.326531</td>\n",
              "      <td>1.0</td>\n",
              "      <td>1.0</td>\n",
              "      <td>0.083333</td>\n",
              "      <td>0.0</td>\n",
              "      <td>0.0</td>\n",
              "    </tr>\n",
              "    <tr>\n",
              "      <th>4</th>\n",
              "      <td>0.00000</td>\n",
              "      <td>-0.163205</td>\n",
              "      <td>-0.053030</td>\n",
              "      <td>-0.326733</td>\n",
              "      <td>0.175439</td>\n",
              "      <td>0.137097</td>\n",
              "      <td>0.544330</td>\n",
              "      <td>0.632353</td>\n",
              "      <td>0.924922</td>\n",
              "      <td>0.604167</td>\n",
              "      <td>0.581633</td>\n",
              "      <td>1.0</td>\n",
              "      <td>1.0</td>\n",
              "      <td>0.083333</td>\n",
              "      <td>0.0</td>\n",
              "      <td>0.0</td>\n",
              "    </tr>\n",
              "  </tbody>\n",
              "</table>\n",
              "</div>\n",
              "      <button class=\"colab-df-convert\" onclick=\"convertToInteractive('df-00c09d76-6ce7-4fed-960b-3c781b7e1b05')\"\n",
              "              title=\"Convert this dataframe to an interactive table.\"\n",
              "              style=\"display:none;\">\n",
              "        \n",
              "  <svg xmlns=\"http://www.w3.org/2000/svg\" height=\"24px\"viewBox=\"0 0 24 24\"\n",
              "       width=\"24px\">\n",
              "    <path d=\"M0 0h24v24H0V0z\" fill=\"none\"/>\n",
              "    <path d=\"M18.56 5.44l.94 2.06.94-2.06 2.06-.94-2.06-.94-.94-2.06-.94 2.06-2.06.94zm-11 1L8.5 8.5l.94-2.06 2.06-.94-2.06-.94L8.5 2.5l-.94 2.06-2.06.94zm10 10l.94 2.06.94-2.06 2.06-.94-2.06-.94-.94-2.06-.94 2.06-2.06.94z\"/><path d=\"M17.41 7.96l-1.37-1.37c-.4-.4-.92-.59-1.43-.59-.52 0-1.04.2-1.43.59L10.3 9.45l-7.72 7.72c-.78.78-.78 2.05 0 2.83L4 21.41c.39.39.9.59 1.41.59.51 0 1.02-.2 1.41-.59l7.78-7.78 2.81-2.81c.8-.78.8-2.07 0-2.86zM5.41 20L4 18.59l7.72-7.72 1.47 1.35L5.41 20z\"/>\n",
              "  </svg>\n",
              "      </button>\n",
              "      \n",
              "  <style>\n",
              "    .colab-df-container {\n",
              "      display:flex;\n",
              "      flex-wrap:wrap;\n",
              "      gap: 12px;\n",
              "    }\n",
              "\n",
              "    .colab-df-convert {\n",
              "      background-color: #E8F0FE;\n",
              "      border: none;\n",
              "      border-radius: 50%;\n",
              "      cursor: pointer;\n",
              "      display: none;\n",
              "      fill: #1967D2;\n",
              "      height: 32px;\n",
              "      padding: 0 0 0 0;\n",
              "      width: 32px;\n",
              "    }\n",
              "\n",
              "    .colab-df-convert:hover {\n",
              "      background-color: #E2EBFA;\n",
              "      box-shadow: 0px 1px 2px rgba(60, 64, 67, 0.3), 0px 1px 3px 1px rgba(60, 64, 67, 0.15);\n",
              "      fill: #174EA6;\n",
              "    }\n",
              "\n",
              "    [theme=dark] .colab-df-convert {\n",
              "      background-color: #3B4455;\n",
              "      fill: #D2E3FC;\n",
              "    }\n",
              "\n",
              "    [theme=dark] .colab-df-convert:hover {\n",
              "      background-color: #434B5C;\n",
              "      box-shadow: 0px 1px 3px 1px rgba(0, 0, 0, 0.15);\n",
              "      filter: drop-shadow(0px 1px 2px rgba(0, 0, 0, 0.3));\n",
              "      fill: #FFFFFF;\n",
              "    }\n",
              "  </style>\n",
              "\n",
              "      <script>\n",
              "        const buttonEl =\n",
              "          document.querySelector('#df-00c09d76-6ce7-4fed-960b-3c781b7e1b05 button.colab-df-convert');\n",
              "        buttonEl.style.display =\n",
              "          google.colab.kernel.accessAllowed ? 'block' : 'none';\n",
              "\n",
              "        async function convertToInteractive(key) {\n",
              "          const element = document.querySelector('#df-00c09d76-6ce7-4fed-960b-3c781b7e1b05');\n",
              "          const dataTable =\n",
              "            await google.colab.kernel.invokeFunction('convertToInteractive',\n",
              "                                                     [key], {});\n",
              "          if (!dataTable) return;\n",
              "\n",
              "          const docLinkHtml = 'Like what you see? Visit the ' +\n",
              "            '<a target=\"_blank\" href=https://colab.research.google.com/notebooks/data_table.ipynb>data table notebook</a>'\n",
              "            + ' to learn more about interactive tables.';\n",
              "          element.innerHTML = '';\n",
              "          dataTable['output_type'] = 'display_data';\n",
              "          await google.colab.output.renderOutput(dataTable, element);\n",
              "          const docLink = document.createElement('div');\n",
              "          docLink.innerHTML = docLinkHtml;\n",
              "          element.appendChild(docLink);\n",
              "        }\n",
              "      </script>\n",
              "    </div>\n",
              "  </div>\n",
              "  "
            ],
            "text/plain": [
              "   precipitation  temp_mean  temp_highest  temp_lowest      PM10     PM2.5  \\\n",
              "0       -0.00097  -0.124629      0.040404    -0.323432  0.175439  0.137097   \n",
              "1       -0.00097  -0.148368     -0.035354    -0.277228  0.198830  0.096774   \n",
              "2       -0.00097  -0.166172     -0.050505    -0.300330  0.228070  0.112903   \n",
              "3        0.00000  -0.103858      0.007576    -0.277228  0.233918  0.185484   \n",
              "4        0.00000  -0.163205     -0.053030    -0.326733  0.175439  0.137097   \n",
              "\n",
              "   humidity  sunshine_sum  sunshine_rate  wind_mean  wind_max  israin  year  \\\n",
              "0  0.659794      0.477941       0.705944   0.416667  0.418367     0.0   1.0   \n",
              "1  0.396907      0.661765       0.978102   0.541667  0.551020     0.0   1.0   \n",
              "2  0.463918      0.404412       0.591241   0.416667  0.459184     0.0   1.0   \n",
              "3  0.529897      0.338235       0.494265   0.354167  0.326531     1.0   1.0   \n",
              "4  0.544330      0.632353       0.924922   0.604167  0.581633     1.0   1.0   \n",
              "\n",
              "      month  freeday  holiday  \n",
              "0  0.083333      0.0      1.0  \n",
              "1  0.083333      1.0      0.0  \n",
              "2  0.083333      1.0      0.0  \n",
              "3  0.083333      0.0      0.0  \n",
              "4  0.083333      0.0      0.0  "
            ]
          },
          "execution_count": 371,
          "metadata": {},
          "output_type": "execute_result"
        }
      ],
      "source": [
        "data_test.head()"
      ]
    },
    {
      "cell_type": "markdown",
      "metadata": {
        "id": "dRFJB_I7qti2"
      },
      "source": [
        "### 평가방법 NMAE 정의"
      ]
    },
    {
      "cell_type": "code",
      "execution_count": null,
      "metadata": {
        "id": "xHfseP7aqQ4M"
      },
      "outputs": [],
      "source": [
        "def NMAE(true, pred):\n",
        "    score = np.mean(np.abs(true-pred) / true)\n",
        "    return score"
      ]
    },
    {
      "cell_type": "markdown",
      "metadata": {
        "id": "hv_out4IqziJ"
      },
      "source": [
        "### 5-fold soft-voting"
      ]
    },
    {
      "cell_type": "code",
      "execution_count": null,
      "metadata": {
        "colab": {
          "base_uri": "https://localhost:8080/"
        },
        "id": "3-eaPDQjqZv7",
        "outputId": "4054b5a5-bbcc-4c4e-8233-af8a0b49f4ba"
      },
      "outputs": [
        {
          "name": "stdout",
          "output_type": "stream",
          "text": [
            "========== fold 1 ==========\n",
            "NN model NMAE : 0.1682\n",
            "==============================\n",
            "Average NMAE 0.1682\n",
            "\n",
            "========== fold 2 ==========\n",
            "NN model NMAE : 0.1761\n",
            "==============================\n",
            "Average NMAE 0.1761\n",
            "\n",
            "========== fold 3 ==========\n",
            "NN model NMAE : 0.1483\n",
            "==============================\n",
            "Average NMAE 0.1483\n",
            "\n",
            "========== fold 4 ==========\n",
            "NN model NMAE : 0.1210\n",
            "==============================\n",
            "Average NMAE 0.1210\n",
            "\n",
            "========== fold 5 ==========\n",
            "NN model NMAE : 0.1381\n",
            "==============================\n",
            "Average NMAE 0.1381\n",
            "\n",
            "==============================\n",
            "Model Sum Average NMAE 0.1503\n"
          ]
        }
      ],
      "source": [
        "from sklearn.model_selection import StratifiedKFold\n",
        "from sklearn.neural_network import MLPRegressor\n",
        "from sklearn.utils import shuffle\n",
        "from xgboost import XGBRegressor\n",
        "from lightgbm import LGBMRegressor\n",
        "from pytorch_tabnet.tab_model import TabNetRegressor\n",
        "\n",
        "from tensorflow.keras.layers import *\n",
        "from tensorflow.keras.models import *\n",
        "from tensorflow.keras.optimizers import *\n",
        "from tensorflow.keras.callbacks import *\n",
        "\n",
        "import tensorflow as tf\n",
        "\n",
        "tf.random.set_seed(42)\n",
        "\n",
        "skf = StratifiedKFold(n_splits = 5, random_state = 42, shuffle = True) #총 10번의 fold 진행\n",
        "n = 0 #x번째 fold인지 기록\n",
        "\n",
        "fold_target_pred = []\n",
        "fold_score = []\n",
        "\n",
        "for train_index, valid_index in skf.split(data_train_X, data_train_X['israin']): #israin 기준으로 stratified k fold 진행\n",
        "    n += 1\n",
        "    \n",
        "    val_pred_name = [] #validation pred model 이름 저장\n",
        "    val_pred = []      #validation set pred 결과 저장\n",
        "    target_pred = []   #test set pred 결과 저장\n",
        "    \n",
        "    train_X = np.array(data_train_X)\n",
        "    train_Y = np.array(data_train_y)\n",
        "    \n",
        "    X_train, X_valid = train_X[train_index], train_X[valid_index]\n",
        "    y_train, y_valid = train_Y[train_index], train_Y[valid_index]\n",
        "    \n",
        "    X_test = np.array(data_test)\n",
        "\n",
        "    ### Create Model ###\n",
        "\n",
        "    '''\n",
        "    ### TabNet\n",
        "    clf = TabNetRegressor(\n",
        "      n_d = 16,\n",
        "      n_a = 16,\n",
        "      optimizer_params=dict(lr=2e-2),\n",
        "      scheduler_params={\"step_size\":10, # how to use learning rate scheduler\n",
        "                        \"gamma\":0.9},\n",
        "      mask_type='sparsemax', # This will be overwritten if using pretrain model\n",
        "      seed = 42\n",
        "    )\n",
        "\n",
        "    clf.fit(\n",
        "        X_train=X_train, y_train=y_train.reshape(-1, 1),\n",
        "        eval_set=[(X_valid, y_valid.reshape(-1, 1))],\n",
        "        batch_size=1095,\n",
        "        virtual_batch_size=128,\n",
        "        eval_metric=['mae'],\n",
        "        max_epochs = 3000,\n",
        "        patience = 120,\n",
        "    )\n",
        "\n",
        "    preds_valid = clf.predict(X_valid)\n",
        "\n",
        "    val_pred_name.append(\"TabNet\")  # 모델 이름 저장\n",
        "    val_pred.append(preds_valid)   # validation set pred 결과 저장\n",
        "    '''\n",
        "\n",
        "    ### reguler DNN model\n",
        "    model = Sequential()\n",
        "    model.add(Dense(32, input_dim=16, activation='elu'))\n",
        "    model.add(Dense(64, activation='elu'))\n",
        "    model.add(Dense(128, activation='elu'))\n",
        "    model.add(Dropout(0.5))\n",
        "    model.add(Dense(256, activation='elu'))\n",
        "    model.add(Dense(128, activation='elu'))\n",
        "    model.add(Dense(64, activation='elu'))\n",
        "    model.add(Dense(32, activation='elu'))\n",
        "    model.add(Dense(1))\n",
        "\n",
        "    model.compile(loss='mean_absolute_error',\n",
        "                  optimizer = 'Nadam', \n",
        "                  metrics=['mae'])\n",
        "    \n",
        "    filename = 'nn-checkpoint.h5'\n",
        "    checkpoint = ModelCheckpoint(filename,             # file명을 지정합니다\n",
        "                                monitor='val_mae',   # val_accuracy 값이 개선되었을때 호출됩니다\n",
        "                                verbose=0,            # 로그를 출력합니다\n",
        "                                save_best_only=True,  # 가장 best 값만 저장합니다\n",
        "                                mode='min'           # 평가모델이 mae이기 때문에 값이 작을때만 저장합니다 (min)\n",
        "                               )\n",
        "\n",
        "    earlystopping = EarlyStopping(monitor='val_mae', #stop 조건으로 관찰할 변수 선택\n",
        "                                 patience=120,       #120 Epoch동안 (mae가)개선되지 않는다면 종료\n",
        "                                 mode='min'\n",
        "                                )\n",
        "\n",
        "    reduceLR = ReduceLROnPlateau(monitor='val_mae', #lr을 낮출 조건으로 관찰할 변수 선택\n",
        "                                factor=0.5,             #조건이 충족되었을때 LR에 factor를 곱함 (5분의 1배가 됨)\n",
        "                                patience=80,  #80 Epoch동안 (mae가)개선되지 않는다면 lr 감소\n",
        "                                mode='min'\n",
        "                               )\n",
        "    \n",
        "    model.fit(X_train, y_train, validation_data=(X_valid, y_valid), epochs=3000, batch_size=32, verbose = 0, callbacks=[earlystopping, checkpoint, reduceLR])\n",
        "\n",
        "    val_pred_name.append(\"NN\")  # 모델 이름 저장\n",
        "    val_pred.append(model.predict(X_valid).flatten())   # validation set pred 결과 저장\n",
        "    target_pred.append(model.predict(X_test).flatten()) # test set pred 결과 저장\n",
        "\n",
        "    ### average validation pred ###\n",
        "    preds = np.array(val_pred[0])\n",
        "    \n",
        "    ### average target pred ###\n",
        "    target_preds = target_pred[0]\n",
        "    fold_target_pred.append(target_preds) # append final target pred\n",
        "    \n",
        "    print(\"========== fold %d ==========\" %(n))\n",
        "    for i in range(len(val_pred)):\n",
        "        print(\"%s model NMAE : %0.4f\" %(val_pred_name[i], NMAE(y_valid, val_pred[i].astype(int))))\n",
        "        \n",
        "    print(\"==============================\")\n",
        "    print(\"Average NMAE %0.4f\" %(NMAE(y_valid, preds.astype(int))))\n",
        "    print(\"\")\n",
        "    \n",
        "    fold_score.append(NMAE(y_valid, preds.astype(int)))\n",
        "\n",
        "total_score = fold_score[0]\n",
        "for i in range(1, len(fold_score)):\n",
        "    total_score += fold_score[i]\n",
        "    \n",
        "total_score = total_score/len(fold_score)\n",
        "\n",
        "print(\"==============================\")\n",
        "print(\"Model Sum Average NMAE %0.4f\" %(total_score))"
      ]
    },
    {
      "cell_type": "code",
      "execution_count": null,
      "metadata": {
        "colab": {
          "base_uri": "https://localhost:8080/"
        },
        "id": "o8WNTJDv-bmk",
        "outputId": "07c27a98-8044-4e63-e0c1-10f20151007d"
      },
      "outputs": [
        {
          "data": {
            "text/plain": [
              "[array([ 10203.322 ,  15763.019 ,  14664.657 ,  22454.016 ,  19452.527 ,\n",
              "         17942.535 ,  19079.32  ,  11070.607 ,   9783.067 ,  11777.935 ,\n",
              "         16558.395 ,  18565.926 ,  28250.18  ,  31732.422 ,  23307.057 ,\n",
              "         14629.447 ,  13173.312 ,  15205.787 ,  22579.164 ,  29776.86  ,\n",
              "         18983.484 ,  17622.172 ,  35509.562 ,  34728.05  ,  36724.42  ,\n",
              "         19081.68  ,  32179.697 ,  16059.436 ,  18590.08  ,  16912.83  ,\n",
              "         26404.545 ,  24813.123 ,  21350.398 ,  22659.648 ,  24773.076 ,\n",
              "         28425.02  ,  22252.7   ,  25821.613 ,  27003.234 ,  30398.836 ,\n",
              "         28902.043 ,  29657.537 ,  27100.645 ,  20958.57  ,  29153.773 ,\n",
              "         25218.701 ,  15918.394 ,  18127.371 ,  24749.36  ,  31554.414 ,\n",
              "         39385.137 ,  41933.613 ,  39693.996 ,  33117.332 ,  37187.63  ,\n",
              "         37106.707 ,  43522.605 ,  57325.13  ,  40028.91  ,   2183.1404,\n",
              "         31195.955 ,  38677.7   ,  42783.062 ,  49861.74  ,  39379.34  ,\n",
              "         47868.184 ,  45249.49  ,  44247.62  ,  44050.285 ,  44276.52  ,\n",
              "         37493.684 ,  43443.27  ,  38856.535 ,  35737.336 ,  46659.3   ,\n",
              "         53951.508 ,  58625.793 ,  79620.13  ,  22933.121 ,  21609.234 ,\n",
              "         47456.895 ,  51905.617 ,  61072.48  ,  67644.984 ,  51939.895 ,\n",
              "         16744.836 ,  11311.512 ,  39352.98  ,  59267.043 ,  77398.14  ,\n",
              "         83736.62  ,  74525.35  ,   7616.4634,  67058.39  ,  77792.53  ,\n",
              "         82223.58  ,  79392.71  ,  78665.16  ,  79808.19  ,  84316.69  ,\n",
              "         85103.98  ,  28101.705 ,  50084.72  ,  65910.64  ,  78557.98  ,\n",
              "         53938.01  ,  39428.496 ,  77545.4   ,  79267.07  ,  81913.33  ,\n",
              "         85465.07  ,  83835.984 ,  75166.08  ,  84474.85  ,  94414.67  ,\n",
              "         89290.875 ,  67562.49  ,  55869.227 ,  60781.09  ,  22094.035 ,\n",
              "         33085.242 ,  83332.63  ,  88374.625 ,  28467.111 ,  95090.69  ,\n",
              "         84740.164 ,  41601.99  ,  30450.791 ,  88971.31  ,  72514.84  ,\n",
              "         93092.77  ,  99819.97  ,  97391.77  ,  96703.47  ,  62623.426 ,\n",
              "          7511.677 ,  67557.25  ,  95501.45  , 103050.875 ,  78035.35  ,\n",
              "         71301.08  ,  97729.89  ,  96479.25  ,  91165.33  ,  59609.348 ,\n",
              "         78853.8   ,  61147.605 ,  53000.152 ,  88454.44  ,  70749.55  ,\n",
              "         82617.78  ,  83200.28  , 100417.81  ,  48658.098 ,  99099.81  ,\n",
              "        102829.234 , 104955.53  ,  88976.92  ,  98017.95  , 100715.945 ,\n",
              "         83412.46  ,  84419.19  , 101821.69  , 101374.06  , 101448.61  ,\n",
              "         88445.58  , 104693.95  ,  88887.125 ,  62018.13  , 103891.625 ,\n",
              "        102072.24  , 102472.36  ,  93835.84  ,  90854.17  , 100855.65  ,\n",
              "        101672.234 ,  85694.38  ,  57063.848 ,  89647.58  ,  85621.66  ,\n",
              "         86920.33  , 102332.74  , 101007.9   ,  32763.426 ,  13457.24  ,\n",
              "         97103.266 , 100984.03  ,  70624.58  ,  88327.17  ,  92654.61  ,\n",
              "         93115.1   ,  53984.207 ,  96458.81  ,  91663.05  ,  95514.234 ,\n",
              "         93877.53  ,  98909.72  ,  92256.92  ,  91767.78  ,  44125.2   ,\n",
              "         89961.42  ,  93513.22  ,  93010.56  ,  91811.59  ,  86185.75  ,\n",
              "         87991.16  ,  94233.36  ,  91999.086 ,  91040.62  ,  93271.66  ,\n",
              "         94833.95  ,  84801.22  ,  40830.55  ,  64749.176 ,  93576.1   ,\n",
              "         97839.14  ,  99368.33  ,  99538.16  , 100603.83  ,  68201.76  ,\n",
              "        102289.44  , 102540.766 ,  98244.77  ,  97331.73  , 100097.55  ,\n",
              "        102706.36  , 101138.66  , 102778.5   ,  92043.72  ,  95388.17  ,\n",
              "        106334.64  ,  98983.83  ,  34223.516 ,  64257.316 ,  60966.45  ,\n",
              "         47086.73  ,  72127.55  ,  85417.36  ,  82940.36  , 103923.42  ,\n",
              "         71574.24  ,  94516.984 ,  30976.951 ,  78452.58  , 104549.41  ,\n",
              "        109588.89  , 110270.63  , 108266.63  ,  88654.56  ,  11459.477 ,\n",
              "        102553.83  , 108194.74  , 107760.97  , 107341.73  , 108163.04  ,\n",
              "        107886.03  , 108743.09  , 109120.97  , 109900.22  , 108472.97  ,\n",
              "        107278.22  , 104260.47  , 110775.516 ,  56040.457 , 101567.71  ,\n",
              "        106847.586 , 109511.46  ,  65628.72  , 109193.17  , 100426.99  ,\n",
              "         92551.41  ,  37556.152 , 108434.336 ,  83651.1   , 109980.81  ,\n",
              "        108367.67  ,  89983.87  ,  97679.7   ,  71848.06  ,  67424.516 ,\n",
              "         64130.387 ,  75381.06  ,  35595.246 ,  88009.34  , 104101.375 ,\n",
              "        109736.81  , 109925.29  ,  98588.38  ,  69749.84  ,  66977.266 ,\n",
              "         72263.88  ,  77248.125 ,  88873.14  ,  83708.2   ,  88157.695 ,\n",
              "         85689.836 ,  88598.39  ,  92187.91  ,  95195.01  ,  87825.016 ,\n",
              "         96196.41  , 102281.91  ,  93606.336 ,  88998.51  ,  97472.516 ,\n",
              "         93909.4   ,  93899.56  ,  79809.805 ,  94548.92  ,  89227.695 ,\n",
              "         93250.17  ,  43078.703 ,  63526.285 ,  62103.71  ,  69207.984 ,\n",
              "         70408.84  ,  62345.324 ,  75427.    ,  86520.49  ,  80745.08  ,\n",
              "         77824.64  ,  74304.38  ,  82728.95  ,  38599.418 ,  26511.523 ,\n",
              "         56350.37  ,  50729.785 ,  53507.074 ,  70541.125 ,  56384.39  ,\n",
              "         48111.707 ,  48103.684 ,  71412.79  ,  23849.053 ,  53080.83  ,\n",
              "         49587.42  ,  55612.176 ,  47485.23  ,  47745.12  ,  66046.24  ,\n",
              "         74931.16  ,  77374.766 ,  71781.61  ,  70171.06  ,  41565.605 ,\n",
              "         34974.81  ,  45926.68  ,  55110.484 ,  46001.87  ,  45741.16  ,\n",
              "         33815.066 ,  15307.439 ,  25651.418 ,  52107.258 ,  56138.926 ,\n",
              "         56662.88  ,  55966.164 ,  33620.59  ,   8890.834 ,  14172.664 ,\n",
              "         24229.393 ,  32277.547 ,  36013.676 ,  36434.246 ,  31781.96  ],\n",
              "       dtype=float32),\n",
              " array([ 15132.176 ,  18903.633 ,  18033.258 ,  22495.445 ,  20837.4   ,\n",
              "         20480.    ,  18055.422 ,  14838.946 ,  12292.756 ,  15384.029 ,\n",
              "         19108.02  ,  18962.617 ,  27413.867 ,  32210.473 ,  23501.59  ,\n",
              "         16742.465 ,  16410.078 ,  18115.613 ,  25714.621 ,  31839.29  ,\n",
              "         20508.783 ,  22138.021 ,  39195.082 ,  41889.56  ,  44215.566 ,\n",
              "         22549.992 ,  33962.7   ,  17900.488 ,  21085.197 ,  19469.69  ,\n",
              "         28820.082 ,  26384.092 ,  21315.59  ,  22763.697 ,  26809.895 ,\n",
              "         31253.367 ,  25485.762 ,  26021.686 ,  29109.844 ,  33044.754 ,\n",
              "         31751.658 ,  30600.283 ,  31554.9   ,  29639.898 ,  32140.74  ,\n",
              "         24058.316 ,  18066.293 ,  18239.043 ,  26212.145 ,  34007.34  ,\n",
              "         46949.29  ,  48728.926 ,  40595.176 ,  34655.88  ,  38528.723 ,\n",
              "         37469.7   ,  50342.305 ,  63594.883 ,  40091.59  ,   3337.8884,\n",
              "         37975.23  ,  43782.582 ,  45811.098 ,  57802.38  ,  39856.066 ,\n",
              "         51619.652 ,  52868.63  ,  49871.23  ,  45080.383 ,  42418.645 ,\n",
              "         43332.344 ,  48554.39  ,  43646.605 ,  37452.973 ,  54404.67  ,\n",
              "         61282.453 ,  63192.254 ,  81765.28  ,  28836.725 ,  20444.45  ,\n",
              "         51570.258 ,  58065.89  ,  64481.293 ,  71564.055 ,  59330.395 ,\n",
              "         18642.1   ,  14566.462 ,  31315.527 ,  62056.87  ,  82623.31  ,\n",
              "         89841.98  ,  86428.086 ,  15264.523 ,  58898.543 ,  83364.93  ,\n",
              "         84707.484 ,  80943.695 ,  83112.23  ,  84141.68  ,  83713.83  ,\n",
              "         86154.9   ,  36345.895 ,  44585.55  ,  71416.195 ,  80848.25  ,\n",
              "         59638.965 ,  50514.316 ,  77044.85  ,  81921.99  ,  83769.1   ,\n",
              "         89980.69  ,  95488.414 ,  85100.836 ,  88730.94  ,  95654.93  ,\n",
              "         92775.555 ,  75989.47  ,  62138.74  ,  73974.77  ,  27942.6   ,\n",
              "         33690.13  ,  84956.12  ,  91619.984 ,  36786.06  ,  85865.164 ,\n",
              "         89595.82  ,  33719.496 ,  26083.244 ,  92675.25  ,  69414.46  ,\n",
              "         99415.64  , 104603.51  , 101751.945 , 101673.77  ,  47533.832 ,\n",
              "         16242.963 ,  60258.21  ,  99532.17  ,  98220.24  ,  84900.63  ,\n",
              "         59477.277 ,  96974.69  ,  99555.73  ,  94792.21  ,  67880.92  ,\n",
              "         89076.87  ,  54678.535 ,  53663.598 ,  84781.64  ,  83943.82  ,\n",
              "         85571.445 ,  87291.62  , 105293.37  ,  49391.785 , 102622.586 ,\n",
              "        105164.85  , 102459.93  ,  89612.46  , 101127.26  , 105778.805 ,\n",
              "         87084.055 ,  77676.74  , 104278.516 , 103085.414 , 105666.29  ,\n",
              "         84686.945 , 108180.96  ,  84509.5   ,  56010.445 , 104629.07  ,\n",
              "        104202.3   , 106162.87  ,  99437.1   ,  95244.12  , 103956.63  ,\n",
              "        105235.945 ,  76411.055 ,  46411.09  ,  93607.49  ,  87254.71  ,\n",
              "         90963.9   , 105064.75  , 104625.45  ,  22892.723 ,  30612.018 ,\n",
              "         96838.37  , 104460.2   ,  55931.316 ,  87903.65  ,  94097.29  ,\n",
              "         91332.52  ,  70946.07  , 101167.72  ,  96052.87  ,  99948.74  ,\n",
              "         96294.18  , 100600.65  ,  92634.09  ,  96862.87  ,  34062.336 ,\n",
              "         92925.47  ,  99503.836 ,  98538.75  ,  98014.78  ,  93531.05  ,\n",
              "         93861.12  ,  99036.11  ,  97147.1   ,  93092.016 ,  99066.68  ,\n",
              "         99753.45  ,  83433.56  ,  37605.098 ,  67800.73  ,  94017.96  ,\n",
              "        100152.09  , 101231.52  ,  98534.32  , 100616.48  ,  51238.13  ,\n",
              "        103210.02  , 103196.195 ,  97067.42  ,  96588.016 , 100093.555 ,\n",
              "        102898.43  ,  96109.62  , 101084.234 ,  90029.74  ,  95527.6   ,\n",
              "        107532.79  ,  97859.98  ,  26995.777 ,  76776.58  ,  56765.21  ,\n",
              "         52238.87  ,  76092.47  ,  82205.66  ,  82236.4   , 103295.73  ,\n",
              "         77916.89  ,  91522.34  ,  23265.613 ,  71936.99  ,  99413.83  ,\n",
              "        109135.72  , 108269.77  , 105691.29  ,  64995.63  ,  33932.223 ,\n",
              "         99219.51  , 107780.99  , 107277.02  , 103789.945 , 104729.63  ,\n",
              "        107901.12  , 108287.41  , 110528.99  , 108847.7   , 107451.13  ,\n",
              "        103607.305 , 100922.266 ,  99545.01  ,  30408.996 ,  83442.04  ,\n",
              "        106628.016 , 108841.21  ,  93599.805 , 104855.12  ,  92151.695 ,\n",
              "         78519.76  ,  49100.953 , 105832.195 ,  92671.52  , 105855.88  ,\n",
              "        102437.52  ,  77031.945 ,  91052.36  ,  59725.055 ,  62286.84  ,\n",
              "         61871.887 ,  73960.3   ,  44866.957 ,  85543.49  , 101904.11  ,\n",
              "        108804.836 , 106160.23  ,  84751.27  ,  78341.83  ,  72940.52  ,\n",
              "         66200.64  ,  73034.9   ,  89530.55  ,  86918.18  ,  90136.52  ,\n",
              "         88607.586 ,  88713.21  ,  92008.01  ,  93100.65  ,  89332.62  ,\n",
              "         97702.68  , 102250.414 ,  93710.625 ,  89423.26  ,  94299.164 ,\n",
              "         91903.45  ,  93007.31  ,  80498.49  ,  94421.836 ,  92172.08  ,\n",
              "         96939.805 ,  34717.3   ,  49388.793 ,  53721.926 ,  63119.895 ,\n",
              "         70716.13  ,  65594.71  ,  82494.21  ,  87685.77  ,  83309.54  ,\n",
              "         80480.555 ,  76412.62  ,  87033.02  ,  42278.566 ,  34778.48  ,\n",
              "         47865.773 ,  45082.215 ,  53023.45  ,  72157.24  ,  53607.523 ,\n",
              "         50404.12  ,  51263.723 ,  72359.29  ,  19909.805 ,  47094.758 ,\n",
              "         46445.24  ,  51618.34  ,  46296.836 ,  49504.996 ,  68673.43  ,\n",
              "         78477.68  ,  79255.234 ,  68631.21  ,  56482.24  ,  49848.293 ,\n",
              "         36727.707 ,  43487.082 ,  52719.535 ,  50826.195 ,  51140.848 ,\n",
              "         35893.19  ,  19401.02  ,  32171.023 ,  54439.52  ,  57503.13  ,\n",
              "         59550.715 ,  58974.848 ,  36550.34  ,  13266.849 ,  17606.912 ,\n",
              "         26819.059 ,  32612.8   ,  39070.504 ,  34966.26  ,  32852.26  ],\n",
              "       dtype=float32),\n",
              " array([ 11443.876 ,  17719.912 ,  15973.795 ,  20443.201 ,  18867.49  ,\n",
              "         18148.916 ,  15920.551 ,  13928.91  ,   9655.152 ,  12675.268 ,\n",
              "         16199.777 ,  17006.451 ,  23280.463 ,  30305.133 ,  22401.895 ,\n",
              "         16234.557 ,  15180.307 ,  16855.484 ,  21843.885 ,  29787.781 ,\n",
              "         21241.57  ,  23625.195 ,  32853.547 ,  38065.754 ,  39840.02  ,\n",
              "         23196.66  ,  32432.951 ,  17166.758 ,  19110.432 ,  18053.182 ,\n",
              "         26516.764 ,  23223.697 ,  20765.207 ,  20586.287 ,  24640.67  ,\n",
              "         29169.115 ,  24957.863 ,  23655.46  ,  28139.014 ,  31289.307 ,\n",
              "         30106.55  ,  30557.389 ,  31381.088 ,  28720.686 ,  29561.643 ,\n",
              "         22373.422 ,  18205.107 ,  18798.018 ,  24223.205 ,  31548.836 ,\n",
              "         41699.02  ,  42777.926 ,  37374.918 ,  33306.24  ,  37394.18  ,\n",
              "         35513.387 ,  45233.426 ,  56154.105 ,  34498.105 ,   4754.61  ,\n",
              "         32577.623 ,  41237.723 ,  41629.53  ,  50976.105 ,  32949.49  ,\n",
              "         46132.383 ,  47220.223 ,  45054.05  ,  43122.863 ,  42296.87  ,\n",
              "         37682.13  ,  42864.09  ,  42254.734 ,  34115.504 ,  43583.176 ,\n",
              "         50437.145 ,  55393.23  ,  75089.47  ,  28610.104 ,  22718.559 ,\n",
              "         44993.926 ,  48296.715 ,  58897.934 ,  64957.203 ,  55618.996 ,\n",
              "         15599.516 ,  11843.568 ,  30833.088 ,  50301.957 ,  78170.38  ,\n",
              "         84708.34  ,  77087.625 ,   7227.939 ,  62680.81  ,  80951.74  ,\n",
              "         83006.22  ,  78763.3   ,  81405.87  ,  82308.875 ,  83718.41  ,\n",
              "         83851.36  ,  31623.838 ,  36595.62  ,  68736.92  ,  79602.59  ,\n",
              "         49233.55  ,  34338.324 ,  77775.555 ,  81166.26  ,  83624.72  ,\n",
              "         87713.81  ,  89311.266 ,  78048.78  ,  87677.08  ,  92729.56  ,\n",
              "         92182.25  ,  71380.734 ,  49025.438 ,  58997.977 ,  27298.648 ,\n",
              "         30333.252 ,  85257.695 ,  91040.19  ,  30913.723 ,  96891.24  ,\n",
              "         86808.125 ,  31390.135 ,  30043.908 ,  90201.016 ,  72133.39  ,\n",
              "         95941.69  , 101373.016 ,  99274.984 ,  99105.31  ,  45772.965 ,\n",
              "          7204.2485,  52417.367 , 100187.53  , 100754.734 ,  82581.28  ,\n",
              "         51980.37  ,  98321.29  , 100267.14  ,  94731.89  ,  49524.523 ,\n",
              "         84715.61  ,  39143.473 ,  42809.66  ,  91382.55  ,  72516.16  ,\n",
              "         83218.625 ,  83858.27  , 105984.84  ,  41843.145 , 103769.77  ,\n",
              "        107620.5   ,  95834.28  ,  90508.6   , 103262.08  , 103963.445 ,\n",
              "         78642.44  ,  77351.99  , 102274.94  ,  99620.766 , 106621.086 ,\n",
              "         87384.625 , 107807.984 ,  92145.79  ,  48426.31  , 107232.91  ,\n",
              "        105146.39  , 107328.836 , 100245.03  ,  94172.14  , 106031.89  ,\n",
              "        106031.305 ,  82049.43  ,  68019.87  ,  96177.72  ,  79677.43  ,\n",
              "         83363.016 , 103403.766 ,  97210.17  ,  14749.672 ,  25463.576 ,\n",
              "         92510.21  , 102962.375 ,  55727.617 ,  81267.64  ,  92200.95  ,\n",
              "         89619.67  ,  74899.73  ,  86170.84  ,  76329.51  ,  80222.41  ,\n",
              "         82469.13  ,  88602.72  ,  77598.445 ,  73125.39  ,  60306.918 ,\n",
              "         86181.79  ,  79797.34  ,  77818.88  ,  76858.83  ,  70842.83  ,\n",
              "         71468.84  ,  79528.7   ,  73739.69  ,  77477.29  ,  81487.19  ,\n",
              "         80279.94  ,  64615.58  ,  42749.54  ,  68028.734 ,  88510.91  ,\n",
              "         81398.45  ,  86148.83  ,  84303.48  ,  88348.586 ,  57798.19  ,\n",
              "         93873.56  ,  93872.92  ,  96355.53  ,  97287.85  ,  93647.26  ,\n",
              "         95876.05  ,  70754.05  ,  99562.67  ,  83911.39  ,  96245.17  ,\n",
              "        106341.95  ,  99286.1   ,  17470.582 ,  84314.75  ,  48924.52  ,\n",
              "         42392.945 ,  76169.28  ,  77995.75  ,  79049.92  , 102606.53  ,\n",
              "         84134.17  ,  92026.89  ,  19524.879 ,  82661.766 , 101109.586 ,\n",
              "        109474.29  , 109635.21  , 107940.66  ,  72895.47  ,  29599.834 ,\n",
              "        103335.21  , 109336.61  , 109502.44  , 105220.27  , 105214.11  ,\n",
              "        108182.234 , 108842.92  , 111408.266 , 111796.1   , 109137.06  ,\n",
              "        102627.14  , 100755.625 ,  87772.39  ,  58766.957 ,  80064.875 ,\n",
              "        109759.3   , 111864.58  ,  98963.98  , 106901.47  ,  99442.34  ,\n",
              "         88429.2   ,  42509.566 , 110067.35  ,  79201.25  , 110873.19  ,\n",
              "         97685.766 ,  73369.08  ,  88828.93  ,  65793.05  ,  67071.45  ,\n",
              "         63957.266 ,  76088.09  ,  44078.793 ,  84620.94  , 107170.91  ,\n",
              "        112694.61  , 111217.94  ,  91813.68  ,  66906.54  ,  69319.195 ,\n",
              "         75671.84  ,  79182.97  ,  89532.31  ,  87118.67  ,  88762.125 ,\n",
              "         86649.484 ,  88079.086 ,  93462.484 ,  95017.266 ,  90821.3   ,\n",
              "         94777.3   , 101443.31  ,  97636.74  ,  90909.516 ,  98922.44  ,\n",
              "         94569.79  ,  94158.195 ,  86701.55  ,  95056.16  ,  92674.414 ,\n",
              "         97026.86  ,  30132.252 ,  44716.176 ,  54629.01  ,  70756.17  ,\n",
              "         71864.67  ,  60174.902 ,  76860.33  ,  87189.99  ,  79864.625 ,\n",
              "         78508.984 ,  76570.89  ,  86401.61  ,  44375.82  ,  30355.752 ,\n",
              "         47449.69  ,  40765.938 ,  52566.145 ,  70832.62  ,  56823.516 ,\n",
              "         48779.38  ,  48872.31  ,  74766.92  ,  20403.557 ,  46178.69  ,\n",
              "         42129.004 ,  53817.332 ,  41142.92  ,  48138.418 ,  69409.266 ,\n",
              "         74632.72  ,  75605.484 ,  71813.74  ,  58748.76  ,  41644.285 ,\n",
              "         32754.705 ,  42399.965 ,  53269.348 ,  44810.418 ,  49255.45  ,\n",
              "         33593.254 ,  17777.572 ,  28496.494 ,  51970.902 ,  55789.38  ,\n",
              "         60223.746 ,  58764.332 ,  28776.588 ,   6013.186 ,  16341.006 ,\n",
              "         22543.92  ,  25994.068 ,  33230.01  ,  33858.88  ,  31788.984 ],\n",
              "       dtype=float32),\n",
              " array([ 12140.25  ,  17697.639 ,  16347.284 ,  20318.473 ,  19139.512 ,\n",
              "         17934.533 ,  17235.48  ,  14011.199 ,  11647.534 ,  14614.88  ,\n",
              "         16747.178 ,  16935.479 ,  23066.107 ,  30226.014 ,  22880.178 ,\n",
              "         16028.183 ,  15671.236 ,  17657.676 ,  20611.938 ,  28984.734 ,\n",
              "         16608.746 ,  24734.844 ,  34848.26  ,  36679.848 ,  40545.777 ,\n",
              "         22857.129 ,  32200.85  ,  16911.875 ,  18743.133 ,  17590.43  ,\n",
              "         27697.105 ,  26721.559 ,  21029.047 ,  20709.295 ,  25448.074 ,\n",
              "         32425.826 ,  30997.02  ,  24927.441 ,  28351.725 ,  32438.336 ,\n",
              "         33575.52  ,  26933.854 ,  29324.838 ,  29619.78  ,  26404.334 ,\n",
              "         22421.75  ,  17925.773 ,  18839.66  ,  23611.809 ,  32657.215 ,\n",
              "         43597.31  ,  45770.383 ,  38662.89  ,  33662.31  ,  36837.24  ,\n",
              "         34770.973 ,  45600.043 ,  56588.258 ,  38437.793 ,   1821.1835,\n",
              "         36025.52  ,  43298.87  ,  46223.168 ,  54600.125 ,  38552.113 ,\n",
              "         49293.945 ,  50347.29  ,  49069.965 ,  46916.44  ,  46353.324 ,\n",
              "         42118.38  ,  49207.863 ,  47148.195 ,  35976.668 ,  46265.656 ,\n",
              "         51954.207 ,  58377.76  ,  78898.516 ,  26849.844 ,  25341.938 ,\n",
              "         46938.63  ,  52074.402 ,  60388.31  ,  66910.34  ,  58662.812 ,\n",
              "         12680.434 ,  15608.446 ,  33571.203 ,  53707.027 ,  77112.    ,\n",
              "         85528.234 ,  79858.    ,   6296.7065,  55599.42  ,  78612.87  ,\n",
              "         82385.734 ,  78918.51  ,  80527.09  ,  81133.234 ,  83642.4   ,\n",
              "         83822.9   ,  21583.768 ,  33555.492 ,  67257.25  ,  77827.266 ,\n",
              "         60203.234 ,  43933.914 ,  77691.72  ,  78396.02  ,  80780.734 ,\n",
              "         85429.11  ,  87901.086 ,  81140.016 ,  87589.055 ,  94771.79  ,\n",
              "         90643.3   ,  68685.55  ,  56724.438 ,  60623.316 ,  19067.293 ,\n",
              "         30592.818 ,  80885.84  ,  88497.73  ,  24201.795 ,  95611.33  ,\n",
              "         83879.7   ,  35218.582 ,  23896.168 ,  90176.43  ,  79610.09  ,\n",
              "         94748.69  , 102697.83  ,  98486.97  ,  98577.15  ,  42194.91  ,\n",
              "         10101.042 ,  71532.055 ,  97060.56  , 102922.02  ,  84058.61  ,\n",
              "         58968.12  ,  95490.195 ,  97441.14  ,  91301.55  ,  57680.67  ,\n",
              "         86228.45  ,  42645.906 ,  40368.637 ,  87024.02  ,  62352.918 ,\n",
              "         81458.89  ,  84782.83  , 102612.59  ,  37499.348 , 100299.75  ,\n",
              "        103878.9   ,  95310.305 ,  96315.19  , 100752.875 , 104267.664 ,\n",
              "         75138.734 ,  77285.78  , 103637.    , 101211.66  , 105461.25  ,\n",
              "         87803.016 , 107295.72  ,  93999.28  ,  56580.684 , 103743.97  ,\n",
              "        103286.11  , 105346.734 , 100173.484 ,  82525.3   , 106068.58  ,\n",
              "        105370.09  ,  75092.234 ,  64894.336 ,  96521.    ,  73450.11  ,\n",
              "         80221.56  , 105628.69  , 102182.06  ,  22996.305 ,  31640.496 ,\n",
              "        103561.695 , 105263.91  ,  49943.742 ,  82764.21  ,  94608.086 ,\n",
              "         89297.45  ,  74695.89  ,  99111.625 ,  91486.92  ,  95244.61  ,\n",
              "         90343.15  , 101476.74  ,  85611.305 ,  90058.31  ,  66435.    ,\n",
              "         91953.17  ,  93310.59  ,  91491.42  ,  89625.05  ,  83067.016 ,\n",
              "         83146.41  ,  90732.27  ,  91320.07  ,  87002.81  ,  91391.36  ,\n",
              "         95073.43  ,  69370.49  ,  39907.27  ,  70038.43  ,  93945.086 ,\n",
              "         96032.99  ,  97168.19  , 101936.67  ,  95899.516 ,  47810.24  ,\n",
              "        103179.85  , 102083.984 ,  93763.79  ,  95329.086 ,  97631.11  ,\n",
              "         97890.22  ,  79570.03  ,  98813.61  ,  72362.66  ,  85785.52  ,\n",
              "        107923.05  ,  98910.23  ,  33707.688 ,  80235.04  ,  52497.65  ,\n",
              "         46104.043 ,  83411.94  ,  83706.89  ,  90619.3   , 101323.2   ,\n",
              "         78729.92  ,  93918.66  ,  22003.836 ,  83404.51  , 101021.836 ,\n",
              "        110203.086 , 107068.6   , 101897.39  ,  56700.574 ,  25832.586 ,\n",
              "         99395.625 , 109720.06  , 108867.51  , 105237.91  , 105611.63  ,\n",
              "        107212.516 , 110306.055 , 111121.95  , 112104.39  , 109331.61  ,\n",
              "        105395.016 ,  98049.98  ,  96233.91  ,  64299.05  ,  68779.16  ,\n",
              "        110106.336 , 111568.84  ,  92478.38  , 106241.79  ,  97599.93  ,\n",
              "         86222.766 ,  47880.26  , 110278.11  ,  69632.734 , 105101.27  ,\n",
              "         92656.58  ,  72725.484 ,  89929.59  ,  54939.215 ,  65829.75  ,\n",
              "         69273.53  ,  55502.438 ,  44431.44  ,  92092.2   , 102923.9   ,\n",
              "        110747.086 , 109739.375 ,  94309.22  ,  63154.344 ,  70530.125 ,\n",
              "         60986.2   ,  69483.234 ,  87629.41  ,  85738.85  ,  88114.11  ,\n",
              "         84045.805 ,  85058.81  ,  91485.91  ,  92860.625 ,  88633.3   ,\n",
              "         95095.734 , 101956.72  ,  91199.234 ,  82732.125 ,  95635.56  ,\n",
              "         90943.95  ,  91740.05  ,  82882.75  ,  91087.74  ,  86917.15  ,\n",
              "         91823.055 ,  19456.625 ,  50803.652 ,  55728.2   ,  66767.41  ,\n",
              "         71613.73  ,  60230.414 ,  78089.06  ,  84966.94  ,  81042.14  ,\n",
              "         77866.36  ,  80540.27  ,  87170.    ,  45000.965 ,  29140.19  ,\n",
              "         48191.223 ,  44912.105 ,  54911.473 ,  72174.086 ,  54690.23  ,\n",
              "         46962.91  ,  46791.36  ,  72300.86  ,  12090.104 ,  45205.6   ,\n",
              "         45461.965 ,  52059.24  ,  43099.92  ,  44337.41  ,  64239.824 ,\n",
              "         72449.47  ,  72986.13  ,  68639.91  ,  55858.84  ,  48034.34  ,\n",
              "         32457.285 ,  41782.77  ,  50786.27  ,  50277.566 ,  52951.32  ,\n",
              "         29981.385 ,  19361.484 ,  29561.713 ,  54497.76  ,  57736.582 ,\n",
              "         54803.855 ,  54930.04  ,  31335.326 ,  10582.068 ,  15062.676 ,\n",
              "         25733.578 ,  28238.164 ,  33399.965 ,  32488.113 ,  30251.988 ],\n",
              "       dtype=float32),\n",
              " array([ 13819.232 ,  16534.123 ,  15756.61  ,  24821.336 ,  20996.977 ,\n",
              "         19569.266 ,  17711.959 ,  14072.03  ,  11424.507 ,  14140.579 ,\n",
              "         16088.929 ,  17034.549 ,  27437.793 ,  31401.46  ,  20463.36  ,\n",
              "         15649.064 ,  14822.261 ,  17285.375 ,  22276.605 ,  30261.367 ,\n",
              "         16258.385 ,  14100.417 ,  36389.617 ,  36317.1   ,  41187.727 ,\n",
              "         17366.172 ,  32072.367 ,  17755.805 ,  19318.748 ,  17046.83  ,\n",
              "         26225.938 ,  27194.645 ,  22051.23  ,  25813.156 ,  27664.578 ,\n",
              "         31916.346 ,  20382.57  ,  24465.09  ,  27924.393 ,  31423.54  ,\n",
              "         33485.914 ,  27083.625 ,  26374.52  ,  21206.422 ,  30152.785 ,\n",
              "         24378.145 ,  19237.656 ,  18693.057 ,  24242.055 ,  32383.258 ,\n",
              "         38579.887 ,  41930.6   ,  38151.5   ,  31920.85  ,  36056.633 ,\n",
              "         36631.273 ,  45416.52  ,  65077.574 ,  37324.547 ,   2103.6604,\n",
              "         36307.4   ,  43283.82  ,  44315.75  ,  58441.215 ,  35666.6   ,\n",
              "         49590.26  ,  51659.035 ,  48839.6   ,  46027.22  ,  44788.56  ,\n",
              "         36729.156 ,  44796.562 ,  37478.258 ,  34380.47  ,  50700.67  ,\n",
              "         52522.55  ,  59325.3   ,  80309.82  ,  22365.941 ,  21441.844 ,\n",
              "         49317.266 ,  52374.965 ,  60382.094 ,  67964.73  ,  61331.867 ,\n",
              "         11300.669 ,   7232.722 ,  33305.453 ,  55012.703 ,  80687.9   ,\n",
              "         81436.82  ,  79121.77  ,   2649.4268,  71809.35  ,  80371.61  ,\n",
              "         83812.65  ,  80768.445 ,  80714.73  ,  81599.38  ,  80000.85  ,\n",
              "         81605.516 ,  26528.852 ,  51562.33  ,  70778.57  ,  78950.6   ,\n",
              "         55232.992 ,  36433.6   ,  76220.664 ,  79699.29  ,  84718.22  ,\n",
              "         87992.555 ,  87313.12  ,  81575.56  ,  87403.18  ,  92258.305 ,\n",
              "         89461.48  ,  75670.74  ,  60918.973 ,  63354.926 ,  26960.723 ,\n",
              "         42346.992 ,  82615.75  ,  89749.06  ,  24520.686 ,  95973.8   ,\n",
              "         85587.52  ,  36115.1   ,  33138.53  ,  87491.56  ,  74604.664 ,\n",
              "         91917.79  ,  99088.16  ,  97628.38  ,  97915.13  ,  58666.57  ,\n",
              "          2921.99  ,  54840.85  ,  95655.88  , 103793.01  ,  85627.66  ,\n",
              "         66824.914 ,  93673.53  ,  98342.086 ,  92737.125 ,  61180.656 ,\n",
              "         84654.51  ,  53110.805 ,  59254.938 ,  91872.25  ,  72130.17  ,\n",
              "         85086.805 ,  85355.69  , 101217.38  ,  43776.55  ,  99272.195 ,\n",
              "        107013.07  , 103428.59  , 100318.63  , 102848.22  , 103463.52  ,\n",
              "         84964.64  ,  86449.164 , 102114.055 , 100405.25  , 104748.375 ,\n",
              "         98027.57  , 108058.74  , 102950.23  ,  54576.625 , 103639.21  ,\n",
              "        102865.33  , 104206.25  ,  94846.86  ,  92489.32  , 105133.2   ,\n",
              "        103490.86  ,  81772.08  ,  60646.35  , 101231.25  ,  83870.43  ,\n",
              "         88178.625 , 102688.85  ,  99833.7   ,  34251.555 ,  18579.508 ,\n",
              "         93473.555 , 105085.    ,  66238.016 ,  85576.18  ,  97395.65  ,\n",
              "         90638.664 ,  58348.16  ,  86584.234 ,  79200.07  ,  80545.72  ,\n",
              "         91305.055 ,  90319.77  ,  87868.34  ,  76091.74  ,  51572.062 ,\n",
              "         92464.71  ,  78960.26  ,  78491.98  ,  77061.39  ,  73881.57  ,\n",
              "         74123.266 ,  81378.055 ,  78313.69  ,  89880.16  ,  90151.38  ,\n",
              "         84490.62  ,  72948.24  ,  28483.258 ,  69988.18  ,  89762.92  ,\n",
              "         78473.9   ,  82332.87  ,  88695.086 ,  86394.63  ,  55740.094 ,\n",
              "         93273.41  ,  93497.82  , 101740.02  , 101429.94  ,  94716.88  ,\n",
              "         99038.445 ,  90020.37  , 105407.336 ,  87363.85  ,  97646.695 ,\n",
              "        107529.    , 103128.766 ,  36907.33  ,  70271.12  ,  56551.973 ,\n",
              "         47675.54  ,  78232.85  ,  86230.15  ,  84773.94  ,  94112.47  ,\n",
              "         71926.836 , 100525.4   ,  36215.266 ,  74686.48  ,  97499.305 ,\n",
              "        109215.67  , 112754.22  , 112699.11  ,  80100.15  ,  20444.566 ,\n",
              "        101678.43  , 105011.23  , 105940.74  , 104509.445 , 106684.48  ,\n",
              "        107438.664 , 108798.41  , 112511.01  , 111431.8   , 110171.414 ,\n",
              "        105448.32  ,  97141.195 , 104195.07  ,  59638.09  ,  89051.695 ,\n",
              "        108290.98  , 110292.125 ,  81167.875 , 110676.984 , 106682.65  ,\n",
              "         91817.18  ,  47157.492 , 105523.914 ,  82011.91  , 107139.92  ,\n",
              "        104590.59  ,  76454.96  ,  92603.41  ,  63172.434 ,  61246.152 ,\n",
              "         56952.145 ,  74195.12  ,  47926.15  ,  79127.96  , 107750.12  ,\n",
              "        110653.805 , 108563.95  ,  94427.54  ,  68314.99  ,  64078.594 ,\n",
              "         72450.38  ,  75146.34  ,  88612.38  ,  85034.96  ,  88824.64  ,\n",
              "         82499.87  ,  84249.03  ,  91807.6   ,  93379.23  ,  91400.7   ,\n",
              "         94503.914 , 100417.85  , 101256.88  ,  87692.15  ,  94725.914 ,\n",
              "         91442.88  ,  92645.18  ,  79990.875 ,  93860.62  ,  88588.74  ,\n",
              "         95236.17  ,  35666.6   ,  60695.758 ,  63897.94  ,  67560.05  ,\n",
              "         69274.586 ,  64680.14  ,  79035.31  ,  83909.95  ,  79473.836 ,\n",
              "         74826.695 ,  72802.52  ,  74700.445 ,  37339.25  ,  29028.094 ,\n",
              "         53259.453 ,  42356.273 ,  59137.195 ,  69750.805 ,  60881.56  ,\n",
              "         50874.938 ,  51108.027 ,  71013.586 ,  17468.36  ,  47475.15  ,\n",
              "         52984.625 ,  58290.742 ,  47711.18  ,  49895.383 ,  64161.934 ,\n",
              "         71859.32  ,  71926.66  ,  66702.02  ,  63736.05  ,  54724.83  ,\n",
              "         34082.59  ,  42303.28  ,  62851.11  ,  59294.117 ,  55598.297 ,\n",
              "         31164.084 ,  20163.7   ,  30791.494 ,  58979.61  ,  58860.195 ,\n",
              "         55239.93  ,  55919.766 ,  36039.617 ,  12062.161 ,  16405.547 ,\n",
              "         27913.36  ,  34240.734 ,  35768.39  ,  33911.992 ,  31152.777 ],\n",
              "       dtype=float32)]"
            ]
          },
          "execution_count": 374,
          "metadata": {},
          "output_type": "execute_result"
        }
      ],
      "source": [
        "fold_target_pred"
      ]
    },
    {
      "cell_type": "code",
      "execution_count": null,
      "metadata": {
        "id": "YIp_bnc-2wHD"
      },
      "outputs": [],
      "source": [
        "### average target pred ###\n",
        "final_pred = np.array(fold_target_pred[0])\n",
        "for i in range(1, len(fold_target_pred)):\n",
        "    final_pred += fold_target_pred[i]\n",
        "\n",
        "final_pred = final_pred/len(fold_target_pred)\n",
        "final_pred = np.round(final_pred*1.3)"
      ]
    },
    {
      "cell_type": "markdown",
      "metadata": {},
      "source": [
        "최종 예측시 2021년도를 2020년도로 두고 예측했기 때문에 년도가 증가할수록 증가하는 평균 따릉이 대여량을 반영하여 1.3배를 곱해준다."
      ]
    },
    {
      "cell_type": "code",
      "execution_count": null,
      "metadata": {
        "colab": {
          "base_uri": "https://localhost:8080/",
          "height": 206
        },
        "id": "a4__R4a55dp9",
        "outputId": "2b943bdd-2b6b-4788-d6da-3d617768deb7"
      },
      "outputs": [
        {
          "data": {
            "text/html": [
              "\n",
              "  <div id=\"df-7256ba76-f321-4801-a7d5-c8648dc87b55\">\n",
              "    <div class=\"colab-df-container\">\n",
              "      <div>\n",
              "<style scoped>\n",
              "    .dataframe tbody tr th:only-of-type {\n",
              "        vertical-align: middle;\n",
              "    }\n",
              "\n",
              "    .dataframe tbody tr th {\n",
              "        vertical-align: top;\n",
              "    }\n",
              "\n",
              "    .dataframe thead th {\n",
              "        text-align: right;\n",
              "    }\n",
              "</style>\n",
              "<table border=\"1\" class=\"dataframe\">\n",
              "  <thead>\n",
              "    <tr style=\"text-align: right;\">\n",
              "      <th></th>\n",
              "      <th>date</th>\n",
              "      <th>rental</th>\n",
              "    </tr>\n",
              "  </thead>\n",
              "  <tbody>\n",
              "    <tr>\n",
              "      <th>0</th>\n",
              "      <td>2021-01-01</td>\n",
              "      <td>0</td>\n",
              "    </tr>\n",
              "    <tr>\n",
              "      <th>1</th>\n",
              "      <td>2021-01-02</td>\n",
              "      <td>0</td>\n",
              "    </tr>\n",
              "    <tr>\n",
              "      <th>2</th>\n",
              "      <td>2021-01-03</td>\n",
              "      <td>0</td>\n",
              "    </tr>\n",
              "    <tr>\n",
              "      <th>3</th>\n",
              "      <td>2021-01-04</td>\n",
              "      <td>0</td>\n",
              "    </tr>\n",
              "    <tr>\n",
              "      <th>4</th>\n",
              "      <td>2021-01-05</td>\n",
              "      <td>0</td>\n",
              "    </tr>\n",
              "  </tbody>\n",
              "</table>\n",
              "</div>\n",
              "      <button class=\"colab-df-convert\" onclick=\"convertToInteractive('df-7256ba76-f321-4801-a7d5-c8648dc87b55')\"\n",
              "              title=\"Convert this dataframe to an interactive table.\"\n",
              "              style=\"display:none;\">\n",
              "        \n",
              "  <svg xmlns=\"http://www.w3.org/2000/svg\" height=\"24px\"viewBox=\"0 0 24 24\"\n",
              "       width=\"24px\">\n",
              "    <path d=\"M0 0h24v24H0V0z\" fill=\"none\"/>\n",
              "    <path d=\"M18.56 5.44l.94 2.06.94-2.06 2.06-.94-2.06-.94-.94-2.06-.94 2.06-2.06.94zm-11 1L8.5 8.5l.94-2.06 2.06-.94-2.06-.94L8.5 2.5l-.94 2.06-2.06.94zm10 10l.94 2.06.94-2.06 2.06-.94-2.06-.94-.94-2.06-.94 2.06-2.06.94z\"/><path d=\"M17.41 7.96l-1.37-1.37c-.4-.4-.92-.59-1.43-.59-.52 0-1.04.2-1.43.59L10.3 9.45l-7.72 7.72c-.78.78-.78 2.05 0 2.83L4 21.41c.39.39.9.59 1.41.59.51 0 1.02-.2 1.41-.59l7.78-7.78 2.81-2.81c.8-.78.8-2.07 0-2.86zM5.41 20L4 18.59l7.72-7.72 1.47 1.35L5.41 20z\"/>\n",
              "  </svg>\n",
              "      </button>\n",
              "      \n",
              "  <style>\n",
              "    .colab-df-container {\n",
              "      display:flex;\n",
              "      flex-wrap:wrap;\n",
              "      gap: 12px;\n",
              "    }\n",
              "\n",
              "    .colab-df-convert {\n",
              "      background-color: #E8F0FE;\n",
              "      border: none;\n",
              "      border-radius: 50%;\n",
              "      cursor: pointer;\n",
              "      display: none;\n",
              "      fill: #1967D2;\n",
              "      height: 32px;\n",
              "      padding: 0 0 0 0;\n",
              "      width: 32px;\n",
              "    }\n",
              "\n",
              "    .colab-df-convert:hover {\n",
              "      background-color: #E2EBFA;\n",
              "      box-shadow: 0px 1px 2px rgba(60, 64, 67, 0.3), 0px 1px 3px 1px rgba(60, 64, 67, 0.15);\n",
              "      fill: #174EA6;\n",
              "    }\n",
              "\n",
              "    [theme=dark] .colab-df-convert {\n",
              "      background-color: #3B4455;\n",
              "      fill: #D2E3FC;\n",
              "    }\n",
              "\n",
              "    [theme=dark] .colab-df-convert:hover {\n",
              "      background-color: #434B5C;\n",
              "      box-shadow: 0px 1px 3px 1px rgba(0, 0, 0, 0.15);\n",
              "      filter: drop-shadow(0px 1px 2px rgba(0, 0, 0, 0.3));\n",
              "      fill: #FFFFFF;\n",
              "    }\n",
              "  </style>\n",
              "\n",
              "      <script>\n",
              "        const buttonEl =\n",
              "          document.querySelector('#df-7256ba76-f321-4801-a7d5-c8648dc87b55 button.colab-df-convert');\n",
              "        buttonEl.style.display =\n",
              "          google.colab.kernel.accessAllowed ? 'block' : 'none';\n",
              "\n",
              "        async function convertToInteractive(key) {\n",
              "          const element = document.querySelector('#df-7256ba76-f321-4801-a7d5-c8648dc87b55');\n",
              "          const dataTable =\n",
              "            await google.colab.kernel.invokeFunction('convertToInteractive',\n",
              "                                                     [key], {});\n",
              "          if (!dataTable) return;\n",
              "\n",
              "          const docLinkHtml = 'Like what you see? Visit the ' +\n",
              "            '<a target=\"_blank\" href=https://colab.research.google.com/notebooks/data_table.ipynb>data table notebook</a>'\n",
              "            + ' to learn more about interactive tables.';\n",
              "          element.innerHTML = '';\n",
              "          dataTable['output_type'] = 'display_data';\n",
              "          await google.colab.output.renderOutput(dataTable, element);\n",
              "          const docLink = document.createElement('div');\n",
              "          docLink.innerHTML = docLinkHtml;\n",
              "          element.appendChild(docLink);\n",
              "        }\n",
              "      </script>\n",
              "    </div>\n",
              "  </div>\n",
              "  "
            ],
            "text/plain": [
              "         date  rental\n",
              "0  2021-01-01       0\n",
              "1  2021-01-02       0\n",
              "2  2021-01-03       0\n",
              "3  2021-01-04       0\n",
              "4  2021-01-05       0"
            ]
          },
          "execution_count": 382,
          "metadata": {},
          "output_type": "execute_result"
        }
      ],
      "source": [
        "filename = '/content/drive/My Drive/bicycle_data/sample_submission.csv'\n",
        "\n",
        "submission = pd.read_csv(filename)\n",
        "submission.head()"
      ]
    },
    {
      "cell_type": "code",
      "execution_count": null,
      "metadata": {
        "colab": {
          "base_uri": "https://localhost:8080/",
          "height": 206
        },
        "id": "DvZ7BsxA5lJB",
        "outputId": "3863f81b-d68b-4cd8-cf76-00d32ba3ee39"
      },
      "outputs": [
        {
          "data": {
            "text/html": [
              "\n",
              "  <div id=\"df-645904fa-105a-4e44-9b0f-ed03a4bd52a4\">\n",
              "    <div class=\"colab-df-container\">\n",
              "      <div>\n",
              "<style scoped>\n",
              "    .dataframe tbody tr th:only-of-type {\n",
              "        vertical-align: middle;\n",
              "    }\n",
              "\n",
              "    .dataframe tbody tr th {\n",
              "        vertical-align: top;\n",
              "    }\n",
              "\n",
              "    .dataframe thead th {\n",
              "        text-align: right;\n",
              "    }\n",
              "</style>\n",
              "<table border=\"1\" class=\"dataframe\">\n",
              "  <thead>\n",
              "    <tr style=\"text-align: right;\">\n",
              "      <th></th>\n",
              "      <th>date</th>\n",
              "      <th>rental</th>\n",
              "    </tr>\n",
              "  </thead>\n",
              "  <tbody>\n",
              "    <tr>\n",
              "      <th>0</th>\n",
              "      <td>2021-01-01</td>\n",
              "      <td>16312.0</td>\n",
              "    </tr>\n",
              "    <tr>\n",
              "      <th>1</th>\n",
              "      <td>2021-01-02</td>\n",
              "      <td>22521.0</td>\n",
              "    </tr>\n",
              "    <tr>\n",
              "      <th>2</th>\n",
              "      <td>2021-01-03</td>\n",
              "      <td>21002.0</td>\n",
              "    </tr>\n",
              "    <tr>\n",
              "      <th>3</th>\n",
              "      <td>2021-01-04</td>\n",
              "      <td>28738.0</td>\n",
              "    </tr>\n",
              "    <tr>\n",
              "      <th>4</th>\n",
              "      <td>2021-01-05</td>\n",
              "      <td>25816.0</td>\n",
              "    </tr>\n",
              "  </tbody>\n",
              "</table>\n",
              "</div>\n",
              "      <button class=\"colab-df-convert\" onclick=\"convertToInteractive('df-645904fa-105a-4e44-9b0f-ed03a4bd52a4')\"\n",
              "              title=\"Convert this dataframe to an interactive table.\"\n",
              "              style=\"display:none;\">\n",
              "        \n",
              "  <svg xmlns=\"http://www.w3.org/2000/svg\" height=\"24px\"viewBox=\"0 0 24 24\"\n",
              "       width=\"24px\">\n",
              "    <path d=\"M0 0h24v24H0V0z\" fill=\"none\"/>\n",
              "    <path d=\"M18.56 5.44l.94 2.06.94-2.06 2.06-.94-2.06-.94-.94-2.06-.94 2.06-2.06.94zm-11 1L8.5 8.5l.94-2.06 2.06-.94-2.06-.94L8.5 2.5l-.94 2.06-2.06.94zm10 10l.94 2.06.94-2.06 2.06-.94-2.06-.94-.94-2.06-.94 2.06-2.06.94z\"/><path d=\"M17.41 7.96l-1.37-1.37c-.4-.4-.92-.59-1.43-.59-.52 0-1.04.2-1.43.59L10.3 9.45l-7.72 7.72c-.78.78-.78 2.05 0 2.83L4 21.41c.39.39.9.59 1.41.59.51 0 1.02-.2 1.41-.59l7.78-7.78 2.81-2.81c.8-.78.8-2.07 0-2.86zM5.41 20L4 18.59l7.72-7.72 1.47 1.35L5.41 20z\"/>\n",
              "  </svg>\n",
              "      </button>\n",
              "      \n",
              "  <style>\n",
              "    .colab-df-container {\n",
              "      display:flex;\n",
              "      flex-wrap:wrap;\n",
              "      gap: 12px;\n",
              "    }\n",
              "\n",
              "    .colab-df-convert {\n",
              "      background-color: #E8F0FE;\n",
              "      border: none;\n",
              "      border-radius: 50%;\n",
              "      cursor: pointer;\n",
              "      display: none;\n",
              "      fill: #1967D2;\n",
              "      height: 32px;\n",
              "      padding: 0 0 0 0;\n",
              "      width: 32px;\n",
              "    }\n",
              "\n",
              "    .colab-df-convert:hover {\n",
              "      background-color: #E2EBFA;\n",
              "      box-shadow: 0px 1px 2px rgba(60, 64, 67, 0.3), 0px 1px 3px 1px rgba(60, 64, 67, 0.15);\n",
              "      fill: #174EA6;\n",
              "    }\n",
              "\n",
              "    [theme=dark] .colab-df-convert {\n",
              "      background-color: #3B4455;\n",
              "      fill: #D2E3FC;\n",
              "    }\n",
              "\n",
              "    [theme=dark] .colab-df-convert:hover {\n",
              "      background-color: #434B5C;\n",
              "      box-shadow: 0px 1px 3px 1px rgba(0, 0, 0, 0.15);\n",
              "      filter: drop-shadow(0px 1px 2px rgba(0, 0, 0, 0.3));\n",
              "      fill: #FFFFFF;\n",
              "    }\n",
              "  </style>\n",
              "\n",
              "      <script>\n",
              "        const buttonEl =\n",
              "          document.querySelector('#df-645904fa-105a-4e44-9b0f-ed03a4bd52a4 button.colab-df-convert');\n",
              "        buttonEl.style.display =\n",
              "          google.colab.kernel.accessAllowed ? 'block' : 'none';\n",
              "\n",
              "        async function convertToInteractive(key) {\n",
              "          const element = document.querySelector('#df-645904fa-105a-4e44-9b0f-ed03a4bd52a4');\n",
              "          const dataTable =\n",
              "            await google.colab.kernel.invokeFunction('convertToInteractive',\n",
              "                                                     [key], {});\n",
              "          if (!dataTable) return;\n",
              "\n",
              "          const docLinkHtml = 'Like what you see? Visit the ' +\n",
              "            '<a target=\"_blank\" href=https://colab.research.google.com/notebooks/data_table.ipynb>data table notebook</a>'\n",
              "            + ' to learn more about interactive tables.';\n",
              "          element.innerHTML = '';\n",
              "          dataTable['output_type'] = 'display_data';\n",
              "          await google.colab.output.renderOutput(dataTable, element);\n",
              "          const docLink = document.createElement('div');\n",
              "          docLink.innerHTML = docLinkHtml;\n",
              "          element.appendChild(docLink);\n",
              "        }\n",
              "      </script>\n",
              "    </div>\n",
              "  </div>\n",
              "  "
            ],
            "text/plain": [
              "         date   rental\n",
              "0  2021-01-01  16312.0\n",
              "1  2021-01-02  22521.0\n",
              "2  2021-01-03  21002.0\n",
              "3  2021-01-04  28738.0\n",
              "4  2021-01-05  25816.0"
            ]
          },
          "execution_count": 383,
          "metadata": {},
          "output_type": "execute_result"
        }
      ],
      "source": [
        "submission['rental'] = final_pred\n",
        "submission.head()"
      ]
    },
    {
      "cell_type": "code",
      "execution_count": null,
      "metadata": {
        "id": "26j1weCs5sb_"
      },
      "outputs": [],
      "source": [
        "savepath = '/content/drive/My Drive/bicycle_data/submit_3_1.3.csv'\n",
        "submission.to_csv(savepath,index=False)"
      ]
    },
    {
      "cell_type": "code",
      "execution_count": null,
      "metadata": {
        "id": "E7IAoO0R5031"
      },
      "outputs": [],
      "source": [
        "savepath = '/content/drive/My Drive/bicycle_data/submit_3_1.3.csv'\n",
        "\n",
        "data_example = pd.read_csv(savepath)"
      ]
    },
    {
      "cell_type": "code",
      "execution_count": null,
      "metadata": {
        "id": "CuyYQ0kwPmpJ"
      },
      "outputs": [],
      "source": []
    }
  ],
  "metadata": {
    "colab": {
      "name": "따릉이 예측_1.3배.ipynb",
      "provenance": [],
      "toc_visible": true
    },
    "kernelspec": {
      "display_name": "Python 3",
      "name": "python3"
    },
    "language_info": {
      "name": "python"
    }
  },
  "nbformat": 4,
  "nbformat_minor": 0
}
