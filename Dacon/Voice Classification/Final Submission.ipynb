{
  "nbformat": 4,
  "nbformat_minor": 0,
  "metadata": {
    "colab": {
      "name": "audioclassification.ipynb",
      "provenance": [],
      "collapsed_sections": [],
      "toc_visible": true
    },
    "kernelspec": {
      "name": "python3",
      "display_name": "Python 3"
    },
    "language_info": {
      "name": "python"
    },
    "accelerator": "GPU",
    "gpuClass": "standard"
  },
  "cells": [
    {
      "cell_type": "code",
      "source": [
        "# 드라이브 마운트\n",
        "from google.colab import drive\n",
        "drive.mount('/content/drive')"
      ],
      "metadata": {
        "colab": {
          "base_uri": "https://localhost:8080/"
        },
        "id": "Su7XbM53aPhg",
        "outputId": "c4e0a879-12f7-4a6a-e151-7184c137b64c"
      },
      "execution_count": null,
      "outputs": [
        {
          "output_type": "stream",
          "name": "stdout",
          "text": [
            "Drive already mounted at /content/drive; to attempt to forcibly remount, call drive.mount(\"/content/drive\", force_remount=True).\n"
          ]
        }
      ]
    },
    {
      "cell_type": "code",
      "source": [
        "import librosa \n",
        "import librosa.display as dsp\n",
        "from IPython.display import Audio"
      ],
      "metadata": {
        "id": "n8-7A4hJbY72"
      },
      "execution_count": null,
      "outputs": []
    },
    {
      "cell_type": "code",
      "source": [
        "import pandas as pd\n",
        "import numpy as np\n",
        "from tqdm import tqdm\n",
        "import os"
      ],
      "metadata": {
        "id": "EPY45rRmbYC-"
      },
      "execution_count": null,
      "outputs": []
    },
    {
      "cell_type": "code",
      "source": [
        "import torch\n",
        "import torchaudio\n",
        "\n",
        "device = torch.device('cuda') if torch.cuda.is_available() else torch.device('cpu') #GPU 할당"
      ],
      "metadata": {
        "id": "gHyiLg85SayN"
      },
      "execution_count": null,
      "outputs": []
    },
    {
      "cell_type": "code",
      "source": [
        "import random\n",
        "\n",
        "def seed_everything(seed):\n",
        "    random.seed(seed)\n",
        "    os.environ['PYTHONHASHSEED'] = str(seed)\n",
        "    np.random.seed(seed)\n",
        "    torch.manual_seed(seed)\n",
        "    torch.cuda.manual_seed(seed)\n",
        "    torch.backends.cudnn.deterministic = True\n",
        "    torch.backends.cudnn.benchmark = True\n",
        "\n",
        "seed_everything(929)"
      ],
      "metadata": {
        "id": "vlqpC2Zjav5D"
      },
      "execution_count": null,
      "outputs": []
    },
    {
      "cell_type": "code",
      "source": [
        "import pandas as pd\n",
        "train = pd.read_csv('/content/drive/My Drive/audio-data/train.csv')\n",
        "train.head()"
      ],
      "metadata": {
        "colab": {
          "base_uri": "https://localhost:8080/",
          "height": 206
        },
        "id": "L73Y72RNbW1a",
        "outputId": "b09a2bbe-5154-4630-a5d4-a06c987eea45"
      },
      "execution_count": null,
      "outputs": [
        {
          "output_type": "execute_result",
          "data": {
            "text/plain": [
              "  file_name  label\n",
              "0   001.wav      9\n",
              "1   002.wav      0\n",
              "2   004.wav      1\n",
              "3   005.wav      8\n",
              "4   006.wav      0"
            ],
            "text/html": [
              "\n",
              "  <div id=\"df-687f4798-cd36-4af8-be7c-5a40603cbe1c\">\n",
              "    <div class=\"colab-df-container\">\n",
              "      <div>\n",
              "<style scoped>\n",
              "    .dataframe tbody tr th:only-of-type {\n",
              "        vertical-align: middle;\n",
              "    }\n",
              "\n",
              "    .dataframe tbody tr th {\n",
              "        vertical-align: top;\n",
              "    }\n",
              "\n",
              "    .dataframe thead th {\n",
              "        text-align: right;\n",
              "    }\n",
              "</style>\n",
              "<table border=\"1\" class=\"dataframe\">\n",
              "  <thead>\n",
              "    <tr style=\"text-align: right;\">\n",
              "      <th></th>\n",
              "      <th>file_name</th>\n",
              "      <th>label</th>\n",
              "    </tr>\n",
              "  </thead>\n",
              "  <tbody>\n",
              "    <tr>\n",
              "      <th>0</th>\n",
              "      <td>001.wav</td>\n",
              "      <td>9</td>\n",
              "    </tr>\n",
              "    <tr>\n",
              "      <th>1</th>\n",
              "      <td>002.wav</td>\n",
              "      <td>0</td>\n",
              "    </tr>\n",
              "    <tr>\n",
              "      <th>2</th>\n",
              "      <td>004.wav</td>\n",
              "      <td>1</td>\n",
              "    </tr>\n",
              "    <tr>\n",
              "      <th>3</th>\n",
              "      <td>005.wav</td>\n",
              "      <td>8</td>\n",
              "    </tr>\n",
              "    <tr>\n",
              "      <th>4</th>\n",
              "      <td>006.wav</td>\n",
              "      <td>0</td>\n",
              "    </tr>\n",
              "  </tbody>\n",
              "</table>\n",
              "</div>\n",
              "      <button class=\"colab-df-convert\" onclick=\"convertToInteractive('df-687f4798-cd36-4af8-be7c-5a40603cbe1c')\"\n",
              "              title=\"Convert this dataframe to an interactive table.\"\n",
              "              style=\"display:none;\">\n",
              "        \n",
              "  <svg xmlns=\"http://www.w3.org/2000/svg\" height=\"24px\"viewBox=\"0 0 24 24\"\n",
              "       width=\"24px\">\n",
              "    <path d=\"M0 0h24v24H0V0z\" fill=\"none\"/>\n",
              "    <path d=\"M18.56 5.44l.94 2.06.94-2.06 2.06-.94-2.06-.94-.94-2.06-.94 2.06-2.06.94zm-11 1L8.5 8.5l.94-2.06 2.06-.94-2.06-.94L8.5 2.5l-.94 2.06-2.06.94zm10 10l.94 2.06.94-2.06 2.06-.94-2.06-.94-.94-2.06-.94 2.06-2.06.94z\"/><path d=\"M17.41 7.96l-1.37-1.37c-.4-.4-.92-.59-1.43-.59-.52 0-1.04.2-1.43.59L10.3 9.45l-7.72 7.72c-.78.78-.78 2.05 0 2.83L4 21.41c.39.39.9.59 1.41.59.51 0 1.02-.2 1.41-.59l7.78-7.78 2.81-2.81c.8-.78.8-2.07 0-2.86zM5.41 20L4 18.59l7.72-7.72 1.47 1.35L5.41 20z\"/>\n",
              "  </svg>\n",
              "      </button>\n",
              "      \n",
              "  <style>\n",
              "    .colab-df-container {\n",
              "      display:flex;\n",
              "      flex-wrap:wrap;\n",
              "      gap: 12px;\n",
              "    }\n",
              "\n",
              "    .colab-df-convert {\n",
              "      background-color: #E8F0FE;\n",
              "      border: none;\n",
              "      border-radius: 50%;\n",
              "      cursor: pointer;\n",
              "      display: none;\n",
              "      fill: #1967D2;\n",
              "      height: 32px;\n",
              "      padding: 0 0 0 0;\n",
              "      width: 32px;\n",
              "    }\n",
              "\n",
              "    .colab-df-convert:hover {\n",
              "      background-color: #E2EBFA;\n",
              "      box-shadow: 0px 1px 2px rgba(60, 64, 67, 0.3), 0px 1px 3px 1px rgba(60, 64, 67, 0.15);\n",
              "      fill: #174EA6;\n",
              "    }\n",
              "\n",
              "    [theme=dark] .colab-df-convert {\n",
              "      background-color: #3B4455;\n",
              "      fill: #D2E3FC;\n",
              "    }\n",
              "\n",
              "    [theme=dark] .colab-df-convert:hover {\n",
              "      background-color: #434B5C;\n",
              "      box-shadow: 0px 1px 3px 1px rgba(0, 0, 0, 0.15);\n",
              "      filter: drop-shadow(0px 1px 2px rgba(0, 0, 0, 0.3));\n",
              "      fill: #FFFFFF;\n",
              "    }\n",
              "  </style>\n",
              "\n",
              "      <script>\n",
              "        const buttonEl =\n",
              "          document.querySelector('#df-687f4798-cd36-4af8-be7c-5a40603cbe1c button.colab-df-convert');\n",
              "        buttonEl.style.display =\n",
              "          google.colab.kernel.accessAllowed ? 'block' : 'none';\n",
              "\n",
              "        async function convertToInteractive(key) {\n",
              "          const element = document.querySelector('#df-687f4798-cd36-4af8-be7c-5a40603cbe1c');\n",
              "          const dataTable =\n",
              "            await google.colab.kernel.invokeFunction('convertToInteractive',\n",
              "                                                     [key], {});\n",
              "          if (!dataTable) return;\n",
              "\n",
              "          const docLinkHtml = 'Like what you see? Visit the ' +\n",
              "            '<a target=\"_blank\" href=https://colab.research.google.com/notebooks/data_table.ipynb>data table notebook</a>'\n",
              "            + ' to learn more about interactive tables.';\n",
              "          element.innerHTML = '';\n",
              "          dataTable['output_type'] = 'display_data';\n",
              "          await google.colab.output.renderOutput(dataTable, element);\n",
              "          const docLink = document.createElement('div');\n",
              "          docLink.innerHTML = docLinkHtml;\n",
              "          element.appendChild(docLink);\n",
              "        }\n",
              "      </script>\n",
              "    </div>\n",
              "  </div>\n",
              "  "
            ]
          },
          "metadata": {},
          "execution_count": 6
        }
      ]
    },
    {
      "cell_type": "code",
      "source": [
        "train.info()"
      ],
      "metadata": {
        "colab": {
          "base_uri": "https://localhost:8080/"
        },
        "id": "7DYdCcpEbb1-",
        "outputId": "e67aa55b-7699-45a1-d37a-b1cffadd50ce"
      },
      "execution_count": null,
      "outputs": [
        {
          "output_type": "stream",
          "name": "stdout",
          "text": [
            "<class 'pandas.core.frame.DataFrame'>\n",
            "RangeIndex: 400 entries, 0 to 399\n",
            "Data columns (total 2 columns):\n",
            " #   Column     Non-Null Count  Dtype \n",
            "---  ------     --------------  ----- \n",
            " 0   file_name  400 non-null    object\n",
            " 1   label      400 non-null    int64 \n",
            "dtypes: int64(1), object(1)\n",
            "memory usage: 6.4+ KB\n"
          ]
        }
      ]
    },
    {
      "cell_type": "code",
      "source": [
        "data, sample_rate = librosa.load('/content/drive/My Drive/audio-data/train/001.wav', sr = 16000)\n",
        "print('sample_rate:', sample_rate, ', audio shape:', data.shape)\n",
        "print('length:', data.shape[0]/float(sample_rate), 'secs')"
      ],
      "metadata": {
        "colab": {
          "base_uri": "https://localhost:8080/"
        },
        "id": "LatLK0hTbqPf",
        "outputId": "17be472d-e415-49cf-8504-c4fc56c95d9c"
      },
      "execution_count": null,
      "outputs": [
        {
          "output_type": "stream",
          "name": "stdout",
          "text": [
            "sample_rate: 16000 , audio shape: (10192,)\n",
            "length: 0.637 secs\n"
          ]
        }
      ]
    },
    {
      "cell_type": "code",
      "source": [
        "def train_dataset():\n",
        "    folder = \"/content/drive/My Drive/audio-data/train/\"\n",
        "    dataset = []\n",
        "    for file in tqdm(os.listdir(folder),colour='green'):\n",
        "        if 'wav' in file:\n",
        "            abs_file_path = os.path.join(folder,file)\n",
        "            data, sr = librosa.load(abs_file_path, sr = 16000)\n",
        "            class_label = int(train[train.file_name == file].label)\n",
        "            dataset.append([data, sr, class_label])\n",
        "    \n",
        "    print(\"Train Dataset 생성 완료\")\n",
        "    return pd.DataFrame(dataset,columns=['data', 'sr', 'label'])"
      ],
      "metadata": {
        "id": "aIhqrwgWb79E"
      },
      "execution_count": null,
      "outputs": []
    },
    {
      "cell_type": "code",
      "source": [
        "def test_dataset():\n",
        "    folder = \"/content/drive/My Drive/audio-data/test/\"\n",
        "    dataset = []\n",
        "    for file in tqdm(os.listdir(folder),colour='green'):\n",
        "        if 'wav' in file:\n",
        "            abs_file_path = os.path.join(folder,file)\n",
        "            data, sr = librosa.load(abs_file_path, sr = 16000)\n",
        "            \n",
        "            dataset.append([data, sr, file])\n",
        "    \n",
        "    print(\"Test Dataset 생성 완료\")\n",
        "    return pd.DataFrame(dataset,columns=['data', 'sr', 'file_name'])"
      ],
      "metadata": {
        "id": "8VfmGlCXcBMB"
      },
      "execution_count": null,
      "outputs": []
    },
    {
      "cell_type": "code",
      "source": [
        "train_wav = train_dataset()\n",
        "test_wav = test_dataset()"
      ],
      "metadata": {
        "colab": {
          "base_uri": "https://localhost:8080/"
        },
        "id": "Kmyy-M1WcHKJ",
        "outputId": "068482df-232d-45ea-f577-618b7e7ecf30"
      },
      "execution_count": null,
      "outputs": [
        {
          "output_type": "stream",
          "name": "stderr",
          "text": [
            "100%|\u001b[32m██████████\u001b[0m| 400/400 [00:22<00:00, 18.02it/s]\n"
          ]
        },
        {
          "output_type": "stream",
          "name": "stdout",
          "text": [
            "Train Dataset 생성 완료\n"
          ]
        },
        {
          "output_type": "stream",
          "name": "stderr",
          "text": [
            "100%|\u001b[32m██████████\u001b[0m| 200/200 [00:07<00:00, 27.22it/s]"
          ]
        },
        {
          "output_type": "stream",
          "name": "stdout",
          "text": [
            "Test Dataset 생성 완료\n"
          ]
        },
        {
          "output_type": "stream",
          "name": "stderr",
          "text": [
            "\n"
          ]
        }
      ]
    },
    {
      "cell_type": "code",
      "source": [
        "train_wav.head()"
      ],
      "metadata": {
        "colab": {
          "base_uri": "https://localhost:8080/",
          "height": 206
        },
        "id": "NzGAeDOPcIiD",
        "outputId": "71ba33d3-a6d2-422d-f224-3a307a7342e4"
      },
      "execution_count": null,
      "outputs": [
        {
          "output_type": "execute_result",
          "data": {
            "text/plain": [
              "                                                data     sr  label\n",
              "0  [-0.00020736177, -0.00032222085, -0.0002783999...  16000      2\n",
              "1  [-0.003955867, -0.006708248, -0.005994901, -0....  16000      0\n",
              "2  [-3.323972e-05, -9.3231734e-05, -3.423063e-05,...  16000      1\n",
              "3  [0.00013533195, 0.00020968198, 0.00022006914, ...  16000      8\n",
              "4  [0.00025892138, 0.00046078255, 0.00037030628, ...  16000      9"
            ],
            "text/html": [
              "\n",
              "  <div id=\"df-a7d1f9d8-8c41-4bb5-8ffe-6887dcee5995\">\n",
              "    <div class=\"colab-df-container\">\n",
              "      <div>\n",
              "<style scoped>\n",
              "    .dataframe tbody tr th:only-of-type {\n",
              "        vertical-align: middle;\n",
              "    }\n",
              "\n",
              "    .dataframe tbody tr th {\n",
              "        vertical-align: top;\n",
              "    }\n",
              "\n",
              "    .dataframe thead th {\n",
              "        text-align: right;\n",
              "    }\n",
              "</style>\n",
              "<table border=\"1\" class=\"dataframe\">\n",
              "  <thead>\n",
              "    <tr style=\"text-align: right;\">\n",
              "      <th></th>\n",
              "      <th>data</th>\n",
              "      <th>sr</th>\n",
              "      <th>label</th>\n",
              "    </tr>\n",
              "  </thead>\n",
              "  <tbody>\n",
              "    <tr>\n",
              "      <th>0</th>\n",
              "      <td>[-0.00020736177, -0.00032222085, -0.0002783999...</td>\n",
              "      <td>16000</td>\n",
              "      <td>2</td>\n",
              "    </tr>\n",
              "    <tr>\n",
              "      <th>1</th>\n",
              "      <td>[-0.003955867, -0.006708248, -0.005994901, -0....</td>\n",
              "      <td>16000</td>\n",
              "      <td>0</td>\n",
              "    </tr>\n",
              "    <tr>\n",
              "      <th>2</th>\n",
              "      <td>[-3.323972e-05, -9.3231734e-05, -3.423063e-05,...</td>\n",
              "      <td>16000</td>\n",
              "      <td>1</td>\n",
              "    </tr>\n",
              "    <tr>\n",
              "      <th>3</th>\n",
              "      <td>[0.00013533195, 0.00020968198, 0.00022006914, ...</td>\n",
              "      <td>16000</td>\n",
              "      <td>8</td>\n",
              "    </tr>\n",
              "    <tr>\n",
              "      <th>4</th>\n",
              "      <td>[0.00025892138, 0.00046078255, 0.00037030628, ...</td>\n",
              "      <td>16000</td>\n",
              "      <td>9</td>\n",
              "    </tr>\n",
              "  </tbody>\n",
              "</table>\n",
              "</div>\n",
              "      <button class=\"colab-df-convert\" onclick=\"convertToInteractive('df-a7d1f9d8-8c41-4bb5-8ffe-6887dcee5995')\"\n",
              "              title=\"Convert this dataframe to an interactive table.\"\n",
              "              style=\"display:none;\">\n",
              "        \n",
              "  <svg xmlns=\"http://www.w3.org/2000/svg\" height=\"24px\"viewBox=\"0 0 24 24\"\n",
              "       width=\"24px\">\n",
              "    <path d=\"M0 0h24v24H0V0z\" fill=\"none\"/>\n",
              "    <path d=\"M18.56 5.44l.94 2.06.94-2.06 2.06-.94-2.06-.94-.94-2.06-.94 2.06-2.06.94zm-11 1L8.5 8.5l.94-2.06 2.06-.94-2.06-.94L8.5 2.5l-.94 2.06-2.06.94zm10 10l.94 2.06.94-2.06 2.06-.94-2.06-.94-.94-2.06-.94 2.06-2.06.94z\"/><path d=\"M17.41 7.96l-1.37-1.37c-.4-.4-.92-.59-1.43-.59-.52 0-1.04.2-1.43.59L10.3 9.45l-7.72 7.72c-.78.78-.78 2.05 0 2.83L4 21.41c.39.39.9.59 1.41.59.51 0 1.02-.2 1.41-.59l7.78-7.78 2.81-2.81c.8-.78.8-2.07 0-2.86zM5.41 20L4 18.59l7.72-7.72 1.47 1.35L5.41 20z\"/>\n",
              "  </svg>\n",
              "      </button>\n",
              "      \n",
              "  <style>\n",
              "    .colab-df-container {\n",
              "      display:flex;\n",
              "      flex-wrap:wrap;\n",
              "      gap: 12px;\n",
              "    }\n",
              "\n",
              "    .colab-df-convert {\n",
              "      background-color: #E8F0FE;\n",
              "      border: none;\n",
              "      border-radius: 50%;\n",
              "      cursor: pointer;\n",
              "      display: none;\n",
              "      fill: #1967D2;\n",
              "      height: 32px;\n",
              "      padding: 0 0 0 0;\n",
              "      width: 32px;\n",
              "    }\n",
              "\n",
              "    .colab-df-convert:hover {\n",
              "      background-color: #E2EBFA;\n",
              "      box-shadow: 0px 1px 2px rgba(60, 64, 67, 0.3), 0px 1px 3px 1px rgba(60, 64, 67, 0.15);\n",
              "      fill: #174EA6;\n",
              "    }\n",
              "\n",
              "    [theme=dark] .colab-df-convert {\n",
              "      background-color: #3B4455;\n",
              "      fill: #D2E3FC;\n",
              "    }\n",
              "\n",
              "    [theme=dark] .colab-df-convert:hover {\n",
              "      background-color: #434B5C;\n",
              "      box-shadow: 0px 1px 3px 1px rgba(0, 0, 0, 0.15);\n",
              "      filter: drop-shadow(0px 1px 2px rgba(0, 0, 0, 0.3));\n",
              "      fill: #FFFFFF;\n",
              "    }\n",
              "  </style>\n",
              "\n",
              "      <script>\n",
              "        const buttonEl =\n",
              "          document.querySelector('#df-a7d1f9d8-8c41-4bb5-8ffe-6887dcee5995 button.colab-df-convert');\n",
              "        buttonEl.style.display =\n",
              "          google.colab.kernel.accessAllowed ? 'block' : 'none';\n",
              "\n",
              "        async function convertToInteractive(key) {\n",
              "          const element = document.querySelector('#df-a7d1f9d8-8c41-4bb5-8ffe-6887dcee5995');\n",
              "          const dataTable =\n",
              "            await google.colab.kernel.invokeFunction('convertToInteractive',\n",
              "                                                     [key], {});\n",
              "          if (!dataTable) return;\n",
              "\n",
              "          const docLinkHtml = 'Like what you see? Visit the ' +\n",
              "            '<a target=\"_blank\" href=https://colab.research.google.com/notebooks/data_table.ipynb>data table notebook</a>'\n",
              "            + ' to learn more about interactive tables.';\n",
              "          element.innerHTML = '';\n",
              "          dataTable['output_type'] = 'display_data';\n",
              "          await google.colab.output.renderOutput(dataTable, element);\n",
              "          const docLink = document.createElement('div');\n",
              "          docLink.innerHTML = docLinkHtml;\n",
              "          element.appendChild(docLink);\n",
              "        }\n",
              "      </script>\n",
              "    </div>\n",
              "  </div>\n",
              "  "
            ]
          },
          "metadata": {},
          "execution_count": 12
        }
      ]
    },
    {
      "cell_type": "code",
      "source": [
        "test_wav.head()"
      ],
      "metadata": {
        "colab": {
          "base_uri": "https://localhost:8080/",
          "height": 206
        },
        "id": "YeGLV5zArbpd",
        "outputId": "705dabd8-8823-4346-9efc-0081d17fed6a"
      },
      "execution_count": null,
      "outputs": [
        {
          "output_type": "execute_result",
          "data": {
            "text/plain": [
              "                                                data     sr file_name\n",
              "0  [-0.0002413789, -0.00043204584, -0.00041909475...  16000   295.wav\n",
              "1  [4.9274193e-05, 8.647903e-05, 6.483143e-05, 5....  16000   567.wav\n",
              "2  [0.00013012115, 0.00020055204, 0.00018348989, ...  16000   305.wav\n",
              "3  [-0.0004026151, -0.0006202783, -0.00058203033,...  16000   446.wav\n",
              "4  [8.87213e-05, 0.00013668207, 0.000102160935, 8...  16000   404.wav"
            ],
            "text/html": [
              "\n",
              "  <div id=\"df-b9d26b7a-a05e-473c-b655-77da595a6113\">\n",
              "    <div class=\"colab-df-container\">\n",
              "      <div>\n",
              "<style scoped>\n",
              "    .dataframe tbody tr th:only-of-type {\n",
              "        vertical-align: middle;\n",
              "    }\n",
              "\n",
              "    .dataframe tbody tr th {\n",
              "        vertical-align: top;\n",
              "    }\n",
              "\n",
              "    .dataframe thead th {\n",
              "        text-align: right;\n",
              "    }\n",
              "</style>\n",
              "<table border=\"1\" class=\"dataframe\">\n",
              "  <thead>\n",
              "    <tr style=\"text-align: right;\">\n",
              "      <th></th>\n",
              "      <th>data</th>\n",
              "      <th>sr</th>\n",
              "      <th>file_name</th>\n",
              "    </tr>\n",
              "  </thead>\n",
              "  <tbody>\n",
              "    <tr>\n",
              "      <th>0</th>\n",
              "      <td>[-0.0002413789, -0.00043204584, -0.00041909475...</td>\n",
              "      <td>16000</td>\n",
              "      <td>295.wav</td>\n",
              "    </tr>\n",
              "    <tr>\n",
              "      <th>1</th>\n",
              "      <td>[4.9274193e-05, 8.647903e-05, 6.483143e-05, 5....</td>\n",
              "      <td>16000</td>\n",
              "      <td>567.wav</td>\n",
              "    </tr>\n",
              "    <tr>\n",
              "      <th>2</th>\n",
              "      <td>[0.00013012115, 0.00020055204, 0.00018348989, ...</td>\n",
              "      <td>16000</td>\n",
              "      <td>305.wav</td>\n",
              "    </tr>\n",
              "    <tr>\n",
              "      <th>3</th>\n",
              "      <td>[-0.0004026151, -0.0006202783, -0.00058203033,...</td>\n",
              "      <td>16000</td>\n",
              "      <td>446.wav</td>\n",
              "    </tr>\n",
              "    <tr>\n",
              "      <th>4</th>\n",
              "      <td>[8.87213e-05, 0.00013668207, 0.000102160935, 8...</td>\n",
              "      <td>16000</td>\n",
              "      <td>404.wav</td>\n",
              "    </tr>\n",
              "  </tbody>\n",
              "</table>\n",
              "</div>\n",
              "      <button class=\"colab-df-convert\" onclick=\"convertToInteractive('df-b9d26b7a-a05e-473c-b655-77da595a6113')\"\n",
              "              title=\"Convert this dataframe to an interactive table.\"\n",
              "              style=\"display:none;\">\n",
              "        \n",
              "  <svg xmlns=\"http://www.w3.org/2000/svg\" height=\"24px\"viewBox=\"0 0 24 24\"\n",
              "       width=\"24px\">\n",
              "    <path d=\"M0 0h24v24H0V0z\" fill=\"none\"/>\n",
              "    <path d=\"M18.56 5.44l.94 2.06.94-2.06 2.06-.94-2.06-.94-.94-2.06-.94 2.06-2.06.94zm-11 1L8.5 8.5l.94-2.06 2.06-.94-2.06-.94L8.5 2.5l-.94 2.06-2.06.94zm10 10l.94 2.06.94-2.06 2.06-.94-2.06-.94-.94-2.06-.94 2.06-2.06.94z\"/><path d=\"M17.41 7.96l-1.37-1.37c-.4-.4-.92-.59-1.43-.59-.52 0-1.04.2-1.43.59L10.3 9.45l-7.72 7.72c-.78.78-.78 2.05 0 2.83L4 21.41c.39.39.9.59 1.41.59.51 0 1.02-.2 1.41-.59l7.78-7.78 2.81-2.81c.8-.78.8-2.07 0-2.86zM5.41 20L4 18.59l7.72-7.72 1.47 1.35L5.41 20z\"/>\n",
              "  </svg>\n",
              "      </button>\n",
              "      \n",
              "  <style>\n",
              "    .colab-df-container {\n",
              "      display:flex;\n",
              "      flex-wrap:wrap;\n",
              "      gap: 12px;\n",
              "    }\n",
              "\n",
              "    .colab-df-convert {\n",
              "      background-color: #E8F0FE;\n",
              "      border: none;\n",
              "      border-radius: 50%;\n",
              "      cursor: pointer;\n",
              "      display: none;\n",
              "      fill: #1967D2;\n",
              "      height: 32px;\n",
              "      padding: 0 0 0 0;\n",
              "      width: 32px;\n",
              "    }\n",
              "\n",
              "    .colab-df-convert:hover {\n",
              "      background-color: #E2EBFA;\n",
              "      box-shadow: 0px 1px 2px rgba(60, 64, 67, 0.3), 0px 1px 3px 1px rgba(60, 64, 67, 0.15);\n",
              "      fill: #174EA6;\n",
              "    }\n",
              "\n",
              "    [theme=dark] .colab-df-convert {\n",
              "      background-color: #3B4455;\n",
              "      fill: #D2E3FC;\n",
              "    }\n",
              "\n",
              "    [theme=dark] .colab-df-convert:hover {\n",
              "      background-color: #434B5C;\n",
              "      box-shadow: 0px 1px 3px 1px rgba(0, 0, 0, 0.15);\n",
              "      filter: drop-shadow(0px 1px 2px rgba(0, 0, 0, 0.3));\n",
              "      fill: #FFFFFF;\n",
              "    }\n",
              "  </style>\n",
              "\n",
              "      <script>\n",
              "        const buttonEl =\n",
              "          document.querySelector('#df-b9d26b7a-a05e-473c-b655-77da595a6113 button.colab-df-convert');\n",
              "        buttonEl.style.display =\n",
              "          google.colab.kernel.accessAllowed ? 'block' : 'none';\n",
              "\n",
              "        async function convertToInteractive(key) {\n",
              "          const element = document.querySelector('#df-b9d26b7a-a05e-473c-b655-77da595a6113');\n",
              "          const dataTable =\n",
              "            await google.colab.kernel.invokeFunction('convertToInteractive',\n",
              "                                                     [key], {});\n",
              "          if (!dataTable) return;\n",
              "\n",
              "          const docLinkHtml = 'Like what you see? Visit the ' +\n",
              "            '<a target=\"_blank\" href=https://colab.research.google.com/notebooks/data_table.ipynb>data table notebook</a>'\n",
              "            + ' to learn more about interactive tables.';\n",
              "          element.innerHTML = '';\n",
              "          dataTable['output_type'] = 'display_data';\n",
              "          await google.colab.output.renderOutput(dataTable, element);\n",
              "          const docLink = document.createElement('div');\n",
              "          docLink.innerHTML = docLinkHtml;\n",
              "          element.appendChild(docLink);\n",
              "        }\n",
              "      </script>\n",
              "    </div>\n",
              "  </div>\n",
              "  "
            ]
          },
          "metadata": {},
          "execution_count": 131
        }
      ]
    },
    {
      "cell_type": "code",
      "source": [
        "train_data = np.array(train_wav)"
      ],
      "metadata": {
        "id": "xSZHENeCkzzR"
      },
      "execution_count": null,
      "outputs": []
    },
    {
      "cell_type": "code",
      "source": [
        "test_data = np.array(test_wav)"
      ],
      "metadata": {
        "id": "AYCN51TerNwo"
      },
      "execution_count": null,
      "outputs": []
    },
    {
      "cell_type": "markdown",
      "source": [
        "## add speed augmentation"
      ],
      "metadata": {
        "id": "FZq1Yky-nkr6"
      }
    },
    {
      "cell_type": "code",
      "source": [
        "def speed_augmentation(dataset):\n",
        "  data_augmented = []\n",
        "  for waveform, sample_rate, label in dataset:\n",
        "    if len(waveform) > 10000:\n",
        "      effects = [[\"speed\", \"1.2\"], [\"rate\", f\"{sample_rate}\"],]\n",
        "    else:\n",
        "      effects = [[\"speed\", \"0.8\"], [\"rate\", f\"{sample_rate}\"],]\n",
        "      \n",
        "    waveform = torch.tensor(waveform.reshape(1,-1))\n",
        "    waveform2, sample_rate2 = torchaudio.sox_effects.apply_effects_tensor(waveform, sample_rate, effects)\n",
        "    waveform2 = np.array(waveform2).reshape(1,-1)\n",
        "    waveform2 = waveform2.reshape(-1,)\n",
        "    data_augmented.append([waveform2, sample_rate2, label])\n",
        "  return np.array(data_augmented, dtype=object)"
      ],
      "metadata": {
        "id": "S1Zxmj21gZuh"
      },
      "execution_count": null,
      "outputs": []
    },
    {
      "cell_type": "code",
      "source": [
        "train_data_aug = speed_augmentation(train_data)"
      ],
      "metadata": {
        "id": "-PqK4y9ekY6g"
      },
      "execution_count": null,
      "outputs": []
    },
    {
      "cell_type": "code",
      "source": [
        "train_data.shape"
      ],
      "metadata": {
        "colab": {
          "base_uri": "https://localhost:8080/"
        },
        "id": "0wmjTFeSnOTL",
        "outputId": "d2adad52-00f9-4459-acc5-2333e964e383"
      },
      "execution_count": null,
      "outputs": [
        {
          "output_type": "execute_result",
          "data": {
            "text/plain": [
              "(400, 3)"
            ]
          },
          "metadata": {},
          "execution_count": 55
        }
      ]
    },
    {
      "cell_type": "code",
      "source": [
        "train_data_aug.shape"
      ],
      "metadata": {
        "colab": {
          "base_uri": "https://localhost:8080/"
        },
        "id": "ZfZ5zNN5nf1s",
        "outputId": "25cae31b-3913-4f12-ec83-bd036c97b98a"
      },
      "execution_count": null,
      "outputs": [
        {
          "output_type": "execute_result",
          "data": {
            "text/plain": [
              "(400, 3)"
            ]
          },
          "metadata": {},
          "execution_count": 60
        }
      ]
    },
    {
      "cell_type": "code",
      "source": [
        "train_data = np.append(train_data, train_data_aug, axis = 0)"
      ],
      "metadata": {
        "id": "Nnt7erndnQM0"
      },
      "execution_count": null,
      "outputs": []
    },
    {
      "cell_type": "code",
      "source": [
        "train_data.shape"
      ],
      "metadata": {
        "colab": {
          "base_uri": "https://localhost:8080/"
        },
        "id": "VmQFrdD5nckD",
        "outputId": "e1f9968a-3139-42ec-ad73-5d52bb2a469a"
      },
      "execution_count": null,
      "outputs": [
        {
          "output_type": "execute_result",
          "data": {
            "text/plain": [
              "(800, 3)"
            ]
          },
          "metadata": {},
          "execution_count": 64
        }
      ]
    },
    {
      "cell_type": "markdown",
      "source": [
        "## add random padding"
      ],
      "metadata": {
        "id": "EFJdG8b-nmj3"
      }
    },
    {
      "cell_type": "code",
      "source": [
        "train_x = np.array(train_wav.data)\n",
        "test_x = np.array(test_wav.data)"
      ],
      "metadata": {
        "id": "yLQsbKuEcpQ5"
      },
      "execution_count": null,
      "outputs": []
    },
    {
      "cell_type": "code",
      "source": [
        "def get_max(data):\n",
        "\n",
        "    maxi = 1\n",
        "    for i in data:\n",
        "        if len(i) > maxi:\n",
        "            maxi = len(i)\n",
        "\n",
        "    return maxi\n",
        "\n",
        "train_max = get_max(train_x)\n",
        "test_max = get_max(test_x)"
      ],
      "metadata": {
        "id": "xOExiUtKcMjy"
      },
      "execution_count": null,
      "outputs": []
    },
    {
      "cell_type": "code",
      "source": [
        "print(train_max, test_max)"
      ],
      "metadata": {
        "colab": {
          "base_uri": "https://localhost:8080/"
        },
        "id": "MD_PBkrOcnQF",
        "outputId": "d23a0782-8558-4942-b389-c73f6be60263"
      },
      "execution_count": null,
      "outputs": [
        {
          "output_type": "stream",
          "name": "stdout",
          "text": [
            "15573 15744\n"
          ]
        }
      ]
    },
    {
      "cell_type": "code",
      "source": [
        "def add_padding_train(dataset):\n",
        "  data_augmented = []\n",
        "\n",
        "  for waveform, sample_rate, label in dataset:\n",
        "    pad_need = 16000 - len(waveform)\n",
        "    for i in range(5):\n",
        "      randint = np.random.randint(1, pad_need)\n",
        "\n",
        "      waveform2 = np.append(np.zeros(randint), np.append(waveform, np.zeros(pad_need-randint)))\n",
        "\n",
        "      data_augmented.append([waveform2, sample_rate, label])\n",
        "  return np.array(data_augmented, dtype=object)\n",
        "\n",
        "def add_padding_test(dataset):\n",
        "  data_augmented = []\n",
        "\n",
        "  for waveform, sample_rate, test_name in dataset:\n",
        "    pad_need = 16000 - len(waveform)\n",
        "    randint = np.random.randint(1, pad_need)\n",
        "    waveform2 = np.append(np.zeros(randint), np.append(waveform, np.zeros(pad_need-randint)))\n",
        "    data_augmented.append([waveform2, sample_rate, test_name])\n",
        "  return np.array(data_augmented, dtype=object)"
      ],
      "metadata": {
        "id": "Ki_2POJ8oAU_"
      },
      "execution_count": null,
      "outputs": []
    },
    {
      "cell_type": "code",
      "source": [
        "train_data = add_padding_train(train_data)"
      ],
      "metadata": {
        "id": "Hm6-gCyHptz-"
      },
      "execution_count": null,
      "outputs": []
    },
    {
      "cell_type": "code",
      "source": [
        "test_data.shape"
      ],
      "metadata": {
        "colab": {
          "base_uri": "https://localhost:8080/"
        },
        "id": "6eZSYPQArLTy",
        "outputId": "8cec9b47-120a-46ad-fc05-757cea72cb11"
      },
      "execution_count": null,
      "outputs": [
        {
          "output_type": "execute_result",
          "data": {
            "text/plain": [
              "(200, 3)"
            ]
          },
          "metadata": {},
          "execution_count": 135
        }
      ]
    },
    {
      "cell_type": "code",
      "source": [
        "test_data = add_padding_test(test_data)"
      ],
      "metadata": {
        "id": "vKHHhTmFrJPu"
      },
      "execution_count": null,
      "outputs": []
    },
    {
      "cell_type": "code",
      "source": [
        "train_data.shape"
      ],
      "metadata": {
        "colab": {
          "base_uri": "https://localhost:8080/"
        },
        "id": "Mk3JBFAiqmxm",
        "outputId": "4b807124-d2a7-49f9-8af4-bf1b37cd2f5d"
      },
      "execution_count": null,
      "outputs": [
        {
          "output_type": "execute_result",
          "data": {
            "text/plain": [
              "(4000, 3)"
            ]
          },
          "metadata": {},
          "execution_count": 112
        }
      ]
    },
    {
      "cell_type": "code",
      "source": [
        "train_x = train_data[:,0]"
      ],
      "metadata": {
        "id": "HN7miLJyqqby"
      },
      "execution_count": null,
      "outputs": []
    },
    {
      "cell_type": "code",
      "source": [
        "print(train_x.shape)"
      ],
      "metadata": {
        "colab": {
          "base_uri": "https://localhost:8080/"
        },
        "id": "o3bBp16bq9oC",
        "outputId": "563da99a-627f-4285-c191-7d3a8ac17665"
      },
      "execution_count": null,
      "outputs": [
        {
          "output_type": "stream",
          "name": "stdout",
          "text": [
            "(4000,)\n"
          ]
        }
      ]
    },
    {
      "cell_type": "code",
      "source": [
        "test_x = test_data[:, 0]"
      ],
      "metadata": {
        "id": "jrBiLyVlcsJL"
      },
      "execution_count": null,
      "outputs": []
    },
    {
      "cell_type": "code",
      "source": [
        "print('train :', train_x.shape)\n",
        "print('test :', test_x.shape)"
      ],
      "metadata": {
        "colab": {
          "base_uri": "https://localhost:8080/"
        },
        "id": "vYGBILQlsA5z",
        "outputId": "17bad93a-7ca1-4831-cb91-01be1efe5223"
      },
      "execution_count": null,
      "outputs": [
        {
          "output_type": "stream",
          "name": "stdout",
          "text": [
            "train : (4000,)\n",
            "test : (200,)\n"
          ]
        }
      ]
    },
    {
      "cell_type": "code",
      "source": [
        "train_y = train_data[:, 2]"
      ],
      "metadata": {
        "id": "ov9bsPeLy07x"
      },
      "execution_count": null,
      "outputs": []
    },
    {
      "cell_type": "code",
      "source": [
        "train_y.shape"
      ],
      "metadata": {
        "colab": {
          "base_uri": "https://localhost:8080/"
        },
        "id": "KS1VfSD8-H-k",
        "outputId": "9365d341-43e3-4de2-ae20-b4259bde926f"
      },
      "execution_count": null,
      "outputs": [
        {
          "output_type": "execute_result",
          "data": {
            "text/plain": [
              "(4000,)"
            ]
          },
          "metadata": {},
          "execution_count": 242
        }
      ]
    },
    {
      "cell_type": "markdown",
      "source": [
        "## make mfcc and melspectogram data"
      ],
      "metadata": {
        "id": "qVFb78MVsZHE"
      }
    },
    {
      "cell_type": "code",
      "source": [
        "def spec_to_image(spec, eps=1e-6):\n",
        "  mean = spec.mean()\n",
        "  std = spec.std()\n",
        "  spec_norm = (spec - mean) / (std + eps)\n",
        "  spec_min, spec_max = spec_norm.min(), spec_norm.max()\n",
        "  spec_scaled = (spec_norm - spec_min) / (spec_max - spec_min)\n",
        "  return spec_scaled"
      ],
      "metadata": {
        "id": "Vz-_sYBT1MLw"
      },
      "execution_count": null,
      "outputs": []
    },
    {
      "cell_type": "code",
      "source": [
        "audio_mfcc_train = []\n",
        "audio_mfcc_test = []\n",
        "audio_mels_train = []\n",
        "audio_mels_test = []\n",
        "\n",
        "for data in train_x:\n",
        "  extracted_features = librosa.feature.mfcc(y=data, sr=16000, n_mfcc=32)\n",
        "  audio_mfcc_train.append(spec_to_image(extracted_features))\n",
        "\n",
        "  extracted_features2 = librosa.feature.melspectrogram(y=data, sr=16000, n_mels=32)\n",
        "  extracted_features2 = librosa.power_to_db(extracted_features2, ref=np.max)\n",
        "  audio_mels_train.append(spec_to_image(extracted_features2))\n",
        "\n",
        "for data in test_x:\n",
        "  extracted_features = librosa.feature.mfcc(y=data, sr=16000, n_mfcc=32)\n",
        "  audio_mfcc_test.append(spec_to_image(extracted_features))\n",
        "\n",
        "  extracted_features2 = librosa.feature.melspectrogram(y=data, sr=16000, n_mels=32)\n",
        "  extracted_features2 = librosa.power_to_db(extracted_features2, ref=np.max)\n",
        "  audio_mels_test.append(spec_to_image(extracted_features2))"
      ],
      "metadata": {
        "id": "Qiu2Uh8qsFPq"
      },
      "execution_count": null,
      "outputs": []
    },
    {
      "cell_type": "code",
      "source": [
        "audio_mfcc_train = np.array(audio_mfcc_train).reshape(-1, 1, 32, 32)\n",
        "audio_mfcc_test = np.array(audio_mfcc_test).reshape(-1, 1, 32, 32)\n",
        "audio_mels_train = np.array(audio_mels_train).reshape(-1, 1, 32, 32)\n",
        "audio_mels_test = np.array(audio_mels_test).reshape(-1, 1, 32, 32)"
      ],
      "metadata": {
        "id": "l4AsMHpwzHFq"
      },
      "execution_count": null,
      "outputs": []
    },
    {
      "cell_type": "markdown",
      "source": [
        "## create simple cnn model using pytorch"
      ],
      "metadata": {
        "id": "CCAGkmcR0C1T"
      }
    },
    {
      "cell_type": "code",
      "source": [
        "import torch.nn as nn\n",
        "\n",
        "class CNNclassification(torch.nn.Module):\n",
        "    def __init__(self):\n",
        "        super(CNNclassification, self).__init__()\n",
        "        self.layer1 = torch.nn.Sequential(\n",
        "            nn.Conv2d(1, 64, kernel_size=(3, 3), padding=1), #cnn layer\n",
        "            nn.ReLU(), #activation function\n",
        "            nn.MaxPool2d(kernel_size=2, stride=2)) #pooling layer\n",
        "        \n",
        "        self.layer2 = torch.nn.Sequential(\n",
        "            nn.Conv2d(64, 128, kernel_size=(3, 3), padding=1), #cnn layer\n",
        "            nn.ReLU(), #activation function\n",
        "            nn.MaxPool2d(kernel_size=2, stride=2)) #pooling layer\n",
        "        \n",
        "        self.layer3 = torch.nn.Sequential(\n",
        "            nn.Conv2d(128, 256, kernel_size=(3, 3), padding=1), #cnn layer\n",
        "            nn.ReLU(), #activation function\n",
        "            nn.MaxPool2d(kernel_size=2, stride=2)) #pooling layer\n",
        "        \n",
        "        self.layer4 = torch.nn.Sequential(\n",
        "            nn.Conv2d(256, 512, kernel_size=(3, 3), padding=1), #cnn layer\n",
        "            nn.ReLU(), #activation function\n",
        "            nn.MaxPool2d(kernel_size=2, stride=2)) #pooling layer\n",
        "        \n",
        "        self.fc_layer = nn.Sequential( \n",
        "            nn.Linear(2048, 10) #fully connected layer(ouput layer)\n",
        "        )    \n",
        "        \n",
        "    def forward(self, x):\n",
        "        \n",
        "        x = self.layer1(x) #1층\n",
        "        \n",
        "        x = self.layer2(x) #2층\n",
        "         \n",
        "        x = self.layer3(x) #3층\n",
        "        \n",
        "        x = self.layer4(x) #4층\n",
        "        \n",
        "        x = torch.flatten(x, 1) # N차원 배열 -> 1차원 배열\n",
        "        \n",
        "        x = self.fc_layer(x)\n",
        "        return x\n",
        "\n",
        "model = CNNclassification()"
      ],
      "metadata": {
        "id": "HLKAve-_2QM2"
      },
      "execution_count": null,
      "outputs": []
    },
    {
      "cell_type": "code",
      "source": [
        "pip install torchinfo"
      ],
      "metadata": {
        "colab": {
          "base_uri": "https://localhost:8080/"
        },
        "id": "_GQi7cAX5ijO",
        "outputId": "070703c8-e7d0-4fa2-9c00-9a5a8be483ec"
      },
      "execution_count": null,
      "outputs": [
        {
          "output_type": "stream",
          "name": "stdout",
          "text": [
            "Looking in indexes: https://pypi.org/simple, https://us-python.pkg.dev/colab-wheels/public/simple/\n",
            "Requirement already satisfied: torchinfo in /usr/local/lib/python3.7/dist-packages (1.7.0)\n"
          ]
        }
      ]
    },
    {
      "cell_type": "code",
      "source": [
        "from torchinfo import summary\n",
        "\n",
        "print(summary(model, input_size = (1,1,32,32)))"
      ],
      "metadata": {
        "colab": {
          "base_uri": "https://localhost:8080/"
        },
        "id": "2BYS7sJ-5YAo",
        "outputId": "707d8110-d57e-4348-c5ba-2b8e869d3d17"
      },
      "execution_count": null,
      "outputs": [
        {
          "output_type": "stream",
          "name": "stdout",
          "text": [
            "==========================================================================================\n",
            "Layer (type:depth-idx)                   Output Shape              Param #\n",
            "==========================================================================================\n",
            "CNNclassification                        [1, 10]                   --\n",
            "├─Sequential: 1-1                        [1, 64, 16, 16]           --\n",
            "│    └─Conv2d: 2-1                       [1, 64, 32, 32]           640\n",
            "│    └─ReLU: 2-2                         [1, 64, 32, 32]           --\n",
            "│    └─MaxPool2d: 2-3                    [1, 64, 16, 16]           --\n",
            "├─Sequential: 1-2                        [1, 128, 8, 8]            --\n",
            "│    └─Conv2d: 2-4                       [1, 128, 16, 16]          73,856\n",
            "│    └─ReLU: 2-5                         [1, 128, 16, 16]          --\n",
            "│    └─MaxPool2d: 2-6                    [1, 128, 8, 8]            --\n",
            "├─Sequential: 1-3                        [1, 256, 4, 4]            --\n",
            "│    └─Conv2d: 2-7                       [1, 256, 8, 8]            295,168\n",
            "│    └─ReLU: 2-8                         [1, 256, 8, 8]            --\n",
            "│    └─MaxPool2d: 2-9                    [1, 256, 4, 4]            --\n",
            "├─Sequential: 1-4                        [1, 512, 2, 2]            --\n",
            "│    └─Conv2d: 2-10                      [1, 512, 4, 4]            1,180,160\n",
            "│    └─ReLU: 2-11                        [1, 512, 4, 4]            --\n",
            "│    └─MaxPool2d: 2-12                   [1, 512, 2, 2]            --\n",
            "├─Sequential: 1-5                        [1, 10]                   --\n",
            "│    └─Linear: 2-13                      [1, 10]                   20,490\n",
            "==========================================================================================\n",
            "Total params: 1,570,314\n",
            "Trainable params: 1,570,314\n",
            "Non-trainable params: 0\n",
            "Total mult-adds (M): 57.36\n",
            "==========================================================================================\n",
            "Input size (MB): 0.00\n",
            "Forward/backward pass size (MB): 0.98\n",
            "Params size (MB): 6.28\n",
            "Estimated Total Size (MB): 7.27\n",
            "==========================================================================================\n"
          ]
        }
      ]
    },
    {
      "cell_type": "code",
      "source": [
        "import torchvision.datasets as datasets # 데이터셋 집합체\n",
        "import torchvision.transforms as transforms # 변환 툴\n",
        "\n",
        "from torch.utils.data import DataLoader # 학습 및 배치로 모델에 넣어주기 위한 툴\n",
        "from torch.utils.data import DataLoader, Dataset\n",
        "\n",
        "class CustomDataset(Dataset):\n",
        "    def __init__(self, X, y, train_mode=True, transforms=None): #필요한 변수들을 선언\n",
        "        self.X = X\n",
        "        self.y = y\n",
        "        self.train_mode = train_mode\n",
        "        self.transforms = transforms\n",
        "\n",
        "    def __getitem__(self, index): #index번째 data를 return\n",
        "        X = self.X[index]\n",
        "        \n",
        "        if self.transforms is not None:\n",
        "            X = self.transforms(X)\n",
        "\n",
        "        if self.train_mode:\n",
        "            y = self.y[index]\n",
        "            return X, y\n",
        "        else:\n",
        "            return X\n",
        "    \n",
        "    def __len__(self): #길이 return\n",
        "        return len(self.X)"
      ],
      "metadata": {
        "id": "BCWKFvcx-1eR"
      },
      "execution_count": null,
      "outputs": []
    },
    {
      "cell_type": "markdown",
      "source": [
        "## train via mfcc"
      ],
      "metadata": {
        "id": "2ipjS-da_FKe"
      }
    },
    {
      "cell_type": "code",
      "source": [
        "from tqdm.auto import tqdm\n",
        "\n",
        "def train(model, optimizer, train_loader, scheduler, device): \n",
        "    model.to(device)\n",
        "    n = len(train_loader)\n",
        "    best_acc = 0\n",
        "    \n",
        "    for epoch in range(1,num_epochs): #에포크 설정\n",
        "        model.train() #모델 학습\n",
        "        running_loss = 0.0\n",
        "        \n",
        "        for wav, label in tqdm(iter(train_loader), disable=True):\n",
        "            \n",
        "            wav, label = wav.type(torch.FloatTensor), label.type(torch.long)\n",
        "\n",
        "            wav, label = wav.to(device), label.to(device) #배치 데이터\n",
        "            optimizer.zero_grad() #배치마다 optimizer 초기화\n",
        "        \n",
        "            # Data -> Model -> Output\n",
        "            logit = model(wav) #예측값 산출\n",
        "            loss = criterion(logit, label) #손실함수 계산\n",
        "            \n",
        "            # 역전파\n",
        "            loss.backward() #손실함수 기준 역전파 \n",
        "            optimizer.step() #가중치 최적화\n",
        "            running_loss += loss.item()\n",
        "        \n",
        "        if scheduler is not None:\n",
        "            scheduler.step()\n",
        "            \n",
        "            \n",
        "        #Validation set 평가\n",
        "        model.eval() #evaluation 과정에서 사용하지 않아야 하는 layer들을 알아서 off 시키도록 하는 함수\n",
        "        vali_loss = 0.0\n",
        "        correct = 0\n",
        "       \n",
        "        with torch.no_grad(): #파라미터 업데이트 안하기 때문에 no_grad 사용\n",
        "            for wav, label in tqdm(iter(vali_loader), disable=True):\n",
        "\n",
        "                wav, label = wav.type(torch.FloatTensor), label.type(torch.long)\n",
        "                \n",
        "                wav, label = wav.to(device), label.to(device)\n",
        "                logit = model(wav)\n",
        "                vali_loss += criterion(logit, label)\n",
        "                pred = logit.argmax(dim=1, keepdim=True)  #10개의 class중 가장 값이 높은 것을 예측 label로 추출\n",
        "                correct += pred.eq(label.view_as(pred)).sum().item() #예측값과 실제값이 맞으면 1 아니면 0으로 합산\n",
        "        vali_acc = 100 * correct / len(vali_loader.dataset)\n",
        "        #print('Vail set: Loss: {:.4f}, Accuracy: {}/{} ( {:.0f}%)\\n'.format(vali_loss / len(vali_loader), correct, len(vali_loader.dataset), 100 * correct / len(vali_loader.dataset)))\n",
        "        \n",
        "        #베스트 모델 저장\n",
        "        if best_acc < vali_acc:\n",
        "            best_acc = vali_acc\n",
        "            torch.save(model.state_dict(), 'best_model.pth') #이 디렉토리에 best_model.pth을 저장\n",
        "\n",
        "def predict_valid(model, vali_loader, device):\n",
        "    model.eval()\n",
        "    vali_loss = 0.0\n",
        "    correct = 0\n",
        "    with torch.no_grad(): #파라미터 업데이트 안하기 때문에 no_grad 사용\n",
        "        for wav, label in tqdm(iter(vali_loader), disable=True):\n",
        "            \n",
        "            wav, label = wav.type(torch.FloatTensor), label.type(torch.long)\n",
        "\n",
        "            wav, label = wav.to(device), label.to(device) #배치 데이터\n",
        "\n",
        "            logit = model(wav)\n",
        "            vali_loss += criterion(logit, label)\n",
        "\n",
        "            pred = logit.argmax(dim=1, keepdim=True)  #10개의 class중 가장 값이 높은 것을 예측 label로 추출\n",
        "            correct += pred.eq(label.view_as(pred)).sum().item() #예측값과 실제값이 맞으면 1 아니면 0으로 합산\n",
        "    vali_acc = 100 * correct / len(vali_loader.dataset)\n",
        "    return vali_acc    \n",
        "\n",
        "def predict(model, test_loader, device):\n",
        "    model.eval()\n",
        "    model_pred = []\n",
        "    with torch.no_grad():\n",
        "        for wav in tqdm(iter(test_loader), disable=True):\n",
        "            wav = wav.type(torch.FloatTensor)\n",
        "\n",
        "            wav = wav.to(device)\n",
        "            \n",
        "            pred_logit = model(wav)\n",
        "\n",
        "            model_pred.extend(pred_logit.tolist())\n",
        "    return model_pred"
      ],
      "metadata": {
        "id": "lwmK4R-nAIcZ"
      },
      "execution_count": null,
      "outputs": []
    },
    {
      "cell_type": "code",
      "source": [
        "from sklearn.model_selection import StratifiedKFold\n",
        "from sklearn.preprocessing import LabelEncoder\n",
        "from sklearn.metrics import accuracy_score\n",
        "\n",
        "label_encoder = LabelEncoder()\n",
        "\n",
        "num_epochs = 70\n",
        "batch_size = 32\n",
        "\n",
        "skf = StratifiedKFold(n_splits = 10, random_state = 42, shuffle = True) #총 5번의 fold 진행\n",
        "\n",
        "n = 0\n",
        "\n",
        "pred_list = []\n",
        "\n",
        "for train_index, valid_index in skf.split(audio_mfcc_train, label_encoder.fit_transform(train_y)):\n",
        "  n += 1\n",
        "\n",
        "  print(\"===== %d fold =====\" %(n))\n",
        "\n",
        " \n",
        "  ## mfcc\n",
        "  X_train, X_valid = audio_mfcc_train[train_index], audio_mfcc_train[valid_index]\n",
        "  y_train, y_valid = train_y[train_index], train_y[valid_index]\n",
        "  '''\n",
        "  train_dataset = CustomDataset(X=X_train, y=y_train)\n",
        "  train_loader = DataLoader(train_dataset, batch_size = batch_size, shuffle=True)\n",
        "\n",
        "  vali_dataset = CustomDataset(X=X_valid, y=y_valid)\n",
        "  vali_loader = DataLoader(vali_dataset, batch_size = batch_size, shuffle=False)\n",
        "\n",
        "  model = CNNclassification2().to(device)\n",
        "  criterion = torch.nn.CrossEntropyLoss().to(device)\n",
        "  optimizer = torch.optim.Adam(params = model.parameters(), lr = 0.001)\n",
        "  scheduler = None\n",
        "\n",
        "  train(model, optimizer, train_loader, scheduler, device)\n",
        "\n",
        "  test_dataset = CustomDataset(X=audio_mfcc_test, y= None, train_mode=False)\n",
        "  test_loader = DataLoader(test_dataset, batch_size = batch_size, shuffle=False)\n",
        "\n",
        "  # Validation Accuracy가 가장 뛰어난 모델을 불러옵니다.\n",
        "  checkpoint = torch.load('best_model.pth')\n",
        "  model = CNNclassification2().to(device)\n",
        "  model.load_state_dict(checkpoint)\n",
        "\n",
        "  print(\"%d fold mfcc score : %d%%\" %(n, predict_valid(model, vali_loader, device)))\n",
        "\n",
        "  mfcc_preds = predict(model, test_loader, device)\n",
        "  '''\n",
        "\n",
        "  ## melspectogram\n",
        "  X_train, X_valid = audio_mels_train[train_index], audio_mels_train[valid_index]\n",
        "\n",
        "  train_dataset = CustomDataset(X=X_train, y=y_train)\n",
        "  train_loader = DataLoader(train_dataset, batch_size = batch_size, shuffle=True)\n",
        "\n",
        "  vali_dataset = CustomDataset(X=X_valid, y=y_valid)\n",
        "  vali_loader = DataLoader(vali_dataset, batch_size = batch_size, shuffle=False)\n",
        "\n",
        "  model = CNNclassification().to(device)\n",
        "  criterion = torch.nn.CrossEntropyLoss().to(device)\n",
        "  optimizer = torch.optim.Adam(params = model.parameters(), lr = 0.001)\n",
        "  scheduler = None\n",
        "\n",
        "  train(model, optimizer, train_loader, scheduler, device)\n",
        "\n",
        "  test_dataset = CustomDataset(X=audio_mels_test, y= None, train_mode=False)\n",
        "  test_loader = DataLoader(test_dataset, batch_size = batch_size, shuffle=False)\n",
        "\n",
        "  # Validation Accuracy가 가장 뛰어난 모델을 불러옵니다.\n",
        "  checkpoint = torch.load('best_model.pth')\n",
        "  model = CNNclassification().to(device)\n",
        "  model.load_state_dict(checkpoint)\n",
        "\n",
        "  print(\"%d fold mels score : %d%%\" %(n, predict_valid(model, vali_loader, device)))\n",
        "\n",
        "  mels_preds = predict(model, test_loader, device)\n",
        "\n",
        "  #pred_list.append(np.array(mfcc_preds) + np.array(mels_preds))\n",
        "  pred_list.append(np.array(mels_preds))"
      ],
      "metadata": {
        "colab": {
          "base_uri": "https://localhost:8080/"
        },
        "id": "74VzZc3e5kwk",
        "outputId": "cbb13e86-1fec-4ce0-e0cd-5b4f5057b507"
      },
      "execution_count": null,
      "outputs": [
        {
          "output_type": "stream",
          "name": "stdout",
          "text": [
            "===== 1 fold =====\n",
            "1 fold mels score : 100%\n",
            "===== 2 fold =====\n",
            "2 fold mels score : 100%\n",
            "===== 3 fold =====\n",
            "3 fold mels score : 100%\n",
            "===== 4 fold =====\n",
            "4 fold mels score : 100%\n",
            "===== 5 fold =====\n",
            "5 fold mels score : 99%\n",
            "===== 6 fold =====\n",
            "6 fold mels score : 100%\n",
            "===== 7 fold =====\n",
            "7 fold mels score : 99%\n",
            "===== 8 fold =====\n",
            "8 fold mels score : 99%\n",
            "===== 9 fold =====\n",
            "9 fold mels score : 99%\n",
            "===== 10 fold =====\n",
            "10 fold mels score : 100%\n"
          ]
        }
      ]
    },
    {
      "cell_type": "markdown",
      "source": [
        "## submit 10 fold cv result"
      ],
      "metadata": {
        "id": "DhngQ5ni12O8"
      }
    },
    {
      "cell_type": "code",
      "source": [
        "pred_proba = pred_list[0]\n",
        "pred_proba = np.array(pred_proba)\n",
        "print(pred_proba[0])\n",
        "\n",
        "for x in range(1, 10):\n",
        "    pred_proba += pred_list[x]\n",
        "    print(pred_list[x][0])\n",
        "\n",
        "pred_class = []\n",
        "\n",
        "for i in pred_proba:\n",
        "    pred = np.argmax(i)\n",
        "    pred_class.append(pred)"
      ],
      "metadata": {
        "colab": {
          "base_uri": "https://localhost:8080/"
        },
        "id": "x6DsrkvUQ60l",
        "outputId": "18863a73-87ca-4795-d2aa-9523e6a7c52c"
      },
      "execution_count": null,
      "outputs": [
        {
          "output_type": "stream",
          "name": "stdout",
          "text": [
            "[ 12.11338902 -29.68893051   2.38490057  -0.67388457 -16.66025162\n",
            " -11.27813816 -10.31386471  -1.9040705  -25.38279533   0.0583332 ]\n",
            "[ 11.83879375 -25.16182137   5.76404667  -0.69165313 -13.26419449\n",
            " -10.08846664 -11.20291901  -0.33122888 -21.94761848   2.94140911]\n",
            "[ 16.13591576 -31.49822426   3.54072833  -1.13393652 -24.62070656\n",
            " -13.91210556  -9.21488571  -2.41283989 -25.28068352   1.10930693]\n",
            "[ 12.97489452 -21.92676926   2.32835364  -1.8964628  -16.05875587\n",
            " -10.98121071  -3.77511001   1.76216745 -12.91107559   1.78104377]\n",
            "[ 15.19774342 -28.77054214   5.67140961  -4.32099009 -18.798769\n",
            "  -9.71912479 -13.19395542   1.41473305 -20.65965652   1.69770455]\n",
            "[ 13.09883785 -28.07902336   3.53971982  -2.20593429 -21.50437164\n",
            " -10.13330078  -4.8013339   -0.78275454 -18.53122139  -2.35971189]\n",
            "[ 13.32914639 -26.17148781   5.58505535  -1.86449242 -15.96135712\n",
            "  -8.01762009  -9.50854111   0.29280996 -17.20223999   1.69409251]\n",
            "[ 11.9453516  -22.46689796   3.68034673   1.191149   -14.18681526\n",
            " -11.87823391  -7.51633024  -1.83486986 -16.79410172   1.37188768]\n",
            "[ 13.68669319 -27.5681572    6.83342838  -3.68032718 -17.06648636\n",
            " -12.00146484 -11.70886326  -0.38512149 -15.74168682   0.60701621]\n",
            "[ 10.9712534  -18.83523369   3.67011333  -0.51951289 -10.93802643\n",
            "  -8.25965405  -3.87609959   1.49744785 -14.85454655  -1.25333631]\n"
          ]
        }
      ]
    },
    {
      "cell_type": "code",
      "source": [
        "test_wav['label'] = pred_class\n",
        "test_wav = test_wav[['file_name', 'label']]\n",
        "\n",
        "pred_df = test_wav.copy()\n",
        "pred_df = pred_df.sort_values(by=[pred_df.columns[0]], ascending=[True]).reset_index(drop=True)\n",
        "pred_df.head()"
      ],
      "metadata": {
        "colab": {
          "base_uri": "https://localhost:8080/",
          "height": 206
        },
        "id": "_uCJ_6fOEPHQ",
        "outputId": "65f7ea8b-3a61-4d9b-a566-36acd3962921"
      },
      "execution_count": null,
      "outputs": [
        {
          "output_type": "execute_result",
          "data": {
            "text/plain": [
              "  file_name  label\n",
              "0   003.wav      0\n",
              "1   008.wav      9\n",
              "2   010.wav      3\n",
              "3   015.wav      8\n",
              "4   024.wav      2"
            ],
            "text/html": [
              "\n",
              "  <div id=\"df-730a8d73-3cd1-40be-9687-897cfd762e4e\">\n",
              "    <div class=\"colab-df-container\">\n",
              "      <div>\n",
              "<style scoped>\n",
              "    .dataframe tbody tr th:only-of-type {\n",
              "        vertical-align: middle;\n",
              "    }\n",
              "\n",
              "    .dataframe tbody tr th {\n",
              "        vertical-align: top;\n",
              "    }\n",
              "\n",
              "    .dataframe thead th {\n",
              "        text-align: right;\n",
              "    }\n",
              "</style>\n",
              "<table border=\"1\" class=\"dataframe\">\n",
              "  <thead>\n",
              "    <tr style=\"text-align: right;\">\n",
              "      <th></th>\n",
              "      <th>file_name</th>\n",
              "      <th>label</th>\n",
              "    </tr>\n",
              "  </thead>\n",
              "  <tbody>\n",
              "    <tr>\n",
              "      <th>0</th>\n",
              "      <td>003.wav</td>\n",
              "      <td>0</td>\n",
              "    </tr>\n",
              "    <tr>\n",
              "      <th>1</th>\n",
              "      <td>008.wav</td>\n",
              "      <td>9</td>\n",
              "    </tr>\n",
              "    <tr>\n",
              "      <th>2</th>\n",
              "      <td>010.wav</td>\n",
              "      <td>3</td>\n",
              "    </tr>\n",
              "    <tr>\n",
              "      <th>3</th>\n",
              "      <td>015.wav</td>\n",
              "      <td>8</td>\n",
              "    </tr>\n",
              "    <tr>\n",
              "      <th>4</th>\n",
              "      <td>024.wav</td>\n",
              "      <td>2</td>\n",
              "    </tr>\n",
              "  </tbody>\n",
              "</table>\n",
              "</div>\n",
              "      <button class=\"colab-df-convert\" onclick=\"convertToInteractive('df-730a8d73-3cd1-40be-9687-897cfd762e4e')\"\n",
              "              title=\"Convert this dataframe to an interactive table.\"\n",
              "              style=\"display:none;\">\n",
              "        \n",
              "  <svg xmlns=\"http://www.w3.org/2000/svg\" height=\"24px\"viewBox=\"0 0 24 24\"\n",
              "       width=\"24px\">\n",
              "    <path d=\"M0 0h24v24H0V0z\" fill=\"none\"/>\n",
              "    <path d=\"M18.56 5.44l.94 2.06.94-2.06 2.06-.94-2.06-.94-.94-2.06-.94 2.06-2.06.94zm-11 1L8.5 8.5l.94-2.06 2.06-.94-2.06-.94L8.5 2.5l-.94 2.06-2.06.94zm10 10l.94 2.06.94-2.06 2.06-.94-2.06-.94-.94-2.06-.94 2.06-2.06.94z\"/><path d=\"M17.41 7.96l-1.37-1.37c-.4-.4-.92-.59-1.43-.59-.52 0-1.04.2-1.43.59L10.3 9.45l-7.72 7.72c-.78.78-.78 2.05 0 2.83L4 21.41c.39.39.9.59 1.41.59.51 0 1.02-.2 1.41-.59l7.78-7.78 2.81-2.81c.8-.78.8-2.07 0-2.86zM5.41 20L4 18.59l7.72-7.72 1.47 1.35L5.41 20z\"/>\n",
              "  </svg>\n",
              "      </button>\n",
              "      \n",
              "  <style>\n",
              "    .colab-df-container {\n",
              "      display:flex;\n",
              "      flex-wrap:wrap;\n",
              "      gap: 12px;\n",
              "    }\n",
              "\n",
              "    .colab-df-convert {\n",
              "      background-color: #E8F0FE;\n",
              "      border: none;\n",
              "      border-radius: 50%;\n",
              "      cursor: pointer;\n",
              "      display: none;\n",
              "      fill: #1967D2;\n",
              "      height: 32px;\n",
              "      padding: 0 0 0 0;\n",
              "      width: 32px;\n",
              "    }\n",
              "\n",
              "    .colab-df-convert:hover {\n",
              "      background-color: #E2EBFA;\n",
              "      box-shadow: 0px 1px 2px rgba(60, 64, 67, 0.3), 0px 1px 3px 1px rgba(60, 64, 67, 0.15);\n",
              "      fill: #174EA6;\n",
              "    }\n",
              "\n",
              "    [theme=dark] .colab-df-convert {\n",
              "      background-color: #3B4455;\n",
              "      fill: #D2E3FC;\n",
              "    }\n",
              "\n",
              "    [theme=dark] .colab-df-convert:hover {\n",
              "      background-color: #434B5C;\n",
              "      box-shadow: 0px 1px 3px 1px rgba(0, 0, 0, 0.15);\n",
              "      filter: drop-shadow(0px 1px 2px rgba(0, 0, 0, 0.3));\n",
              "      fill: #FFFFFF;\n",
              "    }\n",
              "  </style>\n",
              "\n",
              "      <script>\n",
              "        const buttonEl =\n",
              "          document.querySelector('#df-730a8d73-3cd1-40be-9687-897cfd762e4e button.colab-df-convert');\n",
              "        buttonEl.style.display =\n",
              "          google.colab.kernel.accessAllowed ? 'block' : 'none';\n",
              "\n",
              "        async function convertToInteractive(key) {\n",
              "          const element = document.querySelector('#df-730a8d73-3cd1-40be-9687-897cfd762e4e');\n",
              "          const dataTable =\n",
              "            await google.colab.kernel.invokeFunction('convertToInteractive',\n",
              "                                                     [key], {});\n",
              "          if (!dataTable) return;\n",
              "\n",
              "          const docLinkHtml = 'Like what you see? Visit the ' +\n",
              "            '<a target=\"_blank\" href=https://colab.research.google.com/notebooks/data_table.ipynb>data table notebook</a>'\n",
              "            + ' to learn more about interactive tables.';\n",
              "          element.innerHTML = '';\n",
              "          dataTable['output_type'] = 'display_data';\n",
              "          await google.colab.output.renderOutput(dataTable, element);\n",
              "          const docLink = document.createElement('div');\n",
              "          docLink.innerHTML = docLinkHtml;\n",
              "          element.appendChild(docLink);\n",
              "        }\n",
              "      </script>\n",
              "    </div>\n",
              "  </div>\n",
              "  "
            ]
          },
          "metadata": {},
          "execution_count": 417
        }
      ]
    },
    {
      "cell_type": "code",
      "source": [
        "submission = pd.read_csv('/content/drive/My Drive/audio-data/sample_submission.csv')\n",
        "submission['label'] = pred_df['label']\n",
        "submission.head()"
      ],
      "metadata": {
        "colab": {
          "base_uri": "https://localhost:8080/",
          "height": 206
        },
        "id": "HyNKn-vhERSN",
        "outputId": "d86e376f-e704-4112-b2d7-290b2d5dbe6a"
      },
      "execution_count": null,
      "outputs": [
        {
          "output_type": "execute_result",
          "data": {
            "text/plain": [
              "  file_name  label\n",
              "0   003.wav      0\n",
              "1   008.wav      9\n",
              "2   010.wav      3\n",
              "3   015.wav      8\n",
              "4   024.wav      2"
            ],
            "text/html": [
              "\n",
              "  <div id=\"df-de180b39-eb8f-4a0a-8bac-c8eaef508305\">\n",
              "    <div class=\"colab-df-container\">\n",
              "      <div>\n",
              "<style scoped>\n",
              "    .dataframe tbody tr th:only-of-type {\n",
              "        vertical-align: middle;\n",
              "    }\n",
              "\n",
              "    .dataframe tbody tr th {\n",
              "        vertical-align: top;\n",
              "    }\n",
              "\n",
              "    .dataframe thead th {\n",
              "        text-align: right;\n",
              "    }\n",
              "</style>\n",
              "<table border=\"1\" class=\"dataframe\">\n",
              "  <thead>\n",
              "    <tr style=\"text-align: right;\">\n",
              "      <th></th>\n",
              "      <th>file_name</th>\n",
              "      <th>label</th>\n",
              "    </tr>\n",
              "  </thead>\n",
              "  <tbody>\n",
              "    <tr>\n",
              "      <th>0</th>\n",
              "      <td>003.wav</td>\n",
              "      <td>0</td>\n",
              "    </tr>\n",
              "    <tr>\n",
              "      <th>1</th>\n",
              "      <td>008.wav</td>\n",
              "      <td>9</td>\n",
              "    </tr>\n",
              "    <tr>\n",
              "      <th>2</th>\n",
              "      <td>010.wav</td>\n",
              "      <td>3</td>\n",
              "    </tr>\n",
              "    <tr>\n",
              "      <th>3</th>\n",
              "      <td>015.wav</td>\n",
              "      <td>8</td>\n",
              "    </tr>\n",
              "    <tr>\n",
              "      <th>4</th>\n",
              "      <td>024.wav</td>\n",
              "      <td>2</td>\n",
              "    </tr>\n",
              "  </tbody>\n",
              "</table>\n",
              "</div>\n",
              "      <button class=\"colab-df-convert\" onclick=\"convertToInteractive('df-de180b39-eb8f-4a0a-8bac-c8eaef508305')\"\n",
              "              title=\"Convert this dataframe to an interactive table.\"\n",
              "              style=\"display:none;\">\n",
              "        \n",
              "  <svg xmlns=\"http://www.w3.org/2000/svg\" height=\"24px\"viewBox=\"0 0 24 24\"\n",
              "       width=\"24px\">\n",
              "    <path d=\"M0 0h24v24H0V0z\" fill=\"none\"/>\n",
              "    <path d=\"M18.56 5.44l.94 2.06.94-2.06 2.06-.94-2.06-.94-.94-2.06-.94 2.06-2.06.94zm-11 1L8.5 8.5l.94-2.06 2.06-.94-2.06-.94L8.5 2.5l-.94 2.06-2.06.94zm10 10l.94 2.06.94-2.06 2.06-.94-2.06-.94-.94-2.06-.94 2.06-2.06.94z\"/><path d=\"M17.41 7.96l-1.37-1.37c-.4-.4-.92-.59-1.43-.59-.52 0-1.04.2-1.43.59L10.3 9.45l-7.72 7.72c-.78.78-.78 2.05 0 2.83L4 21.41c.39.39.9.59 1.41.59.51 0 1.02-.2 1.41-.59l7.78-7.78 2.81-2.81c.8-.78.8-2.07 0-2.86zM5.41 20L4 18.59l7.72-7.72 1.47 1.35L5.41 20z\"/>\n",
              "  </svg>\n",
              "      </button>\n",
              "      \n",
              "  <style>\n",
              "    .colab-df-container {\n",
              "      display:flex;\n",
              "      flex-wrap:wrap;\n",
              "      gap: 12px;\n",
              "    }\n",
              "\n",
              "    .colab-df-convert {\n",
              "      background-color: #E8F0FE;\n",
              "      border: none;\n",
              "      border-radius: 50%;\n",
              "      cursor: pointer;\n",
              "      display: none;\n",
              "      fill: #1967D2;\n",
              "      height: 32px;\n",
              "      padding: 0 0 0 0;\n",
              "      width: 32px;\n",
              "    }\n",
              "\n",
              "    .colab-df-convert:hover {\n",
              "      background-color: #E2EBFA;\n",
              "      box-shadow: 0px 1px 2px rgba(60, 64, 67, 0.3), 0px 1px 3px 1px rgba(60, 64, 67, 0.15);\n",
              "      fill: #174EA6;\n",
              "    }\n",
              "\n",
              "    [theme=dark] .colab-df-convert {\n",
              "      background-color: #3B4455;\n",
              "      fill: #D2E3FC;\n",
              "    }\n",
              "\n",
              "    [theme=dark] .colab-df-convert:hover {\n",
              "      background-color: #434B5C;\n",
              "      box-shadow: 0px 1px 3px 1px rgba(0, 0, 0, 0.15);\n",
              "      filter: drop-shadow(0px 1px 2px rgba(0, 0, 0, 0.3));\n",
              "      fill: #FFFFFF;\n",
              "    }\n",
              "  </style>\n",
              "\n",
              "      <script>\n",
              "        const buttonEl =\n",
              "          document.querySelector('#df-de180b39-eb8f-4a0a-8bac-c8eaef508305 button.colab-df-convert');\n",
              "        buttonEl.style.display =\n",
              "          google.colab.kernel.accessAllowed ? 'block' : 'none';\n",
              "\n",
              "        async function convertToInteractive(key) {\n",
              "          const element = document.querySelector('#df-de180b39-eb8f-4a0a-8bac-c8eaef508305');\n",
              "          const dataTable =\n",
              "            await google.colab.kernel.invokeFunction('convertToInteractive',\n",
              "                                                     [key], {});\n",
              "          if (!dataTable) return;\n",
              "\n",
              "          const docLinkHtml = 'Like what you see? Visit the ' +\n",
              "            '<a target=\"_blank\" href=https://colab.research.google.com/notebooks/data_table.ipynb>data table notebook</a>'\n",
              "            + ' to learn more about interactive tables.';\n",
              "          element.innerHTML = '';\n",
              "          dataTable['output_type'] = 'display_data';\n",
              "          await google.colab.output.renderOutput(dataTable, element);\n",
              "          const docLink = document.createElement('div');\n",
              "          docLink.innerHTML = docLinkHtml;\n",
              "          element.appendChild(docLink);\n",
              "        }\n",
              "      </script>\n",
              "    </div>\n",
              "  </div>\n",
              "  "
            ]
          },
          "metadata": {},
          "execution_count": 418
        }
      ]
    },
    {
      "cell_type": "code",
      "source": [
        "submission.to_csv('/content/drive/My Drive/audio-data/submit3_mels_10fold.csv', index=False)"
      ],
      "metadata": {
        "id": "vB2O26rwEtyv"
      },
      "execution_count": null,
      "outputs": []
    },
    {
      "cell_type": "code",
      "source": [
        ""
      ],
      "metadata": {
        "id": "qUhr72DZYUDI"
      },
      "execution_count": null,
      "outputs": []
    }
  ]
}